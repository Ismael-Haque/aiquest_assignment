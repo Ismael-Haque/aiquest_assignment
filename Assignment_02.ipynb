{
 "cells": [
  {
   "cell_type": "markdown",
   "id": "8fc6321f",
   "metadata": {},
   "source": [
    "### 1. Take values of the length & breadth of a rectangle from user input and check if it is square or not."
   ]
  },
  {
   "cell_type": "code",
   "execution_count": 9,
   "id": "6b8aa40f",
   "metadata": {},
   "outputs": [
    {
     "name": "stdout",
     "output_type": "stream",
     "text": [
      "Please input length of a rectangle : 10\n",
      "Please input breadth of a rectange : 10\n",
      "This is a square\n"
     ]
    }
   ],
   "source": [
    "length = int(input(\"Please input length of a rectangle : \"))\n",
    "breadth = int(input(\"Please input breadth of a rectange : \"))\n",
    "\n",
    "if length == breadth:\n",
    "    print(\"This is a square\")\n",
    "else:\n",
    "    print(\"This is a normal rectangle not a square\")"
   ]
  },
  {
   "cell_type": "markdown",
   "id": "e58176bf",
   "metadata": {},
   "source": [
    "### 2. Take three integer values from the user and print the greatest among them."
   ]
  },
  {
   "cell_type": "code",
   "execution_count": 10,
   "id": "d5fccbad",
   "metadata": {},
   "outputs": [
    {
     "name": "stdout",
     "output_type": "stream",
     "text": [
      "x = 10\n",
      "y = 10\n",
      "z = 10\n",
      "10 is the greatest number of 3 inputs!\n"
     ]
    }
   ],
   "source": [
    "x, y, z = int(input(\"x = \")), int(input(\"y = \")), int(input(\"z = \"))\n",
    "\n",
    "if x > y and x > z :\n",
    "    greatest = x\n",
    "elif y > x and y > z:\n",
    "    greatest = y\n",
    "else: \n",
    "    greatest = z\n",
    "\n",
    "print(f\"{greatest} is the greatest number of 3 inputs!\")"
   ]
  },
  {
   "cell_type": "code",
   "execution_count": 11,
   "id": "9db1db69",
   "metadata": {},
   "outputs": [
    {
     "name": "stdout",
     "output_type": "stream",
     "text": [
      "x = 1\n",
      "y = 2\n",
      "z = 3\n"
     ]
    },
    {
     "data": {
      "text/plain": [
       "'3 is the greatest of all inputs'"
      ]
     },
     "execution_count": 11,
     "metadata": {},
     "output_type": "execute_result"
    }
   ],
   "source": [
    "inputed_values = int(input(\"x = \")), int(input(\"y = \")), int(input(\"z = \"))\n",
    "f\"{sorted(list(inputed_values))[-1]} is the greatest of all inputs\""
   ]
  },
  {
   "cell_type": "markdown",
   "id": "71baa48e",
   "metadata": {},
   "source": [
    "### 3. A student will not be allowed to sit in an exam if his/her attendance is less than 75%."
   ]
  },
  {
   "cell_type": "code",
   "execution_count": 12,
   "id": "43f065a5",
   "metadata": {},
   "outputs": [
    {
     "name": "stdout",
     "output_type": "stream",
     "text": [
      "Enter your attendance: 99\n",
      "Your attendance is 99%. Awesome see you in exam hall!\n"
     ]
    }
   ],
   "source": [
    "attendance = int(input(\"Enter your attendance: \"))\n",
    "\n",
    "if attendance < 75:\n",
    "    print(\"Sorry! You're not allowed to sit in this exam as your attendance is bellow 75%\")\n",
    "    print(\"Your attendanace is {}%\".format(attendance))\n",
    "else:\n",
    "    print(f\"Your attendance is {attendance}%. Awesome see you in exam hall!\" )"
   ]
  },
  {
   "cell_type": "markdown",
   "id": "f5ea4ec3",
   "metadata": {},
   "source": [
    "### A school has the following rules for the grading system:\n",
    "- Below 25 – F, 25 to 44 – E, 45 to 49 – D, 50 to 59 – C, 60 to 79 – B, 80 to 89 - A, <b style=\"color:red\">Above 90 - A+</b> (asumed it as 90 and above)\n",
    "Now, Ask the user to enter marks and print the corresponding grade."
   ]
  },
  {
   "cell_type": "code",
   "execution_count": 13,
   "id": "f9cf4775",
   "metadata": {},
   "outputs": [
    {
     "name": "stdout",
     "output_type": "stream",
     "text": [
      "Please enter your mark: 34\n",
      "grade is E\n"
     ]
    }
   ],
   "source": [
    "mark = int(input(\"Please enter your mark: \"))\n",
    "\n",
    "if mark < 25:\n",
    "    print(\"grade is F\")\n",
    "elif mark >= 25 and mark <= 44:\n",
    "    print(\"grade is E\")\n",
    "elif mark >= 45 and mark <= 49:\n",
    "    print(\"grade is D\")\n",
    "elif mark >= 50 and mark <= 59:\n",
    "    print(\"grade is C\")\n",
    "elif mark >= 60 and mark <= 79:\n",
    "    print(\"grade is B\")\n",
    "elif mark >= 80 and mark <= 89:\n",
    "    print(\"grade is A\")\n",
    "elif mark >= 90:\n",
    "    print(\"grade is A+\")"
   ]
  },
  {
   "cell_type": "markdown",
   "id": "b9444d60",
   "metadata": {},
   "source": [
    "## Loop Problem:\n",
    "### 5. Print the following pattern using for and while loop.  \n",
    "1 2 3 4 5 6 7  \n",
    "1 2 3 4 5 6  \n",
    "1 2 3 4 5  \n",
    "1 2 3 4  "
   ]
  },
  {
   "cell_type": "code",
   "execution_count": 14,
   "id": "28a5fae4",
   "metadata": {},
   "outputs": [
    {
     "name": "stdout",
     "output_type": "stream",
     "text": [
      "1 2 3 4 5 6 7 \n",
      "1 2 3 4 5 6 \n",
      "1 2 3 4 5 \n",
      "1 2 3 4 "
     ]
    }
   ],
   "source": [
    "# whithout thinking things through!\n",
    "for i in range(1,8):\n",
    "    print(i, end=\" \")\n",
    "    if i == 7:\n",
    "        print()\n",
    "for i in range(1,7):\n",
    "    print(i, end=\" \")\n",
    "    if i == 6:\n",
    "        print()\n",
    "for i in range(1,6):\n",
    "    print(i, end=\" \")\n",
    "    if i == 5:\n",
    "        print()\n",
    "for i in range(1,5):\n",
    "    print(i, end=\" \")"
   ]
  },
  {
   "cell_type": "code",
   "execution_count": 15,
   "id": "02456c19",
   "metadata": {},
   "outputs": [
    {
     "name": "stdout",
     "output_type": "stream",
     "text": [
      "1 2 3 4 5 6 7 \n",
      "1 2 3 4 5 6 \n",
      "1 2 3 4 5 \n",
      "1 2 3 4 \n"
     ]
    }
   ],
   "source": [
    "# using only for loop\n",
    "stop = 8\n",
    "for i in range(1, 5):\n",
    "    \n",
    "    for i in range(1, stop):\n",
    "        print(i, end=\" \")\n",
    "    stop -= 1\n",
    "    print()"
   ]
  },
  {
   "cell_type": "code",
   "execution_count": 40,
   "id": "31c59827",
   "metadata": {},
   "outputs": [
    {
     "name": "stdout",
     "output_type": "stream",
     "text": [
      "1 2 3 4 5 6 7 \n",
      "1 2 3 4 5 6 \n",
      "1 2 3 4 5 \n",
      "1 2 3 4 \n"
     ]
    }
   ],
   "source": [
    "# mixing while and for loop\n",
    "outer_loop = 0\n",
    "stop = 8\n",
    "while outer_loop < 4:\n",
    "    for i in range(1, stop):\n",
    "        print(i, end=\" \")\n",
    "    outer_loop += 1\n",
    "    stop -= 1\n",
    "    print()"
   ]
  },
  {
   "cell_type": "code",
   "execution_count": 45,
   "id": "fd6a9361",
   "metadata": {},
   "outputs": [
    {
     "name": "stdout",
     "output_type": "stream",
     "text": [
      "1 2 3 4 5 6 7 \n",
      "1 2 3 4 5 6 \n",
      "1 2 3 4 5 \n",
      "1 2 3 4 \n"
     ]
    }
   ],
   "source": [
    "# using only while loop\n",
    "\n",
    "outer_loop = 0\n",
    "inner_loop = 0\n",
    "list_of_values = [1,2,3,4,5,6,7]\n",
    "\n",
    "while outer_loop < 4:\n",
    "    while inner_loop < len(list_of_values):\n",
    "        print(list_of_values[inner_loop], end=\" \")\n",
    "        \n",
    "        inner_loop += 1\n",
    "    print()\n",
    "    list_of_values.pop()\n",
    "    outer_loop += 1\n",
    "    inner_loop = 0"
   ]
  },
  {
   "cell_type": "code",
   "execution_count": 46,
   "id": "6c00cfca",
   "metadata": {},
   "outputs": [
    {
     "name": "stdout",
     "output_type": "stream",
     "text": [
      "1 2 3 4 5 6 7 "
     ]
    }
   ],
   "source": [
    "l = [1,2,3,4,5,6,7]\n",
    "i = 0\n",
    "while i < len(l):\n",
    "    print(l[i], end=\" \")\n",
    "    i += 1"
   ]
  },
  {
   "cell_type": "markdown",
   "id": "2efbb0e5",
   "metadata": {},
   "source": [
    "### 6. Display numbers from -100 to -10 using for loop."
   ]
  },
  {
   "cell_type": "code",
   "execution_count": 47,
   "id": "1511b7e0",
   "metadata": {},
   "outputs": [
    {
     "name": "stdout",
     "output_type": "stream",
     "text": [
      "-100\n",
      "-99\n",
      "-98\n",
      "-97\n",
      "-96\n",
      "-95\n",
      "-94\n",
      "-93\n",
      "-92\n",
      "-91\n",
      "-90\n",
      "-89\n",
      "-88\n",
      "-87\n",
      "-86\n",
      "-85\n",
      "-84\n",
      "-83\n",
      "-82\n",
      "-81\n",
      "-80\n",
      "-79\n",
      "-78\n",
      "-77\n",
      "-76\n",
      "-75\n",
      "-74\n",
      "-73\n",
      "-72\n",
      "-71\n",
      "-70\n",
      "-69\n",
      "-68\n",
      "-67\n",
      "-66\n",
      "-65\n",
      "-64\n",
      "-63\n",
      "-62\n",
      "-61\n",
      "-60\n",
      "-59\n",
      "-58\n",
      "-57\n",
      "-56\n",
      "-55\n",
      "-54\n",
      "-53\n",
      "-52\n",
      "-51\n",
      "-50\n",
      "-49\n",
      "-48\n",
      "-47\n",
      "-46\n",
      "-45\n",
      "-44\n",
      "-43\n",
      "-42\n",
      "-41\n",
      "-40\n",
      "-39\n",
      "-38\n",
      "-37\n",
      "-36\n",
      "-35\n",
      "-34\n",
      "-33\n",
      "-32\n",
      "-31\n",
      "-30\n",
      "-29\n",
      "-28\n",
      "-27\n",
      "-26\n",
      "-25\n",
      "-24\n",
      "-23\n",
      "-22\n",
      "-21\n",
      "-20\n",
      "-19\n",
      "-18\n",
      "-17\n",
      "-16\n",
      "-15\n",
      "-14\n",
      "-13\n",
      "-12\n",
      "-11\n"
     ]
    }
   ],
   "source": [
    "for i in range(-100, -10):\n",
    "    print(i)"
   ]
  },
  {
   "cell_type": "markdown",
   "id": "e24b0457",
   "metadata": {},
   "source": [
    "### 7. Write a program to sum all prime numbers within a range of 10 to 1000.\n",
    "\n",
    "***a whole number is greater than 1 that cannot be exactly divided by any whole number other than itself***"
   ]
  },
  {
   "cell_type": "code",
   "execution_count": 51,
   "id": "daa32abc",
   "metadata": {},
   "outputs": [
    {
     "name": "stdout",
     "output_type": "stream",
     "text": [
      "0\n",
      "1\n",
      "2\n",
      "4\n",
      "5\n",
      "6\n",
      "7\n",
      "8\n",
      "9\n"
     ]
    }
   ],
   "source": [
    "for i in range(10):\n",
    "    \n",
    "    if i == 3:\n",
    "        continue\n",
    "    print(i)"
   ]
  },
  {
   "cell_type": "code",
   "execution_count": null,
   "id": "06b32b0b",
   "metadata": {},
   "outputs": [],
   "source": [
    "# solution\n"
   ]
  }
 ],
 "metadata": {
  "kernelspec": {
   "display_name": "Python 3 (ipykernel)",
   "language": "python",
   "name": "python3"
  },
  "language_info": {
   "codemirror_mode": {
    "name": "ipython",
    "version": 3
   },
   "file_extension": ".py",
   "mimetype": "text/x-python",
   "name": "python",
   "nbconvert_exporter": "python",
   "pygments_lexer": "ipython3",
   "version": "3.10.9"
  }
 },
 "nbformat": 4,
 "nbformat_minor": 5
}
