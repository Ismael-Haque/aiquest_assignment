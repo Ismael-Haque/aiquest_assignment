{
 "cells": [
  {
   "cell_type": "markdown",
   "id": "c47df673",
   "metadata": {},
   "source": [
    "### 1. Take values of the length & breadth of a rectangle from user input and check if it is square or not."
   ]
  },
  {
   "cell_type": "code",
   "execution_count": 9,
   "id": "af67f98a",
   "metadata": {},
   "outputs": [
    {
     "name": "stdout",
     "output_type": "stream",
     "text": [
      "Please input length of a rectangle : 10\n",
      "Please input breadth of a rectange : 10\n",
      "This is a square\n"
     ]
    }
   ],
   "source": [
    "length = int(input(\"Please input length of a rectangle : \"))\n",
    "breadth = int(input(\"Please input breadth of a rectange : \"))\n",
    "\n",
    "if length == breadth:\n",
    "    print(\"This is a square\")\n",
    "else:\n",
    "    print(\"This is a normal rectangle not a square\")"
   ]
  },
  {
   "cell_type": "markdown",
   "id": "646bd8e1",
   "metadata": {},
   "source": [
    "### 2. Take three integer values from the user and print the greatest among them."
   ]
  },
  {
   "cell_type": "code",
   "execution_count": 10,
   "id": "49de8e34",
   "metadata": {},
   "outputs": [
    {
     "name": "stdout",
     "output_type": "stream",
     "text": [
      "x = 10\n",
      "y = 10\n",
      "z = 10\n",
      "10 is the greatest number of 3 inputs!\n"
     ]
    }
   ],
   "source": [
    "x, y, z = int(input(\"x = \")), int(input(\"y = \")), int(input(\"z = \"))\n",
    "\n",
    "if x > y and x > z :\n",
    "    greatest = x\n",
    "elif y > x and y > z:\n",
    "    greatest = y\n",
    "else: \n",
    "    greatest = z\n",
    "\n",
    "print(f\"{greatest} is the greatest number of 3 inputs!\")"
   ]
  },
  {
   "cell_type": "code",
   "execution_count": 11,
   "id": "b9473d20",
   "metadata": {},
   "outputs": [
    {
     "name": "stdout",
     "output_type": "stream",
     "text": [
      "x = 1\n",
      "y = 2\n",
      "z = 3\n"
     ]
    },
    {
     "data": {
      "text/plain": [
       "'3 is the greatest of all inputs'"
      ]
     },
     "execution_count": 11,
     "metadata": {},
     "output_type": "execute_result"
    }
   ],
   "source": [
    "inputed_values = int(input(\"x = \")), int(input(\"y = \")), int(input(\"z = \"))\n",
    "f\"{sorted(list(inputed_values))[-1]} is the greatest of all inputs\""
   ]
  },
  {
   "cell_type": "markdown",
   "id": "1c1f3b50",
   "metadata": {},
   "source": [
    "### 3. A student will not be allowed to sit in an exam if his/her attendance is less than 75%."
   ]
  },
  {
   "cell_type": "code",
   "execution_count": 12,
   "id": "311de06c",
   "metadata": {},
   "outputs": [
    {
     "name": "stdout",
     "output_type": "stream",
     "text": [
      "Enter your attendance: 99\n",
      "Your attendance is 99%. Awesome see you in exam hall!\n"
     ]
    }
   ],
   "source": [
    "attendance = int(input(\"Enter your attendance: \"))\n",
    "\n",
    "if attendance < 75:\n",
    "    print(\"Sorry! You're not allowed to sit in this exam as your attendance is bellow 75%\")\n",
    "    print(\"Your attendanace is {}%\".format(attendance))\n",
    "else:\n",
    "    print(f\"Your attendance is {attendance}%. Awesome see you in exam hall!\" )"
   ]
  },
  {
   "cell_type": "markdown",
   "id": "1f22fa24",
   "metadata": {},
   "source": [
    "### A school has the following rules for the grading system:\n",
    "- Below 25 – F, 25 to 44 – E, 45 to 49 – D, 50 to 59 – C, 60 to 79 – B, 80 to 89 - A, <b style=\"color:red\">Above 90 - A+</b> (asumed it as 90 and above)\n",
    "Now, Ask the user to enter marks and print the corresponding grade."
   ]
  },
  {
   "cell_type": "code",
   "execution_count": 13,
   "id": "640f99cb",
   "metadata": {},
   "outputs": [
    {
     "name": "stdout",
     "output_type": "stream",
     "text": [
      "Please enter your mark: 34\n",
      "grade is E\n"
     ]
    }
   ],
   "source": [
    "mark = int(input(\"Please enter your mark: \"))\n",
    "\n",
    "if mark < 25:\n",
    "    print(\"grade is F\")\n",
    "elif mark >= 25 and mark <= 44:\n",
    "    print(\"grade is E\")\n",
    "elif mark >= 45 and mark <= 49:\n",
    "    print(\"grade is D\")\n",
    "elif mark >= 50 and mark <= 59:\n",
    "    print(\"grade is C\")\n",
    "elif mark >= 60 and mark <= 79:\n",
    "    print(\"grade is B\")\n",
    "elif mark >= 80 and mark <= 89:\n",
    "    print(\"grade is A\")\n",
    "elif mark >= 90:\n",
    "    print(\"grade is A+\")"
   ]
  },
  {
   "cell_type": "markdown",
   "id": "95878c64",
   "metadata": {},
   "source": [
    "## Loop Problem:\n",
    "### 5. Print the following pattern using for and while loop.  \n",
    "1 2 3 4 5 6 7  \n",
    "1 2 3 4 5 6  \n",
    "1 2 3 4 5  \n",
    "1 2 3 4  "
   ]
  },
  {
   "cell_type": "code",
   "execution_count": 14,
   "id": "b3e7da7a",
   "metadata": {},
   "outputs": [
    {
     "name": "stdout",
     "output_type": "stream",
     "text": [
      "1 2 3 4 5 6 7 \n",
      "1 2 3 4 5 6 \n",
      "1 2 3 4 5 \n",
      "1 2 3 4 "
     ]
    }
   ],
   "source": [
    "# whithout thinking things through!\n",
    "for i in range(1,8):\n",
    "    print(i, end=\" \")\n",
    "    if i == 7:\n",
    "        print()\n",
    "for i in range(1,7):\n",
    "    print(i, end=\" \")\n",
    "    if i == 6:\n",
    "        print()\n",
    "for i in range(1,6):\n",
    "    print(i, end=\" \")\n",
    "    if i == 5:\n",
    "        print()\n",
    "for i in range(1,5):\n",
    "    print(i, end=\" \")"
   ]
  },
  {
   "cell_type": "code",
   "execution_count": 15,
   "id": "11215b5b",
   "metadata": {},
   "outputs": [
    {
     "name": "stdout",
     "output_type": "stream",
     "text": [
      "1 2 3 4 5 6 7 \n",
      "1 2 3 4 5 6 \n",
      "1 2 3 4 5 \n",
      "1 2 3 4 \n"
     ]
    }
   ],
   "source": [
    "# using only for loop\n",
    "stop = 8\n",
    "for i in range(1, 5):\n",
    "    \n",
    "    for i in range(1, stop):\n",
    "        print(i, end=\" \")\n",
    "    stop -= 1\n",
    "    print()"
   ]
  },
  {
   "cell_type": "code",
   "execution_count": 40,
   "id": "92bb7017",
   "metadata": {},
   "outputs": [
    {
     "name": "stdout",
     "output_type": "stream",
     "text": [
      "1 2 3 4 5 6 7 \n",
      "1 2 3 4 5 6 \n",
      "1 2 3 4 5 \n",
      "1 2 3 4 \n"
     ]
    }
   ],
   "source": [
    "# mixing while and for loop\n",
    "outer_loop = 0\n",
    "stop = 8\n",
    "while outer_loop < 4:\n",
    "    for i in range(1, stop):\n",
    "        print(i, end=\" \")\n",
    "    outer_loop += 1\n",
    "    stop -= 1\n",
    "    print()"
   ]
  },
  {
   "cell_type": "code",
   "execution_count": 45,
   "id": "8ad71bd0",
   "metadata": {},
   "outputs": [
    {
     "name": "stdout",
     "output_type": "stream",
     "text": [
      "1 2 3 4 5 6 7 \n",
      "1 2 3 4 5 6 \n",
      "1 2 3 4 5 \n",
      "1 2 3 4 \n"
     ]
    }
   ],
   "source": [
    "# using only while loop\n",
    "\n",
    "outer_loop = 0\n",
    "inner_loop = 0\n",
    "list_of_values = [1,2,3,4,5,6,7]\n",
    "\n",
    "while outer_loop < 4:\n",
    "    while inner_loop < len(list_of_values):\n",
    "        print(list_of_values[inner_loop], end=\" \")\n",
    "        \n",
    "        inner_loop += 1\n",
    "    print()\n",
    "    list_of_values.pop()\n",
    "    outer_loop += 1\n",
    "    inner_loop = 0"
   ]
  },
  {
   "cell_type": "code",
   "execution_count": 46,
   "id": "bef26629",
   "metadata": {},
   "outputs": [
    {
     "name": "stdout",
     "output_type": "stream",
     "text": [
      "1 2 3 4 5 6 7 "
     ]
    }
   ],
   "source": [
    "l = [1,2,3,4,5,6,7]\n",
    "i = 0\n",
    "while i < len(l):\n",
    "    print(l[i], end=\" \")\n",
    "    i += 1"
   ]
  },
  {
   "cell_type": "markdown",
   "id": "4357824b",
   "metadata": {},
   "source": [
    "### 6. Display numbers from -100 to -10 using for loop."
   ]
  },
  {
   "cell_type": "code",
   "execution_count": 1,
   "id": "82f8c8c7",
   "metadata": {},
   "outputs": [
    {
     "name": "stdout",
     "output_type": "stream",
     "text": [
      "-100\n",
      "-99\n",
      "-98\n",
      "-97\n",
      "-96\n",
      "-95\n",
      "-94\n",
      "-93\n",
      "-92\n",
      "-91\n",
      "-90\n",
      "-89\n",
      "-88\n",
      "-87\n",
      "-86\n",
      "-85\n",
      "-84\n",
      "-83\n",
      "-82\n",
      "-81\n",
      "-80\n",
      "-79\n",
      "-78\n",
      "-77\n",
      "-76\n",
      "-75\n",
      "-74\n",
      "-73\n",
      "-72\n",
      "-71\n",
      "-70\n",
      "-69\n",
      "-68\n",
      "-67\n",
      "-66\n",
      "-65\n",
      "-64\n",
      "-63\n",
      "-62\n",
      "-61\n",
      "-60\n",
      "-59\n",
      "-58\n",
      "-57\n",
      "-56\n",
      "-55\n",
      "-54\n",
      "-53\n",
      "-52\n",
      "-51\n",
      "-50\n",
      "-49\n",
      "-48\n",
      "-47\n",
      "-46\n",
      "-45\n",
      "-44\n",
      "-43\n",
      "-42\n",
      "-41\n",
      "-40\n",
      "-39\n",
      "-38\n",
      "-37\n",
      "-36\n",
      "-35\n",
      "-34\n",
      "-33\n",
      "-32\n",
      "-31\n",
      "-30\n",
      "-29\n",
      "-28\n",
      "-27\n",
      "-26\n",
      "-25\n",
      "-24\n",
      "-23\n",
      "-22\n",
      "-21\n",
      "-20\n",
      "-19\n",
      "-18\n",
      "-17\n",
      "-16\n",
      "-15\n",
      "-14\n",
      "-13\n",
      "-12\n",
      "-11\n",
      "-10\n"
     ]
    }
   ],
   "source": [
    "for i in range(-100, -10 + 1):\n",
    "    print(i)"
   ]
  },
  {
   "cell_type": "markdown",
   "id": "d4679e65",
   "metadata": {},
   "source": [
    "### 7. Write a program to sum all prime numbers within a range of 10 to 1000.\n",
    "\n",
    "***a whole number is greater than 1 that cannot be exactly divided by any whole number other than itself***\n"
   ]
  },
  {
   "cell_type": "code",
   "execution_count": 29,
   "id": "988103a3",
   "metadata": {},
   "outputs": [
    {
     "name": "stdout",
     "output_type": "stream",
     "text": [
      "1\n",
      "11\n"
     ]
    }
   ],
   "source": [
    "for i in range(1, 11 + 1):\n",
    "    if 11 % i == 0:\n",
    "        print(i)"
   ]
  },
  {
   "cell_type": "code",
   "execution_count": 33,
   "id": "f5491537",
   "metadata": {
    "scrolled": false
   },
   "outputs": [
    {
     "name": "stdout",
     "output_type": "stream",
     "text": [
      "164\n",
      "76110\n"
     ]
    }
   ],
   "source": [
    "prime_numbers = []\n",
    "\n",
    "for number in range(10, 1001):\n",
    "    factors = []\n",
    "    for i in range(1, number + 1):\n",
    "        if number % i == 0:\n",
    "            factors.append(i)\n",
    "    \n",
    "    if len(factors) == 2:\n",
    "        prime_numbers.append(number)\n",
    "print(len(prime_numbers))\n",
    "print(sum(prime_numbers))"
   ]
  },
  {
   "cell_type": "markdown",
   "id": "2d544628",
   "metadata": {},
   "source": [
    "### 8. Find the factorial of an n! (Hint, n=7: 7 * 6 * 5 * 4 * 3 * 2 * 1)."
   ]
  },
  {
   "cell_type": "code",
   "execution_count": 29,
   "id": "22764f56",
   "metadata": {},
   "outputs": [],
   "source": [
    "def factorial(n):\n",
    "    if n == 1:\n",
    "        return 1\n",
    "    else:\n",
    "        return (n * factorial(n-1))"
   ]
  },
  {
   "cell_type": "code",
   "execution_count": 30,
   "id": "5103ab39",
   "metadata": {},
   "outputs": [
    {
     "data": {
      "text/plain": [
       "5040"
      ]
     },
     "execution_count": 30,
     "metadata": {},
     "output_type": "execute_result"
    }
   ],
   "source": [
    "factorial(7)"
   ]
  },
  {
   "cell_type": "code",
   "execution_count": 31,
   "id": "83658eaa",
   "metadata": {},
   "outputs": [],
   "source": [
    "# factorial of number 7"
   ]
  },
  {
   "cell_type": "code",
   "execution_count": 32,
   "id": "0a54fd49",
   "metadata": {},
   "outputs": [
    {
     "data": {
      "text/plain": [
       "5040"
      ]
     },
     "execution_count": 32,
     "metadata": {},
     "output_type": "execute_result"
    }
   ],
   "source": [
    "reversed_list = sorted(list(range(1, 7+1)),reverse=True)\n",
    "\n",
    "mul = 1\n",
    "for num in reversed_list:\n",
    "    mul = mul * num\n",
    "mul"
   ]
  },
  {
   "cell_type": "code",
   "execution_count": 22,
   "id": "ae7b08ad",
   "metadata": {},
   "outputs": [
    {
     "name": "stdout",
     "output_type": "stream",
     "text": [
      "Enter the number you want factorial of : 7\n",
      "5040\n"
     ]
    }
   ],
   "source": [
    "n = int(input(\"Enter the number you want factorial of : \"))\n",
    "\n",
    "factorial = 1\n",
    "for i in range(n+1):\n",
    "    if i == 0:\n",
    "        continue\n",
    "    factorial = factorial * i\n",
    "\n",
    "print(factorial)"
   ]
  },
  {
   "cell_type": "markdown",
   "id": "807eaf90",
   "metadata": {},
   "source": [
    "### 9. Reverse a given integer number 27956240710."
   ]
  },
  {
   "cell_type": "code",
   "execution_count": 15,
   "id": "8a206103",
   "metadata": {},
   "outputs": [
    {
     "name": "stdout",
     "output_type": "stream",
     "text": [
      "1704265972\n"
     ]
    }
   ],
   "source": [
    "devidend = 27956240710\n",
    "reversed_devidend = 0\n",
    "\n",
    "while devidend > 0:\n",
    "    quotient = int(devidend / 10)\n",
    "    remainder = devidend % 10\n",
    "    \n",
    "    reversed_devidend = reversed_devidend * 10 + remainder\n",
    "    devidend = quotient\n",
    "\n",
    "print(reversed_devidend)"
   ]
  },
  {
   "cell_type": "markdown",
   "id": "e3f42a0e",
   "metadata": {},
   "source": [
    "### 10. Print the following pattern using for and while loop.\n",
    "\n",
    "\\# # #  \n",
    "\\#  #  #  #  \n",
    "\\#  #  #  \n",
    "\\#  #  "
   ]
  },
  {
   "cell_type": "code",
   "execution_count": 6,
   "id": "41118658",
   "metadata": {},
   "outputs": [
    {
     "name": "stdout",
     "output_type": "stream",
     "text": [
      "# # # \n",
      "# # # # \n",
      "# # # \n",
      "# # \n"
     ]
    }
   ],
   "source": [
    "# using for loop\n",
    "for j in [3,4,3,2]:\n",
    "    print(j*\"# \")"
   ]
  },
  {
   "cell_type": "code",
   "execution_count": 8,
   "id": "0de7e42c",
   "metadata": {},
   "outputs": [
    {
     "name": "stdout",
     "output_type": "stream",
     "text": [
      "# # # \n",
      "# # # # \n",
      "# # # \n",
      "# # \n"
     ]
    }
   ],
   "source": [
    "# using while loop\n",
    "\n",
    "l = [3,4,3,2]\n",
    "i = 0\n",
    "while i < len(l):\n",
    "    print(l[i] * \"# \")\n",
    "    i += 1"
   ]
  },
  {
   "cell_type": "markdown",
   "id": "31ac4b04",
   "metadata": {},
   "source": [
    "### 11. Display the Fibonacci series of 15 elements using the for and while loop.\n",
    "- a series of numbers in which each number ( Fibonacci number ) is the sum of the two preceding numbers. The simplest is the series 1, 1, 2, 3, 5, 8, etc."
   ]
  },
  {
   "cell_type": "code",
   "execution_count": 29,
   "id": "cc1cf7ba",
   "metadata": {},
   "outputs": [
    {
     "name": "stdout",
     "output_type": "stream",
     "text": [
      "Enter number of elements : 5\n"
     ]
    },
    {
     "data": {
      "text/plain": [
       "[1, 1, 2, 3, 5]"
      ]
     },
     "execution_count": 29,
     "metadata": {},
     "output_type": "execute_result"
    }
   ],
   "source": [
    "# using for loop\n",
    "\n",
    "fibonacci_ser = []\n",
    "number_of_fib_elements = int(input(\"Enter number of elements : \"))\n",
    "\n",
    "for iterator in range(number_of_fib_elements):\n",
    "    \n",
    "    # check lenth of fibonacci series\n",
    "    if len(fibonacci_ser) == 0:\n",
    "        fibonacci_ser.append(1)\n",
    "    \n",
    "    elif len(fibonacci_ser) == 1:\n",
    "        fibonacci_ser.append(1)\n",
    "    \n",
    "    elif len(fibonacci_ser) >= 2 and len(fibonacci_ser) < number_of_fib_elements:\n",
    "        last_val = fibonacci_ser[-1]\n",
    "        second_last = fibonacci_ser[-2]\n",
    "        \n",
    "        next_value = second_last + last_val\n",
    "        fibonacci_ser.append(next_value)\n",
    "        \n",
    "\n",
    "fibonacci_ser"
   ]
  },
  {
   "cell_type": "code",
   "execution_count": 3,
   "id": "8f19acf9",
   "metadata": {},
   "outputs": [
    {
     "name": "stdout",
     "output_type": "stream",
     "text": [
      "Enter number of elements : 15\n"
     ]
    },
    {
     "data": {
      "text/plain": [
       "[1, 1, 2, 3, 5, 8, 13, 21, 34, 55, 89, 144, 233, 377, 610]"
      ]
     },
     "execution_count": 3,
     "metadata": {},
     "output_type": "execute_result"
    }
   ],
   "source": [
    "# using while loop\n",
    "\n",
    "fibonacci_ser = []\n",
    "number_of_fib_elements = int(input(\"Enter number of elements : \"))\n",
    "\n",
    "while number_of_fib_elements > 0:\n",
    "    \n",
    "    if len(fibonacci_ser) == 0:\n",
    "        fibonacci_ser.append(1)\n",
    "        \n",
    "        \n",
    "    elif len(fibonacci_ser) == 1:\n",
    "        fibonacci_ser.append(1)\n",
    "        \n",
    "        \n",
    "    elif len(fibonacci_ser) >= 2:\n",
    "        last_val = fibonacci_ser[-1]\n",
    "        second_last = fibonacci_ser[-2]\n",
    "        \n",
    "        next_value = last_val + second_last\n",
    "        fibonacci_ser.append(next_value)\n",
    "    \n",
    "    number_of_fib_elements -= 1\n",
    "    \n",
    "    \n",
    "fibonacci_ser"
   ]
  },
  {
   "cell_type": "markdown",
   "id": "3e730553",
   "metadata": {},
   "source": [
    "# Python builtin Data Structure:\n",
    "### 12. Remove 2 and add 3 to the list and replace True with False.\n",
    "Li = [1,3,5, [2,3], True]  \n",
    "Output = [1,3,5, [3,3], False]"
   ]
  },
  {
   "cell_type": "code",
   "execution_count": 10,
   "id": "85e6691a",
   "metadata": {},
   "outputs": [],
   "source": [
    "Li = [1,3,5,[2,3], True]"
   ]
  },
  {
   "cell_type": "code",
   "execution_count": 15,
   "id": "b7d1425b",
   "metadata": {},
   "outputs": [],
   "source": [
    "Li[3][0] = 3"
   ]
  },
  {
   "cell_type": "code",
   "execution_count": 18,
   "id": "d5fe682d",
   "metadata": {},
   "outputs": [],
   "source": [
    "Li[-1] = False"
   ]
  },
  {
   "cell_type": "code",
   "execution_count": 19,
   "id": "40e5bc18",
   "metadata": {},
   "outputs": [
    {
     "data": {
      "text/plain": [
       "[1, 3, 5, [3, 3], False]"
      ]
     },
     "execution_count": 19,
     "metadata": {},
     "output_type": "execute_result"
    }
   ],
   "source": [
    "Li"
   ]
  },
  {
   "cell_type": "markdown",
   "id": "9309bb01",
   "metadata": {},
   "source": [
    "### 13. Find the intersection (common) of two sets.\n",
    "S1 = {1,4,6,8}  \n",
    "S2 = {True, 1,2,10}"
   ]
  },
  {
   "cell_type": "code",
   "execution_count": 40,
   "id": "39922669",
   "metadata": {},
   "outputs": [],
   "source": [
    "S1 = {1,4,6,8}\n",
    "S2 = {True, 1,2,10}"
   ]
  },
  {
   "cell_type": "code",
   "execution_count": 45,
   "id": "033c587d",
   "metadata": {},
   "outputs": [
    {
     "data": {
      "text/plain": [
       "{True}"
      ]
     },
     "execution_count": 45,
     "metadata": {},
     "output_type": "execute_result"
    }
   ],
   "source": [
    "# True and 1 are considered the same value in sets and are treated as duplicates\n",
    "S_intersection = S1.intersection(S2)\n",
    "S_intersection"
   ]
  },
  {
   "cell_type": "markdown",
   "id": "40626f10",
   "metadata": {},
   "source": [
    "### 14. Input a list from the user then Remove duplicates from a list and create a set and find the max number\n",
    "\n",
    "User_input = [1,9,3,4,5,200,54]\n"
   ]
  },
  {
   "cell_type": "code",
   "execution_count": 5,
   "id": "e427bf9c",
   "metadata": {},
   "outputs": [
    {
     "name": "stdout",
     "output_type": "stream",
     "text": [
      "Enter a list size: 7\n",
      "Enter element 1 : 1\n",
      "Enter element 2 : 9\n",
      "Enter element 3 : 3\n",
      "Enter element 4 : 4\n",
      "Enter element 5 : 5\n",
      "Enter element 6 : 200\n",
      "Enter element 7 : 54\n"
     ]
    },
    {
     "data": {
      "text/plain": [
       "[1, 9, 3, 4, 5, 200, 54]"
      ]
     },
     "execution_count": 5,
     "metadata": {},
     "output_type": "execute_result"
    }
   ],
   "source": [
    "User_input = int(input(\"Enter a list size: \"))\n",
    "lst = []\n",
    "\n",
    "for i in range(User_input):\n",
    "    element = int(input(f\"Enter element {i+1} : \"))\n",
    "    lst.append(element)\n",
    "lst"
   ]
  },
  {
   "cell_type": "code",
   "execution_count": 6,
   "id": "e240277a",
   "metadata": {},
   "outputs": [],
   "source": [
    "# to remove duplicates from list we can turn the list into a set\n",
    "st = set(lst)"
   ]
  },
  {
   "cell_type": "code",
   "execution_count": 7,
   "id": "700945e0",
   "metadata": {},
   "outputs": [
    {
     "data": {
      "text/plain": [
       "{1, 3, 4, 5, 9, 54, 200}"
      ]
     },
     "execution_count": 7,
     "metadata": {},
     "output_type": "execute_result"
    }
   ],
   "source": [
    "st"
   ]
  },
  {
   "cell_type": "code",
   "execution_count": 9,
   "id": "3951a98e",
   "metadata": {},
   "outputs": [
    {
     "data": {
      "text/plain": [
       "200"
      ]
     },
     "execution_count": 9,
     "metadata": {},
     "output_type": "execute_result"
    }
   ],
   "source": [
    "# maximum num in set\n",
    "max(st)"
   ]
  },
  {
   "cell_type": "markdown",
   "id": "317c3127",
   "metadata": {},
   "source": [
    "### 15. Rename the key of a dictionary.\n",
    "Dict = { \"name\": \"Shakil\", \"age\":27, \"city\": “Berlin”, \"country\": \"Germany\" }  \n",
    "Write a program to rename a key ‘country’ to a ‘region’ in the following dictionary."
   ]
  },
  {
   "cell_type": "code",
   "execution_count": 14,
   "id": "423345d7",
   "metadata": {},
   "outputs": [
    {
     "data": {
      "text/plain": [
       "{'name': 'Shakil', 'age': 27, 'city': 'Berlin', 'country': 'Germany'}"
      ]
     },
     "execution_count": 14,
     "metadata": {},
     "output_type": "execute_result"
    }
   ],
   "source": [
    "Dict = {\n",
    "    \"name\":\"Shakil\",\n",
    "    \"age\": 27,\n",
    "    \"city\": \"Berlin\",\n",
    "    \"country\": \"Germany\"\n",
    "}\n",
    "Dict"
   ]
  },
  {
   "cell_type": "code",
   "execution_count": 15,
   "id": "5e3068b5",
   "metadata": {},
   "outputs": [],
   "source": [
    "Dict[\"region\"] = Dict.pop(\"country\")"
   ]
  },
  {
   "cell_type": "code",
   "execution_count": 16,
   "id": "ffac20f8",
   "metadata": {},
   "outputs": [
    {
     "data": {
      "text/plain": [
       "{'name': 'Shakil', 'age': 27, 'city': 'Berlin', 'region': 'Germany'}"
      ]
     },
     "execution_count": 16,
     "metadata": {},
     "output_type": "execute_result"
    }
   ],
   "source": [
    "Dict"
   ]
  },
  {
   "cell_type": "markdown",
   "id": "e8a7f1ef",
   "metadata": {},
   "source": [
    "### 16. Creating a data frame using the list.\n",
    "num = [10,100,300] (column name is number)"
   ]
  },
  {
   "cell_type": "code",
   "execution_count": 17,
   "id": "cfa8e163",
   "metadata": {},
   "outputs": [],
   "source": [
    "import pandas as pd"
   ]
  },
  {
   "cell_type": "code",
   "execution_count": 18,
   "id": "3770114d",
   "metadata": {},
   "outputs": [
    {
     "data": {
      "text/html": [
       "<div>\n",
       "<style scoped>\n",
       "    .dataframe tbody tr th:only-of-type {\n",
       "        vertical-align: middle;\n",
       "    }\n",
       "\n",
       "    .dataframe tbody tr th {\n",
       "        vertical-align: top;\n",
       "    }\n",
       "\n",
       "    .dataframe thead th {\n",
       "        text-align: right;\n",
       "    }\n",
       "</style>\n",
       "<table border=\"1\" class=\"dataframe\">\n",
       "  <thead>\n",
       "    <tr style=\"text-align: right;\">\n",
       "      <th></th>\n",
       "      <th>0</th>\n",
       "    </tr>\n",
       "  </thead>\n",
       "  <tbody>\n",
       "    <tr>\n",
       "      <th>0</th>\n",
       "      <td>10</td>\n",
       "    </tr>\n",
       "    <tr>\n",
       "      <th>1</th>\n",
       "      <td>100</td>\n",
       "    </tr>\n",
       "    <tr>\n",
       "      <th>2</th>\n",
       "      <td>300</td>\n",
       "    </tr>\n",
       "  </tbody>\n",
       "</table>\n",
       "</div>"
      ],
      "text/plain": [
       "     0\n",
       "0   10\n",
       "1  100\n",
       "2  300"
      ]
     },
     "execution_count": 18,
     "metadata": {},
     "output_type": "execute_result"
    }
   ],
   "source": [
    "df = pd.DataFrame([10, 100, 300])\n",
    "df"
   ]
  },
  {
   "cell_type": "markdown",
   "id": "d2b601e9",
   "metadata": {},
   "source": [
    "### 17. Change the value of a key in a given dictionary.\n",
    "Write a Python program to change ‘age’ to 28 in the following dictionary.  \n",
    "Dict = { \"name\": \"Shakil\", \"age\":27, \"city\": “Berlin”, \"country\": \"Germany\" }"
   ]
  },
  {
   "cell_type": "code",
   "execution_count": 19,
   "id": "72eef9ec",
   "metadata": {},
   "outputs": [
    {
     "data": {
      "text/plain": [
       "{'name': 'Shakil', 'age': 27, 'city': 'Berlin', 'country': 'Germany'}"
      ]
     },
     "execution_count": 19,
     "metadata": {},
     "output_type": "execute_result"
    }
   ],
   "source": [
    "Dict = {\n",
    "    \"name\": \"Shakil\",\n",
    "    \"age\": 27,\n",
    "    \"city\": \"Berlin\",\n",
    "    \"country\": \"Germany\"\n",
    "}\n",
    "Dict"
   ]
  },
  {
   "cell_type": "code",
   "execution_count": 20,
   "id": "28857fc1",
   "metadata": {},
   "outputs": [
    {
     "data": {
      "text/plain": [
       "{'name': 'Shakil', 'age': 28, 'city': 'Berlin', 'country': 'Germany'}"
      ]
     },
     "execution_count": 20,
     "metadata": {},
     "output_type": "execute_result"
    }
   ],
   "source": [
    "Dict[\"age\"] = 28\n",
    "Dict"
   ]
  }
 ],
 "metadata": {
  "kernelspec": {
   "display_name": "Python 3 (ipykernel)",
   "language": "python",
   "name": "python3"
  },
  "language_info": {
   "codemirror_mode": {
    "name": "ipython",
    "version": 3
   },
   "file_extension": ".py",
   "mimetype": "text/x-python",
   "name": "python",
   "nbconvert_exporter": "python",
   "pygments_lexer": "ipython3",
   "version": "3.10.9"
  }
 },
 "nbformat": 4,
 "nbformat_minor": 5
}
