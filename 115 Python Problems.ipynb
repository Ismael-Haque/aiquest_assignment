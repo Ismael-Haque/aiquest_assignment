{
 "cells": [
  {
   "cell_type": "markdown",
   "id": "6146f258",
   "metadata": {},
   "source": [
    "## <b style=\"color:#5F6A6A \">Basic Problems:</b>\n",
    "\n",
    "### 1. Variable Swap: Write a Python program to swap the values of two variables without using a temporary variable."
   ]
  },
  {
   "cell_type": "code",
   "execution_count": 1,
   "id": "6a41d9a3",
   "metadata": {},
   "outputs": [
    {
     "name": "stdout",
     "output_type": "stream",
     "text": [
      "Enter the first variable (a): 25\n",
      "Enter the second variable (b): 50\n",
      "Before swaping a: 25 and b: 50\n",
      "After swaping a: 50, b: 25\n"
     ]
    }
   ],
   "source": [
    "a = int(input(\"Enter the first variable (a): \"))\n",
    "b = int(input(\"Enter the second variable (b): \"))\n",
    "\n",
    "print(f\"Before swaping a: {a} and b: {b}\")\n",
    "a = a + b\n",
    "b = a - b\n",
    "a = a - b\n",
    "\n",
    "print(f\"After swaping a: {a}, b: {b}\")"
   ]
  },
  {
   "cell_type": "markdown",
   "id": "77850844",
   "metadata": {},
   "source": [
    "### 2. Even or Odd: Write a Python program that takes an integer as input and prints whether it is even or odd."
   ]
  },
  {
   "cell_type": "code",
   "execution_count": 2,
   "id": "dfc5b784",
   "metadata": {},
   "outputs": [
    {
     "name": "stdout",
     "output_type": "stream",
     "text": [
      "Enter an integer as input : 22\n",
      "Value: 22 is Even.\n"
     ]
    }
   ],
   "source": [
    "var = int(input(\"Enter an integer as input : \"))\n",
    "\n",
    "if var % 2 == 0:\n",
    "    print(f\"Value: {var} is Even.\")\n",
    "else:\n",
    "    print(f\"Value: {var} is Odd.\")"
   ]
  },
  {
   "cell_type": "markdown",
   "id": "4b95b0cd",
   "metadata": {},
   "source": [
    "### 3. String Reverse: Write a Python function to reverse a given string and return the reversed string."
   ]
  },
  {
   "cell_type": "code",
   "execution_count": 3,
   "id": "8f42e910",
   "metadata": {},
   "outputs": [
    {
     "name": "stdout",
     "output_type": "stream",
     "text": [
      "paponda\n"
     ]
    },
    {
     "data": {
      "text/plain": [
       "'adnopap'"
      ]
     },
     "execution_count": 3,
     "metadata": {},
     "output_type": "execute_result"
    }
   ],
   "source": [
    "def reverse_str():\n",
    "    string = input()\n",
    "    reversed_str = list(reversed(string))\n",
    "    return \"\".join(reversed_str)\n",
    "reverse_str()"
   ]
  },
  {
   "cell_type": "markdown",
   "id": "ff6b3ca5",
   "metadata": {},
   "source": [
    "### 4. Type Conversion: Given a list of integers, write a Python program to convert each element of the list to a string."
   ]
  },
  {
   "cell_type": "code",
   "execution_count": 4,
   "id": "87c59ed2",
   "metadata": {},
   "outputs": [
    {
     "data": {
      "text/plain": [
       "['1', '2', '3', '4', '5']"
      ]
     },
     "execution_count": 4,
     "metadata": {},
     "output_type": "execute_result"
    }
   ],
   "source": [
    "listOfIntegers = [1,2,3,4,5]\n",
    "[str(i) for i in listOfIntegers]"
   ]
  },
  {
   "cell_type": "markdown",
   "id": "b4d59329",
   "metadata": {},
   "source": [
    "### 5. Temperature Converter: Write a Python program that converts a temperature in Celsius to Fahrenheit. Take the Celsius temperature as input from the user."
   ]
  },
  {
   "cell_type": "code",
   "execution_count": 5,
   "id": "2ca9e470",
   "metadata": {},
   "outputs": [
    {
     "name": "stdout",
     "output_type": "stream",
     "text": [
      "Enter the temperature in 'Celcius': 100\n"
     ]
    },
    {
     "data": {
      "text/plain": [
       "'212.0 degree farenheit'"
      ]
     },
     "execution_count": 5,
     "metadata": {},
     "output_type": "execute_result"
    }
   ],
   "source": [
    "def celciusToFarenheit():\n",
    "    tempC = int(input(\"Enter the temperature in 'Celcius': \"))\n",
    "    \n",
    "    tempF = (tempC * 9/5) + 32\n",
    "    return f\"{tempF} degree farenheit\"\n",
    "\n",
    "celciusToFarenheit()"
   ]
  },
  {
   "cell_type": "markdown",
   "id": "bf069dea",
   "metadata": {},
   "source": [
    "### 6. Data Type Checker: Write a Python function that takes a variable as input and returns the data type of the variable as a string (e.g., “int”, “float”, “str”, “list”, etc.)."
   ]
  },
  {
   "cell_type": "code",
   "execution_count": 6,
   "id": "fe7f7615",
   "metadata": {},
   "outputs": [
    {
     "data": {
      "text/plain": [
       "'float'"
      ]
     },
     "execution_count": 6,
     "metadata": {},
     "output_type": "execute_result"
    }
   ],
   "source": [
    "x = 100\n",
    "y = 4.50\n",
    "z = \"this is a string\"\n",
    "w = [1,2,3]\n",
    "\n",
    "def get_data_type(variable):\n",
    "    data_type = str(type(variable)).split(\"'\")[1]\n",
    "    return data_type\n",
    "\n",
    "\n",
    "get_data_type(y)"
   ]
  },
  {
   "cell_type": "markdown",
   "id": "e7b3385d",
   "metadata": {},
   "source": [
    "### 7. String Palindrome: Write a Python function to check if a given string is a palindrome or not.\n",
    "\n",
    "- a word, phrase, or sequence that reads the same backwards as forwards, e.g. madam or nurses run."
   ]
  },
  {
   "cell_type": "code",
   "execution_count": 7,
   "id": "30599834",
   "metadata": {},
   "outputs": [
    {
     "name": "stdout",
     "output_type": "stream",
     "text": [
      "Enter a phrase to check if it's palindrome or not: madam\n"
     ]
    },
    {
     "data": {
      "text/plain": [
       "True"
      ]
     },
     "execution_count": 7,
     "metadata": {},
     "output_type": "execute_result"
    }
   ],
   "source": [
    "var = input(\"Enter a phrase to check if it's palindrome or not: \")\n",
    "\n",
    "def is_palindrome(var):\n",
    "    var = \"\".join(var.split())\n",
    "    return var == var[::-1]\n",
    "\n",
    "is_palindrome(var)"
   ]
  },
  {
   "cell_type": "markdown",
   "id": "f8da0564",
   "metadata": {},
   "source": [
    "### 8. String Reversal with Slicing: Write a Python function to reverse a given string using slicing."
   ]
  },
  {
   "cell_type": "code",
   "execution_count": 8,
   "id": "19743233",
   "metadata": {},
   "outputs": [
    {
     "name": "stdout",
     "output_type": "stream",
     "text": [
      "Enter your string: ding dong\n"
     ]
    },
    {
     "data": {
      "text/plain": [
       "'gnod gnid'"
      ]
     },
     "execution_count": 8,
     "metadata": {},
     "output_type": "execute_result"
    }
   ],
   "source": [
    "var = input(\"Enter your string: \")\n",
    "var[::-1]"
   ]
  },
  {
   "cell_type": "markdown",
   "id": "c8cd55ab",
   "metadata": {},
   "source": [
    "### 9. String Concatenation: Write a Python program that takes two strings as input and concatenates them into a single string without using the `+` operator."
   ]
  },
  {
   "cell_type": "code",
   "execution_count": 9,
   "id": "ba2713c1",
   "metadata": {},
   "outputs": [
    {
     "data": {
      "text/plain": [
       "'alupotol'"
      ]
     },
     "execution_count": 9,
     "metadata": {},
     "output_type": "execute_result"
    }
   ],
   "source": [
    "x = \"alu\"\n",
    "y = \"potol\"\n",
    "def concatenate_two_str(x,y):\n",
    "    return f\"{x}{y}\"\n",
    "    \n",
    "concatenate_two_str(x,y)"
   ]
  },
  {
   "cell_type": "markdown",
   "id": "66984295",
   "metadata": {},
   "source": [
    "### 10. Typecasting Challenge: Given three variables: `a = ‘100’`, `b = 25`, and `c = ‘10.5’`, write a Python program to perform the following operations and print the results:\n",
    "– Convert `a` to an integer and add it to `b`.\n",
    "– Convert `c` to a float and subtract it from the result of the first operation.\n",
    "– Convert the final result to a string and concatenate it with the string ” is the answer.”"
   ]
  },
  {
   "cell_type": "code",
   "execution_count": 10,
   "id": "fdb49196",
   "metadata": {},
   "outputs": [
    {
     "data": {
      "text/plain": [
       "114.5"
      ]
     },
     "execution_count": 10,
     "metadata": {},
     "output_type": "execute_result"
    }
   ],
   "source": [
    "a = \"100\"\n",
    "b = 25\n",
    "c = \"10.5\"\n",
    "\n",
    "(int(a) + b) - float(c)"
   ]
  },
  {
   "cell_type": "markdown",
   "id": "d2f02e56",
   "metadata": {},
   "source": [
    "## <b style=\"color:#5F6A6A \">Python Conditional Statements:</b>\n",
    "\n",
    "### 11. Positive, Negative, or Zero: Write a Python program that takes a number as input and prints whether it is positive, negative, or zero."
   ]
  },
  {
   "cell_type": "code",
   "execution_count": 12,
   "id": "ba627b7c",
   "metadata": {},
   "outputs": [
    {
     "name": "stdout",
     "output_type": "stream",
     "text": [
      "Enter a number: -5\n",
      "negative\n"
     ]
    }
   ],
   "source": [
    "def numberChecker():\n",
    "    x = float(input(\"Enter a number: \"))\n",
    "    if x == 0:\n",
    "        print(\"zero\")\n",
    "    elif x > 0:\n",
    "        print(\"positive\")\n",
    "    else:\n",
    "        print(\"negative\")\n",
    "numberChecker()"
   ]
  },
  {
   "cell_type": "markdown",
   "id": "244796c3",
   "metadata": {},
   "source": [
    "### 12. Largest of Three Numbers: Write a Python program that takes three numbers as input and prints the largest among them."
   ]
  },
  {
   "cell_type": "code",
   "execution_count": 13,
   "id": "f7f4e6af",
   "metadata": {},
   "outputs": [
    {
     "name": "stdout",
     "output_type": "stream",
     "text": [
      "Enter no 1: 20\n",
      "Enter no 2: 50\n",
      "Enter no 3: -5\n"
     ]
    },
    {
     "data": {
      "text/plain": [
       "50.0"
      ]
     },
     "execution_count": 13,
     "metadata": {},
     "output_type": "execute_result"
    }
   ],
   "source": [
    "list_of_numbers = []\n",
    "for i in range(3):\n",
    "    list_of_numbers.append(float(input(f\"Enter no {i+1}: \")))\n",
    "\n",
    "max(list_of_numbers)"
   ]
  },
  {
   "cell_type": "markdown",
   "id": "cc1fae9b",
   "metadata": {},
   "source": [
    "### 13. Leap Year Checker: Write a Python program that takes a year as input and determines if it is a leap year or not."
   ]
  },
  {
   "cell_type": "code",
   "execution_count": 15,
   "id": "0c7e9321",
   "metadata": {},
   "outputs": [
    {
     "name": "stdout",
     "output_type": "stream",
     "text": [
      "Enter the year: 2024\n",
      "2024 is a leap year\n"
     ]
    }
   ],
   "source": [
    "year = int(input(\"Enter the year: \"))\n",
    "if (year % 4) == 0:\n",
    "    print(f\"{year} is a leap year\")\n",
    "else:\n",
    "    print(f\"{year} is not a leap year\")"
   ]
  },
  {
   "cell_type": "markdown",
   "id": "609ee555",
   "metadata": {},
   "source": [
    "### 14. Grades Classification: Write a Python program that takes a student’s percentage as input and prints their corresponding grade according to the following criteria:\n",
    "– 90% or above: A+  \n",
    "– 80-89%: A  \n",
    "– 70-79%: B  \n",
    "– 60-69%: C  \n",
    "– Below 60%: Fail  "
   ]
  },
  {
   "cell_type": "code",
   "execution_count": 16,
   "id": "7b16e798",
   "metadata": {},
   "outputs": [
    {
     "name": "stdout",
     "output_type": "stream",
     "text": [
      "Enter your percentage: 95\n",
      "A+\n"
     ]
    }
   ],
   "source": [
    "percentage = float(input(\"Enter your percentage: \"))\n",
    "\n",
    "if (percentage >= 90) and (percentage <= 100):\n",
    "    print(\"A+\")\n",
    "elif (percentage >= 80) and (percentage <= 89):\n",
    "    print(\"A\")\n",
    "elif (percentage >= 70) and (percentage <= 79):\n",
    "    print(\"B\")\n",
    "elif (percentage >= 60) and (percentage <= 69):\n",
    "    print(\"C\")\n",
    "elif (percentage < 60):\n",
    "    print(\"Fail\")"
   ]
  },
  {
   "cell_type": "markdown",
   "id": "58b6342a",
   "metadata": {},
   "source": [
    "### 15. Vowel or Consonant: Write a Python program that takes a single character as input and determines whether it is a vowel or a consonant."
   ]
  },
  {
   "cell_type": "code",
   "execution_count": 17,
   "id": "ae20b165",
   "metadata": {},
   "outputs": [
    {
     "name": "stdout",
     "output_type": "stream",
     "text": [
      "Enter a single character that is from `English` alphabet: A\n",
      "a is a vowel.\n"
     ]
    }
   ],
   "source": [
    "char = input(\"Enter a single character that is from `English` alphabet: \")\n",
    "if len(char) != 1:\n",
    "    print(\"Please enter exactly one character.\")\n",
    "else:\n",
    "    char = char.lower()\n",
    "    if char in \"aeiou\":\n",
    "        print(f\"{char} is a vowel.\")\n",
    "    elif char.isalpha():\n",
    "        print(f\"{char} is a consonent.\")\n",
    "    else:\n",
    "        print(\"Not a valid alphabet.\")"
   ]
  },
  {
   "cell_type": "markdown",
   "id": "f3708e58",
   "metadata": {},
   "source": [
    "### 16. Time Classification: Write a Python program that takes the time in hours (24-hour format) as input and prints “Good Morning”, “Good Afternoon”, “Good Evening”, or “Good Night” based on the time."
   ]
  },
  {
   "cell_type": "code",
   "execution_count": 18,
   "id": "0beac127",
   "metadata": {},
   "outputs": [
    {
     "name": "stdout",
     "output_type": "stream",
     "text": [
      "Enter the time (in hours, 0-23): 20\n",
      "Good Evening\n"
     ]
    }
   ],
   "source": [
    "time = int(input(\"Enter the time (in hours, 0-23): \"))\n",
    "\n",
    "if 0 <= time <5:\n",
    "    print(\"Good Night\")\n",
    "elif 5 <= time < 12:\n",
    "    print(\"Good Morning\")\n",
    "elif 12 <= time < 17:\n",
    "    print(\"Good Afternoon\")\n",
    "elif 17 <= time < 21:\n",
    "    print(\"Good Evening\")\n",
    "else:\n",
    "    print(\"Good Night\")"
   ]
  },
  {
   "cell_type": "markdown",
   "id": "6c1d7636",
   "metadata": {},
   "source": [
    "### 17. Triangle Type Checker: Write a Python program that takes three sides of a triangle as input and determines whether it forms an equilateral, isosceles, or scalene triangle."
   ]
  },
  {
   "cell_type": "code",
   "execution_count": 19,
   "id": "2cca36cb",
   "metadata": {},
   "outputs": [
    {
     "name": "stdout",
     "output_type": "stream",
     "text": [
      "Enter the length of the first side: 25\n",
      "Enter the length of the second side: 20\n",
      "Enter the length of the third side: 10\n",
      "It forms a scalene triangle.\n"
     ]
    }
   ],
   "source": [
    "side1 = float(input(\"Enter the length of the first side: \"))\n",
    "side2 = float(input(\"Enter the length of the second side: \"))\n",
    "side3 = float(input(\"Enter the length of the third side: \"))\n",
    "\n",
    "if (side1 + side2 > side3) and (side1 + side3 > side2) and (side2 + side3 > side1):\n",
    "    # Check for equilateral triangle\n",
    "    if side1 == side2 == side3:\n",
    "        print(\"It forms an equilateral triangle.\")\n",
    "    # Check for isosceles triangle\n",
    "    elif side1 == side2 or side1 == side3 or side2 == side3:\n",
    "        print(\"It forms an isosceles triangle.\")\n",
    "    # If not equilateral or isosceles, it's a scalene triangle\n",
    "    else:\n",
    "        print(\"It forms a scalene triangle.\")\n",
    "else:\n",
    "    print(\"These sides cannot form a triangle.\")"
   ]
  },
  {
   "cell_type": "markdown",
   "id": "3e8ff54d",
   "metadata": {},
   "source": [
    "### 18. Quadratic Equation Solver: Write a Python program that takes the coefficients (a, b, c) of a quadratic equation as input and calculates and prints the real roots (if they exist) or a message indicating the complex roots."
   ]
  },
  {
   "cell_type": "code",
   "execution_count": 20,
   "id": "a2ba38ae",
   "metadata": {},
   "outputs": [
    {
     "name": "stdout",
     "output_type": "stream",
     "text": [
      "Enter coefficient a: 2\n",
      "Enter coefficient b: 4\n",
      "Enter coefficent c: 9\n",
      "The roots are complex:\n",
      "Root 1: -1.0 + 1.8708286933869707i\n",
      "Root 2: -1.0 - 1.8708286933869707i\n"
     ]
    }
   ],
   "source": [
    "import math\n",
    "a = float(input(\"Enter coefficient a: \"))\n",
    "b = float(input(\"Enter coefficient b: \"))\n",
    "c = float(input(\"Enter coefficent c: \"))\n",
    "\n",
    "discriminant = b**2 - 4*a*c\n",
    "\n",
    "if discriminant > 0:\n",
    "    root1 = (-b + math.sqrt(discriminant)) / (2*a)\n",
    "    root2 = (-b - math.sqrt(discriminant)) / (2*a)\n",
    "    print(\"The roots are real and distinct:\")\n",
    "    print(f\"Root 1: {root1}\")\n",
    "    print(f\"Root 2: {root2}\")\n",
    "\n",
    "elif discriminant == 0:\n",
    "    # One real root (repeated)\n",
    "    root1 = -b / (2*a)\n",
    "    print(\"The root is real and repeated:\")\n",
    "    print(f\"Root: {root1}\")\n",
    "    \n",
    "else:\n",
    "    # Complex roots\n",
    "    real_part = -b / (2*a)\n",
    "    imaginary_part = math.sqrt(abs(discriminant)) / (2*a)\n",
    "    print(\"The roots are complex:\")\n",
    "    print(f\"Root 1: {real_part} + {imaginary_part}i\")\n",
    "    print(f\"Root 2: {real_part} - {imaginary_part}i\")"
   ]
  },
  {
   "cell_type": "markdown",
   "id": "f01cd022",
   "metadata": {},
   "source": [
    "### 19. Number Ranges: Write a Python program that takes an integer as input and prints whether the number falls within the ranges: 0-50, 51-100, 101-150, or above 150."
   ]
  },
  {
   "cell_type": "code",
   "execution_count": 21,
   "id": "72827da7",
   "metadata": {},
   "outputs": [
    {
     "name": "stdout",
     "output_type": "stream",
     "text": [
      "Enter an integer: 10\n",
      "The number falls within the range 0-50.\n"
     ]
    }
   ],
   "source": [
    "number = int(input(\"Enter an integer: \"))\n",
    "\n",
    "if 0 <= number <= 50:\n",
    "    print(\"The number falls within the range 0-50.\")\n",
    "elif 51 <= number <= 100:\n",
    "    print(\"The number falls within the range 51-100.\")\n",
    "elif 101 <= number <= 150:\n",
    "    print(\"The number falls within the range 101-150.\")\n",
    "else:\n",
    "    print(\"The number is above 150.\")"
   ]
  },
  {
   "cell_type": "markdown",
   "id": "b525f306",
   "metadata": {},
   "source": [
    "## For & While Loops:\n",
    "\n",
    "### 20. Sum of N Numbers: Write a Python program using a for loop to calculate the sum of the first N natural numbers, where N is taken as input from the user."
   ]
  },
  {
   "cell_type": "code",
   "execution_count": 22,
   "id": "792ce6f5",
   "metadata": {},
   "outputs": [
    {
     "name": "stdout",
     "output_type": "stream",
     "text": [
      "Enter a positive integer : 10\n",
      "The sum of the first 10 natural numbers is: 55\n"
     ]
    }
   ],
   "source": [
    "N = int(input(\"Enter a positive integer : \"))\n",
    "\n",
    "sum_of_natural_numbers = 0\n",
    "\n",
    "for i in range(1, N + 1):\n",
    "    sum_of_natural_numbers += i\n",
    "\n",
    "# Print the result\n",
    "print(f\"The sum of the first {N} natural numbers is: {sum_of_natural_numbers}\")"
   ]
  },
  {
   "cell_type": "markdown",
   "id": "00cff826",
   "metadata": {},
   "source": [
    "### 21. Factorial Calculator: Write a Python program using a while loop to calculate the factorial of a given number N."
   ]
  },
  {
   "cell_type": "code",
   "execution_count": 23,
   "id": "f2e29ae8",
   "metadata": {},
   "outputs": [
    {
     "name": "stdout",
     "output_type": "stream",
     "text": [
      "Enter a non-negative integer (N): 5\n",
      "The factorial of 5 is: 120\n"
     ]
    }
   ],
   "source": [
    "N = int(input(\"Enter a non-negative integer (N): \"))\n",
    "\n",
    "if N < 0:\n",
    "    print(\"Factorial is not defined for negative numbers.\")\n",
    "else:\n",
    "    factorial = 1\n",
    "    i = 1\n",
    "\n",
    "    while i <= N:\n",
    "        factorial *= i\n",
    "        i += 1\n",
    "        \n",
    "    print(f\"The factorial of {N} is: {factorial}\")"
   ]
  },
  {
   "cell_type": "markdown",
   "id": "03156830",
   "metadata": {},
   "source": [
    "### 22. Table of a Number: Write a Python program using a for loop to print the multiplication table of a given number N."
   ]
  },
  {
   "cell_type": "code",
   "execution_count": 24,
   "id": "08d35931",
   "metadata": {},
   "outputs": [
    {
     "name": "stdout",
     "output_type": "stream",
     "text": [
      "Enter a number for which you want to print the multiplication table: 99\n",
      "Multiplication table for 99:\n",
      "99 x 1 = 99\n",
      "99 x 2 = 198\n",
      "99 x 3 = 297\n",
      "99 x 4 = 396\n",
      "99 x 5 = 495\n",
      "99 x 6 = 594\n",
      "99 x 7 = 693\n",
      "99 x 8 = 792\n",
      "99 x 9 = 891\n",
      "99 x 10 = 990\n"
     ]
    }
   ],
   "source": [
    "N = int(input(\"Enter a number for which you want to print the multiplication table: \"))\n",
    "\n",
    "if N < 0:\n",
    "    print(\"Multiplication table is not defined for negative numbers.\")\n",
    "else:\n",
    "    print(f\"Multiplication table for {N}:\")\n",
    "    for i in range(1, 11):\n",
    "        result = N * i\n",
    "        print(f\"{N} x {i} = {result}\")"
   ]
  },
  {
   "cell_type": "markdown",
   "id": "9fa5646c",
   "metadata": {},
   "source": [
    "### 23. Count Digits in a Number: Write a Python program using a while loop to count the number of digits in a given integer N."
   ]
  },
  {
   "cell_type": "code",
   "execution_count": 26,
   "id": "bbc16e76",
   "metadata": {},
   "outputs": [
    {
     "name": "stdout",
     "output_type": "stream",
     "text": [
      "Enter an integer: 24\n",
      "The number of digits in the integer is: 2\n"
     ]
    }
   ],
   "source": [
    "N = int(input(\"Enter an integer: \"))\n",
    "\n",
    "count = 0\n",
    "\n",
    "if N < 0:\n",
    "    N = abs(N)\n",
    "    count += 1  \n",
    "    \n",
    "if N == 0:\n",
    "    count = 1\n",
    "\n",
    "while N > 0:\n",
    "    N //= 10\n",
    "    count += 1\n",
    "\n",
    "# Print the result\n",
    "print(f\"The number of digits in the integer is: {count}\")"
   ]
  },
  {
   "cell_type": "markdown",
   "id": "d4488c81",
   "metadata": {},
   "source": [
    "### 24. Fibonacci Sequence: Write a Python program using a for loop to generate the Fibonacci sequence up to a given limit N."
   ]
  },
  {
   "cell_type": "code",
   "execution_count": 27,
   "id": "292020a3",
   "metadata": {},
   "outputs": [
    {
     "name": "stdout",
     "output_type": "stream",
     "text": [
      "Enter number of elements : 10\n"
     ]
    },
    {
     "data": {
      "text/plain": [
       "[1, 1, 2, 3, 5, 8, 13, 21, 34, 55]"
      ]
     },
     "execution_count": 27,
     "metadata": {},
     "output_type": "execute_result"
    }
   ],
   "source": [
    "fibonacci_ser = []\n",
    "number_of_fib_elements = int(input(\"Enter number of elements : \"))\n",
    "\n",
    "for iterator in range(number_of_fib_elements):\n",
    "    \n",
    "    # check lenth of fibonacci series\n",
    "    if len(fibonacci_ser) == 0:\n",
    "        fibonacci_ser.append(1)\n",
    "    \n",
    "    elif len(fibonacci_ser) == 1:\n",
    "        fibonacci_ser.append(1)\n",
    "    \n",
    "    elif len(fibonacci_ser) >= 2 and len(fibonacci_ser) < number_of_fib_elements:\n",
    "        last_val = fibonacci_ser[-1]\n",
    "        second_last = fibonacci_ser[-2]\n",
    "        \n",
    "        next_value = second_last + last_val\n",
    "        fibonacci_ser.append(next_value)\n",
    "        \n",
    "\n",
    "fibonacci_ser"
   ]
  },
  {
   "cell_type": "markdown",
   "id": "65e5945d",
   "metadata": {},
   "source": [
    "### 25. Sum of Even Numbers: Write a Python program using a while loop to calculate the sum of all even numbers between 1 and N, where N is taken as input from the user."
   ]
  },
  {
   "cell_type": "code",
   "execution_count": 28,
   "id": "95544bea",
   "metadata": {},
   "outputs": [
    {
     "name": "stdout",
     "output_type": "stream",
     "text": [
      "Enter a positive integer (N): 100\n",
      "The sum of even numbers between 1 and 100 is: 2550\n"
     ]
    }
   ],
   "source": [
    "N = int(input(\"Enter a positive integer (N): \"))\n",
    "\n",
    "sum_of_even_numbers = 0\n",
    "\n",
    "if N <= 0:\n",
    "    print(\"Please enter a positive integer.\")\n",
    "else:\n",
    "    i = 2 \n",
    "    while i <= N:\n",
    "        sum_of_even_numbers += i\n",
    "        i += 2\n",
    "\n",
    "    print(f\"The sum of even numbers between 1 and {N} is: {sum_of_even_numbers}\")"
   ]
  },
  {
   "cell_type": "markdown",
   "id": "df158613",
   "metadata": {},
   "source": [
    "### 26. Print Patterns: Write a Python program using nested for loops to print various patterns, such as a right-angled triangle, an inverted right-angled triangle, and so on."
   ]
  },
  {
   "cell_type": "code",
   "execution_count": 30,
   "id": "a9db4013",
   "metadata": {},
   "outputs": [
    {
     "name": "stdout",
     "output_type": "stream",
     "text": [
      "Enter the number of rows: 5\n",
      "* \n",
      "* * \n",
      "* * * \n",
      "* * * * \n",
      "* * * * * \n"
     ]
    }
   ],
   "source": [
    "rows = int(input(\"Enter the number of rows: \"))\n",
    "\n",
    "for i in range(1, rows + 1):\n",
    "    for j in range(1, i + 1):\n",
    "        print(\"*\", end=\" \")\n",
    "    print()"
   ]
  },
  {
   "cell_type": "code",
   "execution_count": 31,
   "id": "23489671",
   "metadata": {},
   "outputs": [
    {
     "name": "stdout",
     "output_type": "stream",
     "text": [
      "Enter the number of rows: 5\n",
      "* * * * * \n",
      "* * * * \n",
      "* * * \n",
      "* * \n",
      "* \n"
     ]
    }
   ],
   "source": [
    "rows = int(input(\"Enter the number of rows: \"))\n",
    "\n",
    "for i in range(rows, 0, -1):\n",
    "    for j in range(1, i + 1):\n",
    "        print(\"*\", end=\" \")\n",
    "    print()"
   ]
  },
  {
   "cell_type": "markdown",
   "id": "b7fce19e",
   "metadata": {},
   "source": [
    "### 27. Prime Number Checker: Write a Python program using a while loop to check if a given number N is prime or not."
   ]
  },
  {
   "cell_type": "code",
   "execution_count": 32,
   "id": "d4b9effb",
   "metadata": {},
   "outputs": [
    {
     "name": "stdout",
     "output_type": "stream",
     "text": [
      "Enter a positive integer (N): 5\n",
      "5 is a prime number.\n"
     ]
    }
   ],
   "source": [
    "N = int(input(\"Enter a positive integer (N): \"))\n",
    "\n",
    "if N < 2:\n",
    "    is_prime = False\n",
    "else:\n",
    "    is_prime = True\n",
    "    divisor = 2\n",
    "\n",
    "    while divisor * divisor <= N:\n",
    "        if N % divisor == 0:\n",
    "            is_prime = False\n",
    "            break\n",
    "        divisor += 1\n",
    "        \n",
    "if is_prime:\n",
    "    print(f\"{N} is a prime number.\")\n",
    "else:\n",
    "    print(f\"{N} is not a prime number.\")"
   ]
  },
  {
   "cell_type": "markdown",
   "id": "79baaf8a",
   "metadata": {},
   "source": [
    "### 28. List Manipulation: Given a list of integers, write a Python program using a for loop to find the sum, average, maximum, and minimum values in the list."
   ]
  },
  {
   "cell_type": "code",
   "execution_count": 33,
   "id": "83223a09",
   "metadata": {},
   "outputs": [
    {
     "name": "stdout",
     "output_type": "stream",
     "text": [
      "Enter a list of integers separated by spaces: 1 2 3 5 10\n",
      "Sum of the numbers: 21\n",
      "Average of the numbers: 4.2\n",
      "Maximum value: 10\n",
      "Minimum value: 1\n"
     ]
    }
   ],
   "source": [
    "num_list = input(\"Enter a list of integers separated by spaces: \").split()\n",
    "num_list = [int(x) for x in num_list]\n",
    "\n",
    "# Initializing variables for sum, maximum, and minimum\n",
    "sum_of_numbers = 0\n",
    "max_value = num_list[0]\n",
    "min_value = num_list[0]\n",
    "\n",
    "# Using a for loop to calculate the sum, maximum, and minimum\n",
    "for num in num_list:\n",
    "    sum_of_numbers += num\n",
    "    if num > max_value:\n",
    "        max_value = num\n",
    "    if num < min_value:\n",
    "        min_value = num\n",
    "\n",
    "# Calculate the average\n",
    "average = sum_of_numbers / len(num_list)\n",
    "\n",
    "print(f\"Sum of the numbers: {sum_of_numbers}\")\n",
    "print(f\"Average of the numbers: {average}\")\n",
    "print(f\"Maximum value: {max_value}\")\n",
    "print(f\"Minimum value: {min_value}\")"
   ]
  },
  {
   "cell_type": "markdown",
   "id": "f75c2370",
   "metadata": {},
   "source": [
    "### 29. Reverse String: Write a Python program using a while loop to reverse a given string."
   ]
  },
  {
   "cell_type": "code",
   "execution_count": 34,
   "id": "75b81004",
   "metadata": {},
   "outputs": [
    {
     "name": "stdout",
     "output_type": "stream",
     "text": [
      "Enter a string: string\n",
      "Reversed string: gnirts\n"
     ]
    }
   ],
   "source": [
    "original_string = input(\"Enter a string: \")\n",
    "\n",
    "reversed_string = \"\"\n",
    "\n",
    "index = len(original_string) - 1\n",
    "\n",
    "while index >= 0:\n",
    "    reversed_string += original_string[index]\n",
    "    index -= 1\n",
    "\n",
    "print(\"Reversed string:\", reversed_string)"
   ]
  },
  {
   "cell_type": "markdown",
   "id": "0bc24442",
   "metadata": {},
   "source": [
    "## Nested Loops:\n",
    "### 30. Multiplication Table: Write a Python program using nested loops to print the multiplication table from 1 to 10."
   ]
  },
  {
   "cell_type": "code",
   "execution_count": 35,
   "id": "c7b1ccf0",
   "metadata": {
    "scrolled": false
   },
   "outputs": [
    {
     "name": "stdout",
     "output_type": "stream",
     "text": [
      "Multiplication table for 1:\n",
      "1 x 1 = 1\n",
      "1 x 2 = 2\n",
      "1 x 3 = 3\n",
      "1 x 4 = 4\n",
      "1 x 5 = 5\n",
      "1 x 6 = 6\n",
      "1 x 7 = 7\n",
      "1 x 8 = 8\n",
      "1 x 9 = 9\n",
      "1 x 10 = 10\n",
      "\n",
      "Multiplication table for 2:\n",
      "2 x 1 = 2\n",
      "2 x 2 = 4\n",
      "2 x 3 = 6\n",
      "2 x 4 = 8\n",
      "2 x 5 = 10\n",
      "2 x 6 = 12\n",
      "2 x 7 = 14\n",
      "2 x 8 = 16\n",
      "2 x 9 = 18\n",
      "2 x 10 = 20\n",
      "\n",
      "Multiplication table for 3:\n",
      "3 x 1 = 3\n",
      "3 x 2 = 6\n",
      "3 x 3 = 9\n",
      "3 x 4 = 12\n",
      "3 x 5 = 15\n",
      "3 x 6 = 18\n",
      "3 x 7 = 21\n",
      "3 x 8 = 24\n",
      "3 x 9 = 27\n",
      "3 x 10 = 30\n",
      "\n",
      "Multiplication table for 4:\n",
      "4 x 1 = 4\n",
      "4 x 2 = 8\n",
      "4 x 3 = 12\n",
      "4 x 4 = 16\n",
      "4 x 5 = 20\n",
      "4 x 6 = 24\n",
      "4 x 7 = 28\n",
      "4 x 8 = 32\n",
      "4 x 9 = 36\n",
      "4 x 10 = 40\n",
      "\n",
      "Multiplication table for 5:\n",
      "5 x 1 = 5\n",
      "5 x 2 = 10\n",
      "5 x 3 = 15\n",
      "5 x 4 = 20\n",
      "5 x 5 = 25\n",
      "5 x 6 = 30\n",
      "5 x 7 = 35\n",
      "5 x 8 = 40\n",
      "5 x 9 = 45\n",
      "5 x 10 = 50\n",
      "\n",
      "Multiplication table for 6:\n",
      "6 x 1 = 6\n",
      "6 x 2 = 12\n",
      "6 x 3 = 18\n",
      "6 x 4 = 24\n",
      "6 x 5 = 30\n",
      "6 x 6 = 36\n",
      "6 x 7 = 42\n",
      "6 x 8 = 48\n",
      "6 x 9 = 54\n",
      "6 x 10 = 60\n",
      "\n",
      "Multiplication table for 7:\n",
      "7 x 1 = 7\n",
      "7 x 2 = 14\n",
      "7 x 3 = 21\n",
      "7 x 4 = 28\n",
      "7 x 5 = 35\n",
      "7 x 6 = 42\n",
      "7 x 7 = 49\n",
      "7 x 8 = 56\n",
      "7 x 9 = 63\n",
      "7 x 10 = 70\n",
      "\n",
      "Multiplication table for 8:\n",
      "8 x 1 = 8\n",
      "8 x 2 = 16\n",
      "8 x 3 = 24\n",
      "8 x 4 = 32\n",
      "8 x 5 = 40\n",
      "8 x 6 = 48\n",
      "8 x 7 = 56\n",
      "8 x 8 = 64\n",
      "8 x 9 = 72\n",
      "8 x 10 = 80\n",
      "\n",
      "Multiplication table for 9:\n",
      "9 x 1 = 9\n",
      "9 x 2 = 18\n",
      "9 x 3 = 27\n",
      "9 x 4 = 36\n",
      "9 x 5 = 45\n",
      "9 x 6 = 54\n",
      "9 x 7 = 63\n",
      "9 x 8 = 72\n",
      "9 x 9 = 81\n",
      "9 x 10 = 90\n",
      "\n",
      "Multiplication table for 10:\n",
      "10 x 1 = 10\n",
      "10 x 2 = 20\n",
      "10 x 3 = 30\n",
      "10 x 4 = 40\n",
      "10 x 5 = 50\n",
      "10 x 6 = 60\n",
      "10 x 7 = 70\n",
      "10 x 8 = 80\n",
      "10 x 9 = 90\n",
      "10 x 10 = 100\n",
      "\n"
     ]
    }
   ],
   "source": [
    "for i in range(1, 11):\n",
    "    print(f\"Multiplication table for {i}:\")\n",
    "\n",
    "    for j in range(1, 11):\n",
    "        result = i * j\n",
    "        print(f\"{i} x {j} = {result}\")\n",
    "\n",
    "    print()  # Add a blank line to separate tables"
   ]
  },
  {
   "cell_type": "markdown",
   "id": "270e1484",
   "metadata": {},
   "source": [
    "### 31. Print Patterns: Write a Python program using nested loops to print the following pattern:\n",
    "'\n",
    "*  \n",
    "**  \n",
    "***  \n",
    "****  \n",
    "*****"
   ]
  },
  {
   "cell_type": "code",
   "execution_count": 36,
   "id": "ac48ee13",
   "metadata": {},
   "outputs": [
    {
     "name": "stdout",
     "output_type": "stream",
     "text": [
      "Enter the number of rows for pattern: 5\n",
      "*\n",
      "**\n",
      "***\n",
      "****\n",
      "*****\n"
     ]
    }
   ],
   "source": [
    "rows = int(input(\"Enter the number of rows for pattern: \"))\n",
    "\n",
    "for row in range(1, rows+1):\n",
    "    print(row*\"*\")"
   ]
  },
  {
   "cell_type": "markdown",
   "id": "7d95fb5d",
   "metadata": {},
   "source": [
    "### 32. Matrix Multiplication: Write a Python program using nested loops to multiply two matrices."
   ]
  },
  {
   "cell_type": "code",
   "execution_count": 37,
   "id": "48d626ea",
   "metadata": {},
   "outputs": [
    {
     "name": "stdout",
     "output_type": "stream",
     "text": [
      "Enter the number of rows for matrix A: 2\n",
      "Enter the number of columns for matrix A and the number of rows for matrix B: 2\n",
      "Enter the number of columns for matrix B: 2\n",
      "Enter values for matrix A:\n",
      "Enter the value for A[1][1]: 1\n",
      "Enter the value for A[1][2]: 2\n",
      "Enter the value for A[2][1]: 3\n",
      "Enter the value for A[2][2]: 4\n",
      "Enter values for matrix B:\n",
      "Enter the value for B[1][1]: 5\n",
      "Enter the value for B[1][2]: 6\n",
      "Enter the value for B[2][1]: 7\n",
      "Enter the value for B[2][2]: 8\n",
      "\n",
      "Matrix A:\n",
      "[1.0, 2.0]\n",
      "[3.0, 4.0]\n",
      "\n",
      "Matrix B:\n",
      "[5.0, 6.0]\n",
      "[7.0, 8.0]\n",
      "\n",
      "Matrix C (A x B):\n",
      "[19.0, 22.0]\n",
      "[43.0, 50.0]\n"
     ]
    }
   ],
   "source": [
    "# Input the dimensions of the matrices\n",
    "m = int(input(\"Enter the number of rows for matrix A: \"))\n",
    "n = int(input(\"Enter the number of columns for matrix A and the number of rows for matrix B: \"))\n",
    "p = int(input(\"Enter the number of columns for matrix B: \"))\n",
    "\n",
    "# Initialize matrices A and B with zeros\n",
    "matrix_A = []\n",
    "matrix_B = []\n",
    "\n",
    "# Input values for matrix A\n",
    "print(\"Enter values for matrix A:\")\n",
    "for i in range(m):\n",
    "    row = []\n",
    "    for j in range(n):\n",
    "        value = float(input(f\"Enter the value for A[{i+1}][{j+1}]: \"))\n",
    "        row.append(value)\n",
    "    matrix_A.append(row)\n",
    "\n",
    "# Input values for matrix B\n",
    "print(\"Enter values for matrix B:\")\n",
    "for i in range(n):\n",
    "    row = []\n",
    "    for j in range(p):\n",
    "        value = float(input(f\"Enter the value for B[{i+1}][{j+1}]: \"))\n",
    "        row.append(value)\n",
    "    matrix_B.append(row)\n",
    "\n",
    "# Initialize the result matrix C with zeros\n",
    "matrix_C = [[0 for _ in range(p)] for _ in range(m)]\n",
    "\n",
    "# Multiply matrices A and B\n",
    "for i in range(m):\n",
    "    for j in range(p):\n",
    "        for k in range(n):\n",
    "            matrix_C[i][j] += matrix_A[i][k] * matrix_B[k][j]\n",
    "\n",
    "# Print the result matrix C\n",
    "print(\"\\nMatrix A:\")\n",
    "for row in matrix_A:\n",
    "    print(row)\n",
    "\n",
    "print(\"\\nMatrix B:\")\n",
    "for row in matrix_B:\n",
    "    print(row)\n",
    "\n",
    "print(\"\\nMatrix C (A x B):\")\n",
    "for row in matrix_C:\n",
    "    print(row)"
   ]
  },
  {
   "cell_type": "markdown",
   "id": "1a06d4d4",
   "metadata": {},
   "source": [
    "### 33. Chessboard Pattern: Write a Python program using nested loops to print a chessboard pattern (alternating “X” and “O” characters) of size 8×8.34. Number Pyramid: Write a Python program using nested loops to print a number pyramid like the following:\n",
    "\n",
    "1  \n",
    "22  \n",
    "333  \n",
    "4444  \n",
    "55555  "
   ]
  },
  {
   "cell_type": "code",
   "execution_count": 38,
   "id": "86f34369",
   "metadata": {},
   "outputs": [
    {
     "name": "stdout",
     "output_type": "stream",
     "text": [
      "1\n",
      "22\n",
      "333\n",
      "4444\n",
      "55555\n"
     ]
    }
   ],
   "source": [
    "rows = 5\n",
    "\n",
    "for i in range(1, rows + 1):\n",
    "    for j in range(i):\n",
    "        print(i, end=\"\")\n",
    "    print()"
   ]
  },
  {
   "cell_type": "markdown",
   "id": "afb079e9",
   "metadata": {},
   "source": [
    "## List Problems:\n",
    "### 34. List Sum: Write a Python program to find the sum of all elements in a given list of integers."
   ]
  },
  {
   "cell_type": "code",
   "execution_count": 39,
   "id": "c50bf9bc",
   "metadata": {},
   "outputs": [
    {
     "name": "stdout",
     "output_type": "stream",
     "text": [
      "Enter a list of integers separated by spaces: 1 2 3 4 5\n",
      "The sum of the elements in the list is: 15\n"
     ]
    }
   ],
   "source": [
    "num_list = input(\"Enter a list of integers separated by spaces: \").split()\n",
    "num_list = [int(x) for x in num_list]\n",
    "\n",
    "sum_of_elements = 0\n",
    "\n",
    "for num in num_list:\n",
    "    sum_of_elements += num\n",
    "\n",
    "print(f\"The sum of the elements in the list is: {sum_of_elements}\")"
   ]
  },
  {
   "cell_type": "markdown",
   "id": "9ec1229d",
   "metadata": {},
   "source": [
    "### 35. List Average: Write a Python program to calculate the average of all elements in a given list of integers."
   ]
  },
  {
   "cell_type": "code",
   "execution_count": 40,
   "id": "ca6e1928",
   "metadata": {},
   "outputs": [
    {
     "name": "stdout",
     "output_type": "stream",
     "text": [
      "Enter a list of integers seperated by spaces: 1 2 3 45 10\n",
      "The average of the elements in the list is: 12.2\n"
     ]
    }
   ],
   "source": [
    "num_list = input(\"Enter a list of integers seperated by spaces: \").split()\n",
    "num_list = [int(x) for x in num_list]\n",
    "\n",
    "average = sum(num_list) / len(num_list)\n",
    "\n",
    "print(f\"The average of the elements in the list is: {average}\")"
   ]
  },
  {
   "cell_type": "markdown",
   "id": "d05d099e",
   "metadata": {},
   "source": [
    "### 36. List Max and Min: Write a Python program to find the maximum and minimum values in a given list of integers."
   ]
  },
  {
   "cell_type": "code",
   "execution_count": 41,
   "id": "f42025f6",
   "metadata": {},
   "outputs": [
    {
     "name": "stdout",
     "output_type": "stream",
     "text": [
      "Enter a list of integers seperated by spaces: 1 10 100 99 5 0\n",
      "The maximum value is: 100 & the minimum is: 0\n"
     ]
    }
   ],
   "source": [
    "num_list = input(\"Enter a list of integers seperated by spaces: \").split()\n",
    "num_list = [int(x) for x in num_list]\n",
    "\n",
    "print(f\"The maximum value is: {max(num_list)} & the minimum is: {min(num_list)}\")"
   ]
  },
  {
   "cell_type": "markdown",
   "id": "82861576",
   "metadata": {},
   "source": [
    "### 37. List Sorting: Write a Python program to sort a list of integers in ascending order."
   ]
  },
  {
   "cell_type": "code",
   "execution_count": 43,
   "id": "f41f634f",
   "metadata": {},
   "outputs": [
    {
     "name": "stdout",
     "output_type": "stream",
     "text": [
      "Enter a list of integers seperated by spaces: 50 70 8 9 10 -100\n",
      "Sorted list in ascending order:  [-100, 8, 9, 10, 50, 70]\n"
     ]
    }
   ],
   "source": [
    "num_list = input(\"Enter a list of integers seperated by spaces: \").split()\n",
    "num_list = [int(x) for x in num_list]\n",
    "\n",
    "sorted_list = sorted(num_list)\n",
    "print(\"Sorted list in ascending order: \",sorted_list )"
   ]
  },
  {
   "cell_type": "markdown",
   "id": "4ff8e7a6",
   "metadata": {},
   "source": [
    "### 38. List Filtering: Given a list of integers, write a Python program to create a new list that contains only the even numbers from the original list."
   ]
  },
  {
   "cell_type": "code",
   "execution_count": 44,
   "id": "b69d2df5",
   "metadata": {},
   "outputs": [
    {
     "name": "stdout",
     "output_type": "stream",
     "text": [
      "Enter a list of integers separated by spaces: 10 5 20 9 8 7\n",
      "Even numbers from the original list: [10, 20, 8]\n"
     ]
    }
   ],
   "source": [
    "num_list = input(\"Enter a list of integers separated by spaces: \").split()\n",
    "num_list = [int(x) for x in num_list]\n",
    "\n",
    "even_list = []\n",
    "\n",
    "for num in num_list:\n",
    "    if num % 2 == 0:\n",
    "        even_list.append(num)\n",
    "\n",
    "print(\"Even numbers from the original list:\", even_list)"
   ]
  },
  {
   "cell_type": "markdown",
   "id": "b8e84b33",
   "metadata": {},
   "source": [
    "### 39. List Reversal: Write a Python program to reverse a given list without using any built-in functions."
   ]
  },
  {
   "cell_type": "code",
   "execution_count": 45,
   "id": "9e1757b7",
   "metadata": {},
   "outputs": [
    {
     "name": "stdout",
     "output_type": "stream",
     "text": [
      "Enter a list of elements separated by spaces: -10 50 10 1 0 -100 500\n",
      "Reversed list: ['500', '-100', '0', '1', '10', '50', '-10']\n"
     ]
    }
   ],
   "source": [
    "elements = input(\"Enter a list of elements separated by spaces: \").split()\n",
    "\n",
    "original_list = list(elements)\n",
    "\n",
    "reversed_list = []\n",
    "\n",
    "for i in range(len(original_list) - 1, -1, -1):\n",
    "    reversed_list.append(original_list[i])\n",
    "\n",
    "print(\"Reversed list:\", reversed_list)"
   ]
  },
  {
   "cell_type": "markdown",
   "id": "0d647aef",
   "metadata": {},
   "source": [
    "### 40. List Manipulation: Given two lists of integers, write a Python program to create a new list that contains elements common to both lists."
   ]
  },
  {
   "cell_type": "code",
   "execution_count": 46,
   "id": "8141f552",
   "metadata": {},
   "outputs": [
    {
     "name": "stdout",
     "output_type": "stream",
     "text": [
      "Enter the first list of integers separated by spaces: 10 5 11 20 1\n",
      "Enter the second list of integers separated by spaces: 10 5 55 100\n",
      "Common elements between the two lists: [10, 5]\n"
     ]
    }
   ],
   "source": [
    "list1 = input(\"Enter the first list of integers separated by spaces: \").split()\n",
    "list2 = input(\"Enter the second list of integers separated by spaces: \").split()\n",
    "\n",
    "list1 = [int(x) for x in list1]\n",
    "list2 = [int(x) for x in list2]\n",
    "\n",
    "common_elements = []\n",
    "\n",
    "for num in list1:\n",
    "    if num in list2:\n",
    "        common_elements.append(num)\n",
    "\n",
    "print(\"Common elements between the two lists:\", common_elements)"
   ]
  },
  {
   "cell_type": "markdown",
   "id": "557deeaa",
   "metadata": {},
   "source": [
    "### 41. List Element Count: Write a Python program to count the occurrences of a specific element in a given list."
   ]
  },
  {
   "cell_type": "code",
   "execution_count": 47,
   "id": "d62ba526",
   "metadata": {},
   "outputs": [
    {
     "name": "stdout",
     "output_type": "stream",
     "text": [
      "Enter a list of elements separated by spaces: alu potol alu papon nannu\n",
      "Enter the element to count: alu\n",
      "The element 'alu' occurs 2 times in the list.\n"
     ]
    }
   ],
   "source": [
    "elements = input(\"Enter a list of elements separated by spaces: \").split()\n",
    "\n",
    "element_to_count = input(\"Enter the element to count: \")\n",
    "\n",
    "element_list = list(elements)\n",
    "\n",
    "count = 0\n",
    "\n",
    "for element in element_list:\n",
    "    if element == element_to_count:\n",
    "        count += 1\n",
    "\n",
    "print(f\"The element '{element_to_count}' occurs {count} times in the list.\")"
   ]
  },
  {
   "cell_type": "markdown",
   "id": "0a24cb48",
   "metadata": {},
   "source": [
    "### 42. List Duplicates Removal: Write a Python program to remove duplicates from a given list while preserving the order of the elements."
   ]
  },
  {
   "cell_type": "code",
   "execution_count": 48,
   "id": "46081112",
   "metadata": {},
   "outputs": [
    {
     "name": "stdout",
     "output_type": "stream",
     "text": [
      "Enter a list of elements separated by spaces: 1 2 3 3 3 5 10 9 8 8 8 8 10\n",
      "List with duplicates removed and order preserved: ['1', '2', '3', '5', '10', '9', '8']\n"
     ]
    }
   ],
   "source": [
    "elements = input(\"Enter a list of elements separated by spaces: \").split()\n",
    "\n",
    "element_list = list(elements)\n",
    "\n",
    "unique_list = []\n",
    "\n",
    "for element in element_list:\n",
    "    if element not in unique_list:\n",
    "        unique_list.append(element)\n",
    "\n",
    "print(\"List with duplicates removed and order preserved:\", unique_list)"
   ]
  },
  {
   "cell_type": "markdown",
   "id": "a3059876",
   "metadata": {},
   "source": [
    "### 43. List Comprehension: Given a list of integers, write a Python program to create a new list that contains the squares of the elements using list comprehension."
   ]
  },
  {
   "cell_type": "code",
   "execution_count": 49,
   "id": "6d8a1642",
   "metadata": {},
   "outputs": [
    {
     "name": "stdout",
     "output_type": "stream",
     "text": [
      "Enter a list of integers separated by spaces: 1 2 3 4 5\n",
      "List of squared elements: [1, 4, 9, 16, 25]\n"
     ]
    }
   ],
   "source": [
    "num_list = input(\"Enter a list of integers separated by spaces: \").split()\n",
    "num_list = [int(x) for x in num_list]\n",
    "\n",
    "squared_list = [num ** 2 for num in num_list]\n",
    "\n",
    "print(\"List of squared elements:\", squared_list)"
   ]
  },
  {
   "cell_type": "markdown",
   "id": "385bb28a",
   "metadata": {},
   "source": [
    "## Nested List Problems:\n",
    "### 44. Matrix Addition: Write a Python program to add two matrices represented as nested lists."
   ]
  },
  {
   "cell_type": "code",
   "execution_count": 50,
   "id": "3aeb4c9a",
   "metadata": {
    "scrolled": false
   },
   "outputs": [
    {
     "name": "stdout",
     "output_type": "stream",
     "text": [
      "Enter the number of rows: 2\n",
      "Enter the number of columns: 3\n",
      "Enter values for matrix A:\n",
      "Enter the value for A[1][1]: 1\n",
      "Enter the value for A[1][2]: 2\n",
      "Enter the value for A[1][3]: 3\n",
      "Enter the value for A[2][1]: 5\n",
      "Enter the value for A[2][2]: 4\n",
      "Enter the value for A[2][3]: 5\n",
      "Enter values for matrix B:\n",
      "Enter the value for B[1][1]: 1\n",
      "Enter the value for B[1][2]: 5\n",
      "Enter the value for B[1][3]: 9\n",
      "Enter the value for B[2][1]: 2\n",
      "Enter the value for B[2][2]: 9\n",
      "Enter the value for B[2][3]: 8\n",
      "\n",
      "Matrix A:\n",
      "[1.0, 2.0, 3.0]\n",
      "[5.0, 4.0, 5.0]\n",
      "\n",
      "Matrix B:\n",
      "[1.0, 5.0, 9.0]\n",
      "[2.0, 9.0, 8.0]\n",
      "\n",
      "Matrix C (A + B):\n",
      "[2.0, 7.0, 12.0]\n",
      "[7.0, 13.0, 13.0]\n"
     ]
    }
   ],
   "source": [
    "rows = int(input(\"Enter the number of rows: \"))\n",
    "cols = int(input(\"Enter the number of columns: \"))\n",
    "\n",
    "matrix_A = []\n",
    "matrix_B = []\n",
    "\n",
    "# Input values for matrix A\n",
    "print(\"Enter values for matrix A:\")\n",
    "for i in range(rows):\n",
    "    row = []\n",
    "    for j in range(cols):\n",
    "        value = float(input(f\"Enter the value for A[{i+1}][{j+1}]: \"))\n",
    "        row.append(value)\n",
    "    matrix_A.append(row)\n",
    "\n",
    "# Input values for matrix B\n",
    "print(\"Enter values for matrix B:\")\n",
    "for i in range(rows):\n",
    "    row = []\n",
    "    for j in range(cols):\n",
    "        value = float(input(f\"Enter the value for B[{i+1}][{j+1}]: \"))\n",
    "        row.append(value)\n",
    "    matrix_B.append(row)\n",
    "\n",
    "# Initialization of the result matrix C with zeros\n",
    "matrix_C = [[0 for _ in range(cols)] for _ in range(rows)]\n",
    "\n",
    "# addition\n",
    "for i in range(rows):\n",
    "    for j in range(cols):\n",
    "        matrix_C[i][j] = matrix_A[i][j] + matrix_B[i][j]\n",
    "\n",
    "print(\"\\nMatrix A:\")\n",
    "for row in matrix_A:\n",
    "    print(row)\n",
    "\n",
    "print(\"\\nMatrix B:\")\n",
    "for row in matrix_B:\n",
    "    print(row)\n",
    "\n",
    "print(\"\\nMatrix C (A + B):\")\n",
    "for row in matrix_C:\n",
    "    print(row)"
   ]
  },
  {
   "cell_type": "markdown",
   "id": "22958811",
   "metadata": {},
   "source": [
    "### 45. Flatten Nested List: Write a Python program to flatten a given nested list and convert it into a single-dimensional list."
   ]
  },
  {
   "cell_type": "code",
   "execution_count": 51,
   "id": "e576e99b",
   "metadata": {},
   "outputs": [
    {
     "name": "stdout",
     "output_type": "stream",
     "text": [
      "Enter a nested list (e.g., [[1, 2], [3, [4, 5]], 6]): [[1, 2], [5, 7]]\n",
      "Flattened list: [1, 2, 5, 7]\n"
     ]
    }
   ],
   "source": [
    "def flatten_list(nested_list):\n",
    "    flattened = []\n",
    "    for item in nested_list:\n",
    "        if isinstance(item, list):\n",
    "            flattened.extend(flatten_list(item))\n",
    "        else:\n",
    "            flattened.append(item)\n",
    "    return flattened\n",
    "\n",
    "nested_list = eval(input(\"Enter a nested list (e.g., [[1, 2], [3, [4, 5]], 6]): \"))\n",
    "\n",
    "flat_list = flatten_list(nested_list)\n",
    "\n",
    "print(\"Flattened list:\", flat_list)"
   ]
  },
  {
   "cell_type": "markdown",
   "id": "ab2c2986",
   "metadata": {},
   "source": [
    "### 46. List Element Frequency: Given a nested list containing lists of integers, write a Python program to count the frequency of each element in the entire nested list."
   ]
  },
  {
   "cell_type": "code",
   "execution_count": 54,
   "id": "fd6cdf46",
   "metadata": {},
   "outputs": [
    {
     "name": "stdout",
     "output_type": "stream",
     "text": [
      "Enter a nested list of integers: [[5, 5], [2, 3]]\n",
      "Element frequencies:\n",
      "5: 2\n",
      "2: 1\n",
      "3: 1\n"
     ]
    }
   ],
   "source": [
    "def count_element_frequencies(nested_list):\n",
    "    frequencies = {}\n",
    "\n",
    "    def count_elements(sub_list):\n",
    "        for item in sub_list:\n",
    "            if isinstance(item, list):\n",
    "                count_elements(item)\n",
    "            else:\n",
    "                if item in frequencies:\n",
    "                    frequencies[item] += 1\n",
    "                else:\n",
    "                    frequencies[item] = 1\n",
    "\n",
    "    count_elements(nested_list)\n",
    "    return frequencies\n",
    "\n",
    "nested_list = eval(input(\"Enter a nested list of integers: \"))\n",
    "\n",
    "element_frequencies = count_element_frequencies(nested_list)\n",
    "\n",
    "print(\"Element frequencies:\")\n",
    "for element, frequency in element_frequencies.items():\n",
    "    print(f\"{element}: {frequency}\")"
   ]
  },
  {
   "cell_type": "markdown",
   "id": "a0026c85",
   "metadata": {},
   "source": [
    "### 47. Transpose Matrix: Write a Python program to transpose a given matrix represented as a nested list.\n"
   ]
  },
  {
   "cell_type": "code",
   "execution_count": 55,
   "id": "a7b0d190",
   "metadata": {},
   "outputs": [
    {
     "name": "stdout",
     "output_type": "stream",
     "text": [
      "Enter the number of rows: 2\n",
      "Enter the number of columns: 3\n",
      "Enter the value for element [1][1]: 1\n",
      "Enter the value for element [2][2]: 2\n",
      "Enter the value for element [3][3]: 3\n",
      "Enter the value for element [1][1]: 4\n",
      "Enter the value for element [2][2]: 5\n",
      "Enter the value for element [3][3]: 6\n",
      "\n",
      "Original Matrix:\n",
      "[1.0, 2.0, 3.0]\n",
      "[4.0, 5.0, 6.0]\n",
      "\n",
      "Transposed Matrix:\n",
      "[1.0, 4.0]\n",
      "[2.0, 5.0]\n",
      "[3.0, 6.0]\n"
     ]
    }
   ],
   "source": [
    "rows = int(input(\"Enter the number of rows: \"))\n",
    "cols = int(input(\"Enter the number of columns: \"))\n",
    "\n",
    "matrix = []\n",
    "for _ in range(rows):\n",
    "    row = []\n",
    "    for _ in range(cols):\n",
    "        value = float(input(f\"Enter the value for element [{_ + 1}][{_ + 1}]: \"))\n",
    "        row.append(value)\n",
    "    matrix.append(row)\n",
    "\n",
    "transpose_matrix = [[0 for _ in range(rows)] for _ in range(cols)]\n",
    "for i in range(rows):\n",
    "    for j in range(cols):\n",
    "        transpose_matrix[j][i] = matrix[i][j]\n",
    "\n",
    "print(\"\\nOriginal Matrix:\")\n",
    "for row in matrix:\n",
    "    print(row)\n",
    "\n",
    "print(\"\\nTransposed Matrix:\")\n",
    "for row in transpose_matrix:\n",
    "    print(row)"
   ]
  },
  {
   "cell_type": "markdown",
   "id": "9dd5afc2",
   "metadata": {},
   "source": [
    "### 48. List of Lists Concatenation: Given a list of nested lists, write a Python program to concatenate all the sublists into a single flat list."
   ]
  },
  {
   "cell_type": "code",
   "execution_count": 56,
   "id": "a391bb9f",
   "metadata": {},
   "outputs": [
    {
     "name": "stdout",
     "output_type": "stream",
     "text": [
      "Enter a list of nested lists: [[1, 2], [2, 3]]\n",
      "Flattened list: [1, 2, 2, 3]\n"
     ]
    }
   ],
   "source": [
    "nested_lists = eval(input(\"Enter a list of nested lists: \"))\n",
    "\n",
    "flat_list = [item for sublist in nested_lists for item in sublist]\n",
    "\n",
    "print(\"Flattened list:\", flat_list)"
   ]
  },
  {
   "cell_type": "markdown",
   "id": "866118db",
   "metadata": {},
   "source": [
    "## Tuple Problems:\n",
    "### 49. Tuple Concatenation: Write a Python program to concatenate two tuples and create a new tuple."
   ]
  },
  {
   "cell_type": "code",
   "execution_count": 57,
   "id": "f2feba32",
   "metadata": {},
   "outputs": [
    {
     "name": "stdout",
     "output_type": "stream",
     "text": [
      "Enter the first tuple elements separated by spaces: 1 2\n",
      "Enter the second tuple elements separated by spaces: 3 2\n",
      "Concatenated tuple: ('1', '2', '3', '2')\n"
     ]
    }
   ],
   "source": [
    "tuple1 = tuple(input(\"Enter the first tuple elements separated by spaces: \").split())\n",
    "tuple2 = tuple(input(\"Enter the second tuple elements separated by spaces: \").split())\n",
    "\n",
    "concatenated_tuple = tuple1 + tuple2\n",
    "\n",
    "print(\"Concatenated tuple:\", concatenated_tuple)"
   ]
  },
  {
   "cell_type": "markdown",
   "id": "133e7434",
   "metadata": {},
   "source": [
    "### 50. Tuple Unpacking: Given a tuple with three elements (x, y, z), write a Python program to unpack the tuple and assign the values to three variables."
   ]
  },
  {
   "cell_type": "code",
   "execution_count": 58,
   "id": "2191781f",
   "metadata": {},
   "outputs": [
    {
     "name": "stdout",
     "output_type": "stream",
     "text": [
      "x =  5\n",
      "y =  6\n",
      "z =  7\n"
     ]
    }
   ],
   "source": [
    "given_tuple = (5, 6, 7)\n",
    "x, y, z = given_tuple\n",
    "\n",
    "print(\"x = \", x)\n",
    "print(\"y = \", y)\n",
    "print(\"z = \", z)"
   ]
  },
  {
   "cell_type": "markdown",
   "id": "3fa0b546",
   "metadata": {},
   "source": [
    "### 51. Tuple Sorting: Write a Python program to sort a tuple of integers in ascending order."
   ]
  },
  {
   "cell_type": "code",
   "execution_count": 59,
   "id": "deaac71a",
   "metadata": {},
   "outputs": [
    {
     "data": {
      "text/plain": [
       "(-2, 5, 10, 30, 70)"
      ]
     },
     "execution_count": 59,
     "metadata": {},
     "output_type": "execute_result"
    }
   ],
   "source": [
    "given_tuple = (10, 30, 5, -2, 70)\n",
    "sorted_tuple = tuple(sorted(given_tuple))\n",
    "sorted_tuple"
   ]
  },
  {
   "cell_type": "markdown",
   "id": "bb3c84a2",
   "metadata": {},
   "source": [
    "### 52. Tuple Frequency Count: Given a tuple containing various elements, write a Python program to count the frequency of a specific element in the tuple."
   ]
  },
  {
   "cell_type": "code",
   "execution_count": 60,
   "id": "1c207f93",
   "metadata": {},
   "outputs": [
    {
     "name": "stdout",
     "output_type": "stream",
     "text": [
      "Enter the element to count: apple\n",
      "The element 'apple' occurs 3 times in the tuple.\n"
     ]
    }
   ],
   "source": [
    "my_tuple = (1, 'apple', 2, 'banana', 3, 'apple', 4, 'cherry', 'apple')\n",
    "\n",
    "element_to_count = input(\"Enter the element to count: \")\n",
    "\n",
    "count = my_tuple.count(element_to_count)\n",
    "\n",
    "print(f\"The element '{element_to_count}' occurs {count} times in the tuple.\")"
   ]
  },
  {
   "cell_type": "markdown",
   "id": "db435897",
   "metadata": {},
   "source": [
    "### 53. Tuple to List: Write a Python program to convert a tuple into a list."
   ]
  },
  {
   "cell_type": "code",
   "execution_count": 61,
   "id": "97a0bc0c",
   "metadata": {},
   "outputs": [
    {
     "name": "stdout",
     "output_type": "stream",
     "text": [
      "<class 'list'>\n",
      "[1, 'apple', 2, 'banana', 3, 'apple', 4, 'cherry', 'apple']\n"
     ]
    }
   ],
   "source": [
    "Amy_tuple = (1, 'apple', 2, 'banana', 3, 'apple', 4, 'cherry', 'apple')\n",
    "my_list_of_tuple = list(my_tuple)\n",
    "print(type(my_list_of_tuple))\n",
    "print(my_list_of_tuple)"
   ]
  },
  {
   "cell_type": "markdown",
   "id": "600b1e22",
   "metadata": {},
   "source": [
    "### 54. Tuple Reversal: Write a Python program to reverse a tuple without using any built-in functions."
   ]
  },
  {
   "cell_type": "code",
   "execution_count": 62,
   "id": "9bd17685",
   "metadata": {},
   "outputs": [
    {
     "name": "stdout",
     "output_type": "stream",
     "text": [
      "Reversed tuple: (5, 4, 3, 2, 1)\n"
     ]
    }
   ],
   "source": [
    "my_tuple = (1, 2, 3, 4, 5)\n",
    "\n",
    "tuple_list = list(my_tuple)\n",
    "\n",
    "reversed_list = []\n",
    "for item in tuple_list[::-1]:\n",
    "    reversed_list.append(item)\n",
    "\n",
    "reversed_tuple = tuple(reversed_list)\n",
    "\n",
    "print(\"Reversed tuple:\", reversed_tuple)"
   ]
  },
  {
   "cell_type": "markdown",
   "id": "6df73420",
   "metadata": {},
   "source": [
    "### 55. Tuple Slicing: Given a tuple, write a Python program to extract a slice of elements from it."
   ]
  },
  {
   "cell_type": "code",
   "execution_count": 63,
   "id": "850081d6",
   "metadata": {},
   "outputs": [
    {
     "name": "stdout",
     "output_type": "stream",
     "text": [
      "Enter the start index (0-based): 5\n",
      "Enter the end index (0-based): 8\n",
      "Sliced tuple: (6, 7, 8, 9)\n"
     ]
    }
   ],
   "source": [
    "my_tuple = (1, 2, 3, 4, 5, 6, 7, 8, 9, 10)\n",
    "\n",
    "start_index = int(input(\"Enter the start index (0-based): \"))\n",
    "end_index = int(input(\"Enter the end index (0-based): \"))\n",
    "\n",
    "sliced_tuple = my_tuple[start_index:end_index + 1]\n",
    "\n",
    "print(\"Sliced tuple:\", sliced_tuple)"
   ]
  },
  {
   "cell_type": "markdown",
   "id": "8ad60877",
   "metadata": {},
   "source": [
    "### 56. Tuple Operations: Given two tuples of integers, write a Python program to perform element-wise addition, subtraction, and multiplication and create new tuples for each operation."
   ]
  },
  {
   "cell_type": "code",
   "execution_count": 64,
   "id": "6737f7e6",
   "metadata": {},
   "outputs": [
    {
     "name": "stdout",
     "output_type": "stream",
     "text": [
      "Element-wise addition result: (7, 9, 11, 13, 15)\n",
      "Element-wise subtraction result: (-5, -5, -5, -5, -5)\n",
      "Element-wise multiplication result: (6, 14, 24, 36, 50)\n"
     ]
    }
   ],
   "source": [
    "tuple1 = (1, 2, 3, 4, 5)\n",
    "tuple2 = (6, 7, 8, 9, 10)\n",
    "\n",
    "addition_result = tuple(x + y for x, y in zip(tuple1, tuple2))\n",
    "\n",
    "subtraction_result = tuple(x - y for x, y in zip(tuple1, tuple2))\n",
    "\n",
    "multiplication_result = tuple(x * y for x, y in zip(tuple1, tuple2))\n",
    "\n",
    "print(\"Element-wise addition result:\", addition_result)\n",
    "print(\"Element-wise subtraction result:\", subtraction_result)\n",
    "print(\"Element-wise multiplication result:\", multiplication_result)"
   ]
  },
  {
   "cell_type": "markdown",
   "id": "f778a920",
   "metadata": {},
   "source": [
    "### 57. Tuple Membership Test: Write a Python program that takes an element as input and checks if it exists in a given tuple."
   ]
  },
  {
   "cell_type": "code",
   "execution_count": 65,
   "id": "8347ef61",
   "metadata": {},
   "outputs": [
    {
     "name": "stdout",
     "output_type": "stream",
     "text": [
      "Enter the element to check: 10\n",
      "The element 10 does not exist in the tuple.\n"
     ]
    }
   ],
   "source": [
    "my_tuple = (1, 2, 3, 4, 5)\n",
    "\n",
    "element_to_check = int(input(\"Enter the element to check: \"))\n",
    "\n",
    "if element_to_check in my_tuple:\n",
    "    print(f\"The element {element_to_check} exists in the tuple.\")\n",
    "else:\n",
    "    print(f\"The element {element_to_check} does not exist in the tuple.\")"
   ]
  },
  {
   "cell_type": "markdown",
   "id": "157efcd0",
   "metadata": {},
   "source": [
    "### 58. Tuple Packing: Write a Python program to pack three variables into a single tuple and print the tuple."
   ]
  },
  {
   "cell_type": "code",
   "execution_count": 66,
   "id": "a2bd2c18",
   "metadata": {},
   "outputs": [
    {
     "name": "stdout",
     "output_type": "stream",
     "text": [
      "Enter the first variable: 10\n",
      "Enter the second variable: 30\n",
      "Enter the third variable: 50\n",
      "Packed tuple: ('10', '30', '50')\n"
     ]
    }
   ],
   "source": [
    "var1 = input(\"Enter the first variable: \")\n",
    "var2 = input(\"Enter the second variable: \")\n",
    "var3 = input(\"Enter the third variable: \")\n",
    "\n",
    "packed_tuple = (var1, var2, var3)\n",
    "\n",
    "print(\"Packed tuple:\", packed_tuple)"
   ]
  },
  {
   "cell_type": "markdown",
   "id": "7a41d7c1",
   "metadata": {},
   "source": [
    "## Nested List Problems:\n",
    "### 59. Nested List Element Access: Given a nested list, write a Python program to access and print specific elements from it."
   ]
  },
  {
   "cell_type": "code",
   "execution_count": 68,
   "id": "2a2d49af",
   "metadata": {},
   "outputs": [
    {
     "name": "stdout",
     "output_type": "stream",
     "text": [
      "Enter the row index: 1\n",
      "Enter the column index: 1\n",
      "The element at [1][1] is: 5\n"
     ]
    }
   ],
   "source": [
    "nested_list = [\n",
    "    [1, 2, 3],\n",
    "    [4, 5, 6],\n",
    "    [7, 8, 9]\n",
    "]\n",
    "\n",
    "row_index = int(input(\"Enter the row index: \"))\n",
    "column_index = int(input(\"Enter the column index: \"))\n",
    "\n",
    "if 0 <= row_index < len(nested_list) and 0 <= column_index < len(nested_list[0]):\n",
    "    element = nested_list[row_index][column_index]\n",
    "    print(f\"The element at [{row_index}][{column_index}] is: {element}\")\n",
    "else:\n",
    "    print(\"Invalid indices. Please enter valid indices within the bounds of the nested list.\")"
   ]
  },
  {
   "cell_type": "markdown",
   "id": "446408c8",
   "metadata": {},
   "source": [
    "### 60. Nested List Flattening: Write a Python program to flatten a nested list and convert it into a single-dimensional list."
   ]
  },
  {
   "cell_type": "code",
   "execution_count": 69,
   "id": "85c371ad",
   "metadata": {},
   "outputs": [
    {
     "name": "stdout",
     "output_type": "stream",
     "text": [
      "Flattened list: [1, 2, 3, 4, 5, 6, 7, 8]\n"
     ]
    }
   ],
   "source": [
    "def flatten_list(nested_list):\n",
    "    flattened = []\n",
    "    for item in nested_list:\n",
    "        if isinstance(item, list):\n",
    "            flattened.extend(flatten_list(item))\n",
    "        else:\n",
    "            flattened.append(item)\n",
    "    return flattened\n",
    "\n",
    "nested_list = [1, [2, [3, 4], 5], 6, [7, 8]]\n",
    "\n",
    "flat_list = flatten_list(nested_list)\n",
    "\n",
    "print(\"Flattened list:\", flat_list)"
   ]
  },
  {
   "cell_type": "markdown",
   "id": "eb872f26",
   "metadata": {},
   "source": [
    "### 61. Nested List Sorting: Given a nested list containing lists of integers, write a Python program to sort the sublists based on their lengths."
   ]
  },
  {
   "cell_type": "code",
   "execution_count": 70,
   "id": "0b71b4d8",
   "metadata": {},
   "outputs": [
    {
     "name": "stdout",
     "output_type": "stream",
     "text": [
      "Sorted nested list based on sublist lengths:\n",
      "[10]\n",
      "[4, 5]\n",
      "[1, 2, 3]\n",
      "[6, 7, 8, 9]\n",
      "[11, 12, 13, 14]\n"
     ]
    }
   ],
   "source": [
    "nested_list = [[1, 2, 3], [4, 5], [6, 7, 8, 9], [10], [11, 12, 13, 14]]\n",
    "\n",
    "sorted_nested_list = sorted(nested_list, key=len)\n",
    "\n",
    "print(\"Sorted nested list based on sublist lengths:\")\n",
    "for sublist in sorted_nested_list:\n",
    "    print(sublist)"
   ]
  },
  {
   "cell_type": "markdown",
   "id": "d72e307f",
   "metadata": {},
   "source": [
    "### 62. List of Tuples Conversion: Given a nested list containing tuples of (x, y) coordinates, write a Python program to convert it into a list of x-coordinates and a list of y-coordinates."
   ]
  },
  {
   "cell_type": "code",
   "execution_count": 73,
   "id": "5bbb4976",
   "metadata": {},
   "outputs": [
    {
     "name": "stdout",
     "output_type": "stream",
     "text": [
      "x-coordinates: [1, 3, 5, 7]\n",
      "y-coordinates: [2, 4, 6, 8]\n"
     ]
    }
   ],
   "source": [
    "nested_list = [(1, 2), (3, 4), (5, 6), (7, 8)]\n",
    "\n",
    "x_coordinates = []\n",
    "y_coordinates = []\n",
    "\n",
    "for x, y in nested_list:\n",
    "    x_coordinates.append(x)\n",
    "    y_coordinates.append(y)\n",
    "\n",
    "print(\"x-coordinates:\", x_coordinates)\n",
    "print(\"y-coordinates:\", y_coordinates)"
   ]
  },
  {
   "cell_type": "markdown",
   "id": "9b0cb831",
   "metadata": {},
   "source": [
    "### 63. Matrix Transpose: Write a Python program to transpose a given matrix represented as a nested list."
   ]
  },
  {
   "cell_type": "code",
   "execution_count": 74,
   "id": "ffefe5da",
   "metadata": {},
   "outputs": [
    {
     "name": "stdout",
     "output_type": "stream",
     "text": [
      "Original Matrix:\n",
      "[1, 2, 3]\n",
      "[4, 5, 6]\n",
      "[7, 8, 9]\n",
      "\n",
      "Transposed Matrix:\n",
      "[1, 4, 7]\n",
      "[2, 5, 8]\n",
      "[3, 6, 9]\n"
     ]
    }
   ],
   "source": [
    "matrix = [\n",
    "    [1, 2, 3],\n",
    "    [4, 5, 6],\n",
    "    [7, 8, 9]\n",
    "]\n",
    "\n",
    "num_rows = len(matrix)\n",
    "num_cols = len(matrix[0])\n",
    "\n",
    "transposed_matrix = [[] for _ in range(num_cols)]\n",
    "\n",
    "for i in range(num_rows):\n",
    "    for j in range(num_cols):\n",
    "        transposed_matrix[j].append(matrix[i][j])\n",
    "\n",
    "print(\"Original Matrix:\")\n",
    "for row in matrix:\n",
    "    print(row)\n",
    "\n",
    "print(\"\\nTransposed Matrix:\")\n",
    "for row in transposed_matrix:\n",
    "    print(row)"
   ]
  },
  {
   "cell_type": "markdown",
   "id": "e8151861",
   "metadata": {},
   "source": [
    "### 64. Nested List Concatenation: Given a list of nested lists, write a Python program to concatenate all the sublists into a single flat list."
   ]
  },
  {
   "cell_type": "code",
   "execution_count": 75,
   "id": "c3822c04",
   "metadata": {},
   "outputs": [
    {
     "name": "stdout",
     "output_type": "stream",
     "text": [
      "Enter a list of nested lists: [[1, 2], [3, 4]]\n",
      "Flattened list: [1, 2, 3, 4]\n"
     ]
    }
   ],
   "source": [
    "nested_lists = eval(input(\"Enter a list of nested lists: \"))\n",
    "\n",
    "flat_list = [item for sublist in nested_lists for item in sublist]\n",
    "\n",
    "print(\"Flattened list:\", flat_list)"
   ]
  },
  {
   "cell_type": "markdown",
   "id": "e779941c",
   "metadata": {},
   "source": [
    "### 65. Count Even Numbers: Write a Python program to count the number of even numbers in a nested list."
   ]
  },
  {
   "cell_type": "code",
   "execution_count": 76,
   "id": "b4c994d6",
   "metadata": {},
   "outputs": [
    {
     "name": "stdout",
     "output_type": "stream",
     "text": [
      "Number of even numbers: 6\n"
     ]
    }
   ],
   "source": [
    "nested_list = [[1, 2, 3], [4, 5, 6], [7, 8, 9, 10], [11, 12]]\n",
    "\n",
    "even_count = 0\n",
    "\n",
    "for sublist in nested_list:\n",
    "    for num in sublist:\n",
    "        if num % 2 == 0:\n",
    "            even_count += 1\n",
    "\n",
    "print(\"Number of even numbers:\", even_count)"
   ]
  },
  {
   "cell_type": "markdown",
   "id": "95110636",
   "metadata": {},
   "source": [
    "### 66. Maximum Element in Nested List: Write a Python program to find the maximum element in a nested list of integers."
   ]
  },
  {
   "cell_type": "code",
   "execution_count": 77,
   "id": "68eb88e7",
   "metadata": {},
   "outputs": [
    {
     "name": "stdout",
     "output_type": "stream",
     "text": [
      "Maximum element: 50\n"
     ]
    }
   ],
   "source": [
    "nested_list = [[1, 2, 3], [4, 5, 6], [7, 8, 9, 10], [11, 12], [20, 21], [22, 50]]\n",
    "\n",
    "max_element = None\n",
    "\n",
    "for sublist in nested_list:\n",
    "    for num in sublist:\n",
    "        if max_element is None or num > max_element:\n",
    "            max_element = num\n",
    "\n",
    "print(\"Maximum element:\", max_element)"
   ]
  },
  {
   "cell_type": "markdown",
   "id": "774aeb8e",
   "metadata": {},
   "source": [
    "### 67. Diagonal Sum of Matrix: Given a square matrix represented as a nested list, write a Python program to calculate the sum of the elements in the main diagonal."
   ]
  },
  {
   "cell_type": "code",
   "execution_count": 78,
   "id": "6aa082a3",
   "metadata": {},
   "outputs": [
    {
     "name": "stdout",
     "output_type": "stream",
     "text": [
      "Sum of the elements in the main diagonal: 54\n"
     ]
    }
   ],
   "source": [
    "matrix = [\n",
    "    [1, 2, 3],\n",
    "    [10, 11, 12],\n",
    "    [40, 41, 42]\n",
    "]\n",
    "\n",
    "main_diagonal_sum = sum(matrix[i][i] for i in range(len(matrix)))\n",
    "\n",
    "print(\"Sum of the elements in the main diagonal:\", main_diagonal_sum)"
   ]
  },
  {
   "cell_type": "markdown",
   "id": "c86acea8",
   "metadata": {},
   "source": [
    "### 68. Nested List Element Search: Write a Python program to search for a specific element in a nested list and return its position (row and column indices)."
   ]
  },
  {
   "cell_type": "code",
   "execution_count": 79,
   "id": "ee43e77a",
   "metadata": {},
   "outputs": [
    {
     "name": "stdout",
     "output_type": "stream",
     "text": [
      "Enter the element to search for: 8\n",
      "Element 8 found at position (2, 1).\n"
     ]
    }
   ],
   "source": [
    "nested_list = [\n",
    "    [1, 2, 3],\n",
    "    [4, 5, 6],\n",
    "    [7, 8, 9]\n",
    "]\n",
    "\n",
    "element_to_search = int(input(\"Enter the element to search for: \"))\n",
    "\n",
    "row_index = -1\n",
    "col_index = -1\n",
    "\n",
    "for i in range(len(nested_list)):\n",
    "    for j in range(len(nested_list[i])):\n",
    "        if nested_list[i][j] == element_to_search:\n",
    "            row_index = i\n",
    "            col_index = j\n",
    "            break\n",
    "\n",
    "if row_index != -1 and col_index != -1:\n",
    "    print(f\"Element {element_to_search} found at position ({row_index}, {col_index}).\")\n",
    "else:\n",
    "    print(f\"Element {element_to_search} not found in the nested list.\")"
   ]
  },
  {
   "cell_type": "markdown",
   "id": "c5c205d4",
   "metadata": {},
   "source": [
    "## Set Problems:\n",
    "### 69. Duplicate Removal: Write a Python program that takes a list of elements as input and creates a new set containing only the unique elements from the list."
   ]
  },
  {
   "cell_type": "code",
   "execution_count": 80,
   "id": "8687b669",
   "metadata": {},
   "outputs": [
    {
     "name": "stdout",
     "output_type": "stream",
     "text": [
      "Enter the list elements seperated by space: 1 2 3 4 10 20 39\n"
     ]
    },
    {
     "data": {
      "text/plain": [
       "{'1', '10', '2', '20', '3', '39', '4'}"
      ]
     },
     "execution_count": 80,
     "metadata": {},
     "output_type": "execute_result"
    }
   ],
   "source": [
    "given_input = input(\"Enter the list elements seperated by space: \").split()\n",
    "list_of_inputs = list(given_input)\n",
    "set_of_the_list = set(list_of_inputs)\n",
    "set_of_the_list"
   ]
  },
  {
   "cell_type": "markdown",
   "id": "083670d1",
   "metadata": {},
   "source": [
    "### 70. Set Intersection: Given two sets A and B, write a Python program to find their intersection and print the common elements."
   ]
  },
  {
   "cell_type": "code",
   "execution_count": 81,
   "id": "dcb52b06",
   "metadata": {},
   "outputs": [
    {
     "name": "stdout",
     "output_type": "stream",
     "text": [
      "Common elements in sets A and B: {3, 4, 5, 6}\n"
     ]
    }
   ],
   "source": [
    "A = {1, 2, 3, 4, 5, 6}\n",
    "B = {3, 4, 5, 6, 7, 8}\n",
    "\n",
    "intersection = A.intersection(B)\n",
    "\n",
    "print(\"Common elements in sets A and B:\", intersection)"
   ]
  },
  {
   "cell_type": "markdown",
   "id": "548c0d8a",
   "metadata": {},
   "source": [
    "### 71. Set Union: Given two sets A and B, write a Python program to find their union and print all the distinct elements from both sets."
   ]
  },
  {
   "cell_type": "code",
   "execution_count": 82,
   "id": "0dfdbc2b",
   "metadata": {},
   "outputs": [
    {
     "name": "stdout",
     "output_type": "stream",
     "text": [
      "Union of elemnets in A and B: {1, 2, 3, 4, 5, 6, 7, 8}\n"
     ]
    }
   ],
   "source": [
    "A = {1, 2, 3, 4, 5, 6}\n",
    "B = {3, 4, 5, 6, 7, 8}\n",
    "\n",
    "union = A.union(B)\n",
    "print(\"Union of elemnets in A and B:\", union)"
   ]
  },
  {
   "cell_type": "markdown",
   "id": "157eb8b6",
   "metadata": {},
   "source": [
    "### 72. Set Difference: Given two sets A and B, write a Python program to find the difference between set A and set B (i.e., elements present in A but not in B) and print the result."
   ]
  },
  {
   "cell_type": "code",
   "execution_count": 83,
   "id": "3bc8f2f7",
   "metadata": {},
   "outputs": [
    {
     "name": "stdout",
     "output_type": "stream",
     "text": [
      "Difference of elements in A and B: {1, 2}\n"
     ]
    }
   ],
   "source": [
    "A = {1, 2, 3, 4, 5, 6}\n",
    "B = {3, 4, 5, 6, 7, 8}\n",
    "\n",
    "difference = A.difference(B)\n",
    "print(\"Difference of elements in A and B:\", difference)"
   ]
  },
  {
   "cell_type": "markdown",
   "id": "bcce1f55",
   "metadata": {},
   "source": [
    "### 73. Set Symmetric Difference: Given two sets A and B, write a Python program to find the symmetric difference between the two sets (i.e., elements that are present in either set A or set B, but not in both) and print the result."
   ]
  },
  {
   "cell_type": "code",
   "execution_count": 84,
   "id": "f9a4bf2d",
   "metadata": {},
   "outputs": [
    {
     "data": {
      "text/plain": [
       "{1, 2, 7, 8}"
      ]
     },
     "execution_count": 84,
     "metadata": {},
     "output_type": "execute_result"
    }
   ],
   "source": [
    "A = {1, 2, 3, 4, 5, 6}\n",
    "B = {3, 4, 5, 6, 7, 8}\n",
    "\n",
    "symmetric_difference = A.symmetric_difference(B)\n",
    "symmetric_difference"
   ]
  },
  {
   "cell_type": "markdown",
   "id": "a6f53812",
   "metadata": {},
   "source": [
    "### 74. Set Operations: Given three sets A, B, and C, write a Python program to find and print the intersection of A and B, the union of B and C, and the difference between C and A."
   ]
  },
  {
   "cell_type": "code",
   "execution_count": 85,
   "id": "c817d5e5",
   "metadata": {},
   "outputs": [
    {
     "name": "stdout",
     "output_type": "stream",
     "text": [
      "Intersection of A and B: {3, 4, 5}\n",
      "Union of B and C: {3, 4, 5, 6, 7, 8, 9}\n",
      "Difference between C and A: {8, 9, 6, 7}\n"
     ]
    }
   ],
   "source": [
    "A = {1, 2, 3, 4, 5}\n",
    "B = {3, 4, 5, 6, 7}\n",
    "C = {5, 6, 7, 8, 9}\n",
    "\n",
    "intersection_AB = A.intersection(B)\n",
    "print(\"Intersection of A and B:\", intersection_AB)\n",
    "\n",
    "union_BC = B.union(C)\n",
    "print(\"Union of B and C:\", union_BC)\n",
    "\n",
    "difference_CA = C - A\n",
    "print(\"Difference between C and A:\", difference_CA)"
   ]
  },
  {
   "cell_type": "markdown",
   "id": "5c11546a",
   "metadata": {},
   "source": [
    "### 75. Set Subset Check: Given two sets A and B, write a Python program to check if set A is a subset of set B and print the result."
   ]
  },
  {
   "cell_type": "code",
   "execution_count": 86,
   "id": "bfe0d143",
   "metadata": {},
   "outputs": [
    {
     "name": "stdout",
     "output_type": "stream",
     "text": [
      "Set A is a subset of set B.\n"
     ]
    }
   ],
   "source": [
    "A = {1, 2, 3}\n",
    "B = {1, 2, 3, 4, 5}\n",
    "\n",
    "is_subset = A.issubset(B)\n",
    "\n",
    "if is_subset:\n",
    "    print(\"Set A is a subset of set B.\")\n",
    "else:\n",
    "    print(\"Set A is not a subset of set B.\")"
   ]
  },
  {
   "cell_type": "markdown",
   "id": "40b6ff10",
   "metadata": {},
   "source": [
    "### 76. Set Superset Check: Given two sets A and B, write a Python program to check if set A is a superset of set B and print the result."
   ]
  },
  {
   "cell_type": "code",
   "execution_count": 87,
   "id": "f607cd97",
   "metadata": {},
   "outputs": [
    {
     "name": "stdout",
     "output_type": "stream",
     "text": [
      "Set B is a superset of set A.\n"
     ]
    }
   ],
   "source": [
    "A = {1, 2, 3}\n",
    "B = {1, 2, 3, 4, 5}\n",
    "\n",
    "is_superset = B.issuperset(A)\n",
    "\n",
    "if is_superset:\n",
    "    print(\"Set B is a superset of set A.\")\n",
    "else:\n",
    "    print(\"Set B is not a superset of set A.\")"
   ]
  },
  {
   "cell_type": "markdown",
   "id": "69f54500",
   "metadata": {},
   "source": [
    "### 77. Set Length Check: Write a Python program that takes a set as input and prints the number of elements in the set."
   ]
  },
  {
   "cell_type": "code",
   "execution_count": 88,
   "id": "1b6625c0",
   "metadata": {},
   "outputs": [
    {
     "name": "stdout",
     "output_type": "stream",
     "text": [
      "Enter a set in pyhton syntax: {1, 2, 10, 5}\n",
      "Lenth of set: {1, 2, 10, 5} is 4\n"
     ]
    }
   ],
   "source": [
    "given_set = eval(input(\"Enter a set in pyhton syntax: \"))\n",
    "\n",
    "print(f\"Lenth of set: {given_set} is {len(given_set)}\")"
   ]
  },
  {
   "cell_type": "markdown",
   "id": "3710dcfb",
   "metadata": {},
   "source": [
    "### 78. Set Membership Test: Write a Python program that takes an element as input and checks if it exists in a given set. Print “Found” if the element is present and “Not Found” otherwise."
   ]
  },
  {
   "cell_type": "code",
   "execution_count": 89,
   "id": "93876bec",
   "metadata": {},
   "outputs": [
    {
     "name": "stdout",
     "output_type": "stream",
     "text": [
      "Provide an element(1-10 mustbe) of the set to check: 10\n",
      "Not Found\n"
     ]
    }
   ],
   "source": [
    "B = {1, 2, 3, 4, 5}\n",
    "\n",
    "given_input = int(input(\"Provide an element(1-10 mustbe) of the set to check: \"))\n",
    "\n",
    "if given_input in B:\n",
    "    print(\"Found\")\n",
    "else:\n",
    "    print(\"Not Found\")\n"
   ]
  },
  {
   "cell_type": "markdown",
   "id": "ebc5ab19",
   "metadata": {},
   "source": [
    "## Dictionary Problems:"
   ]
  },
  {
   "cell_type": "markdown",
   "id": "f436be21",
   "metadata": {},
   "source": [
    "### 79. Dictionary Manipulation: Given a dictionary with student names as keys and their corresponding scores as values, write a Python program to add a new student to the dictionary and update the score of an existing student."
   ]
  },
  {
   "cell_type": "code",
   "execution_count": 90,
   "id": "526429a3",
   "metadata": {},
   "outputs": [
    {
     "name": "stdout",
     "output_type": "stream",
     "text": [
      "Enter student name: Shujon\n",
      "Enter student score: 0\n",
      "Updated score for Shujon: 0.0\n",
      "Updated student scores: {'Shujon': 0.0, 'Nannu': 92, 'Papon': 78, 'Bashsar': 88}\n"
     ]
    }
   ],
   "source": [
    "student_scores = {\n",
    "    \"Shujon\": 85,\n",
    "    \"Nannu\": 92,\n",
    "    \"Papon\": 78,\n",
    "    \"Bashsar\": 88\n",
    "}\n",
    "\n",
    "def add_or_update_student_score(student_name, score):\n",
    "    if student_name in student_scores:\n",
    "        student_scores[student_name] = score\n",
    "        print(f\"Updated score for {student_name}: {score}\")\n",
    "    else:\n",
    "        student_scores[student_name] = score\n",
    "        print(f\"Added new student: {student_name} with a score of {score}\")\n",
    "\n",
    "student_name = input(\"Enter student name: \")\n",
    "student_score = float(input(\"Enter student score: \"))\n",
    "\n",
    "add_or_update_student_score(student_name, student_score)\n",
    "\n",
    "print(\"Updated student scores:\", student_scores)"
   ]
  },
  {
   "cell_type": "markdown",
   "id": "8de1fe52",
   "metadata": {},
   "source": [
    "### 80. Dictionary Keys and Values: Write a Python program that takes a dictionary as input and prints all the keys and values in separate lines."
   ]
  },
  {
   "cell_type": "code",
   "execution_count": 93,
   "id": "63d23b3a",
   "metadata": {},
   "outputs": [
    {
     "name": "stdout",
     "output_type": "stream",
     "text": [
      "Enter a dictionary: {\"name\": \"papon\", \"age\": 500}\n",
      "Keys:\n",
      "name\n",
      "age\n",
      "\n",
      "Values:\n",
      "papon\n",
      "500\n"
     ]
    }
   ],
   "source": [
    "input_dict = eval(input(\"Enter a dictionary: \"))\n",
    "\n",
    "print(\"Keys:\")\n",
    "for key in input_dict:\n",
    "    print(key)\n",
    "\n",
    "print(\"\\nValues:\")\n",
    "for value in input_dict.values():\n",
    "    print(value)"
   ]
  },
  {
   "cell_type": "markdown",
   "id": "95a00daf",
   "metadata": {},
   "source": [
    "### 81. Dictionary Length: Write a Python program to calculate and print the number of key-value pairs in a given dictionary."
   ]
  },
  {
   "cell_type": "code",
   "execution_count": 94,
   "id": "d8989948",
   "metadata": {},
   "outputs": [
    {
     "name": "stdout",
     "output_type": "stream",
     "text": [
      "Enter a dictionary: {\"name\": \"papon\", \"age\": 500}\n",
      "Number of key-value pairs in the dictionary: 2\n"
     ]
    }
   ],
   "source": [
    "input_dict = eval(input(\"Enter a dictionary: \"))\n",
    "\n",
    "num_pairs = len(input_dict)\n",
    "print(\"Number of key-value pairs in the dictionary:\", num_pairs)"
   ]
  },
  {
   "cell_type": "markdown",
   "id": "f422081c",
   "metadata": {},
   "source": [
    "### 82. Dictionary Value Search: Given a dictionary of items and their prices, write a Python program to search for an item based on its price and print the item’s name."
   ]
  },
  {
   "cell_type": "code",
   "execution_count": 95,
   "id": "f6f4f900",
   "metadata": {},
   "outputs": [
    {
     "name": "stdout",
     "output_type": "stream",
     "text": [
      "Enter the price to search for: 15\n",
      "The item with price 15.0 is: item2\n"
     ]
    }
   ],
   "source": [
    "item_prices = {\n",
    "    \"item1\": 10.0,\n",
    "    \"item2\": 15.0,\n",
    "    \"item3\": 20.0,\n",
    "    \"item4\": 25.0\n",
    "}\n",
    "\n",
    "search_price = float(input(\"Enter the price to search for: \"))\n",
    "\n",
    "found_item = None\n",
    "\n",
    "for item, price in item_prices.items():\n",
    "    if price == search_price:\n",
    "        found_item = item\n",
    "        break\n",
    "\n",
    "if found_item is not None:\n",
    "    print(f\"The item with price {search_price} is: {found_item}\")\n",
    "else:\n",
    "    print(f\"No item found with price {search_price}.\")"
   ]
  },
  {
   "cell_type": "markdown",
   "id": "d25c6976",
   "metadata": {},
   "source": [
    "### 83. Dictionary Merging: Given two dictionaries, write a Python program to merge them into a single dictionary and print the result."
   ]
  },
  {
   "cell_type": "code",
   "execution_count": 96,
   "id": "80a9020e",
   "metadata": {},
   "outputs": [
    {
     "name": "stdout",
     "output_type": "stream",
     "text": [
      "Merged dictionary: {'a': 1, 'b': 2, 'c': 4, 'd': 5, 'e': 6}\n"
     ]
    }
   ],
   "source": [
    "dict1 = {\"a\": 1, \"b\": 2, \"c\": 3}\n",
    "dict2 = {\"c\": 4, \"d\": 5, \"e\": 6}\n",
    "\n",
    "merged_dict = {**dict1, **dict2}\n",
    "\n",
    "print(\"Merged dictionary:\", merged_dict)"
   ]
  },
  {
   "cell_type": "markdown",
   "id": "f258e851",
   "metadata": {},
   "source": [
    "### 84. Dictionary Frequency Count: Write a Python program that takes a string as input and creates a dictionary containing each character as a key and its frequency as the value."
   ]
  },
  {
   "cell_type": "code",
   "execution_count": 97,
   "id": "da16730d",
   "metadata": {},
   "outputs": [
    {
     "name": "stdout",
     "output_type": "stream",
     "text": [
      "Enter a string: aksdjfisafjlk\n",
      "Character frequency dictionary:\n",
      "'a': 2\n",
      "'k': 2\n",
      "'s': 2\n",
      "'d': 1\n",
      "'j': 2\n",
      "'f': 2\n",
      "'i': 1\n",
      "'l': 1\n"
     ]
    }
   ],
   "source": [
    "input_string = input(\"Enter a string: \")\n",
    "\n",
    "char_frequency_dict = {}\n",
    "\n",
    "for char in input_string:\n",
    "    if char in char_frequency_dict:\n",
    "        char_frequency_dict[char] += 1\n",
    "    else:\n",
    "        char_frequency_dict[char] = 1\n",
    "\n",
    "print(\"Character frequency dictionary:\")\n",
    "for char, frequency in char_frequency_dict.items():\n",
    "    print(f\"'{char}': {frequency}\")"
   ]
  },
  {
   "cell_type": "markdown",
   "id": "8b8d7774",
   "metadata": {},
   "source": [
    "### 85. Dictionary Comprehension: Given a list of integers, write a Python program to create a dictionary where the keys are the elements from the list, and the values are their squares."
   ]
  },
  {
   "cell_type": "code",
   "execution_count": 98,
   "id": "b2302270",
   "metadata": {},
   "outputs": [
    {
     "name": "stdout",
     "output_type": "stream",
     "text": [
      "Enter a list of integers separated by spaces: 1 2 3 4 5\n",
      "Dictionary with elements and their squares:\n",
      "1: 1\n",
      "2: 4\n",
      "3: 9\n",
      "4: 16\n",
      "5: 25\n"
     ]
    }
   ],
   "source": [
    "input_list = input(\"Enter a list of integers separated by spaces: \").split()\n",
    "input_list = [int(x) for x in input_list]\n",
    "\n",
    "squares_dict = {}\n",
    "\n",
    "for num in input_list:\n",
    "    squares_dict[num] = num * num\n",
    "\n",
    "print(\"Dictionary with elements and their squares:\")\n",
    "for key, value in squares_dict.items():\n",
    "    print(f\"{key}: {value}\")"
   ]
  },
  {
   "cell_type": "markdown",
   "id": "5c1f76fc",
   "metadata": {},
   "source": [
    "### 86. Write a Python program that takes a key as input and checks if it exists in a given dictionary. Print “Key Found” if the key is present and “Key Not Found” otherwise."
   ]
  },
  {
   "cell_type": "code",
   "execution_count": 99,
   "id": "db88ba72",
   "metadata": {},
   "outputs": [
    {
     "name": "stdout",
     "output_type": "stream",
     "text": [
      "Enter a key to search for: apple\n",
      "Key Found\n"
     ]
    }
   ],
   "source": [
    "my_dict = {\"apple\": 10, \"banana\": 5, \"cherry\": 8, \"date\": 12}\n",
    "\n",
    "search_key = input(\"Enter a key to search for: \")\n",
    "\n",
    "if search_key in my_dict:\n",
    "    print(\"Key Found\")\n",
    "else:\n",
    "    print(\"Key Not Found\")"
   ]
  },
  {
   "cell_type": "markdown",
   "id": "a443e45f",
   "metadata": {},
   "source": [
    "## Nested Dictionary Problems:\n",
    "### 87. Access Nested Dictionary: Given a nested dictionary containing student details, write a Python program to access and print specific information such as a student’s name, age, and address."
   ]
  },
  {
   "cell_type": "code",
   "execution_count": 100,
   "id": "931d55cb",
   "metadata": {},
   "outputs": [
    {
     "name": "stdout",
     "output_type": "stream",
     "text": [
      "Name of student1 is Papon\n",
      "Age of student1 is 60\n",
      "Address of student1 is skdfjhjhsdfj\n",
      "Name of student2 is Nannu\n",
      "Age of student2 is 70\n",
      "Address of student2 is sldkjhfjlksnhf\n",
      "Name of student3 is GotiDanob\n",
      "Age of student3 is 50\n",
      "Address of student3 is mcbnfjhrg\n"
     ]
    }
   ],
   "source": [
    "student_details = {\n",
    "    \"student1\": {\n",
    "        \"name\": \"Papon\",\n",
    "        \"age\": 60,\n",
    "        \"address\": \"skdfjhjhsdfj\"\n",
    "    },\n",
    "    \"student2\": {\n",
    "        \"name\": \"Nannu\",\n",
    "        \"age\": 70,\n",
    "        \"address\": \"sldkjhfjlksnhf\"\n",
    "    },\n",
    "    \"student3\": {\n",
    "        \"name\": \"GotiDanob\",\n",
    "        \"age\": 50,\n",
    "        \"address\": \"mcbnfjhrg\"\n",
    "    }\n",
    "}\n",
    "\n",
    "for student in student_details:\n",
    "    print(f\"Name of {student} is {student_details[student]['name']}\")\n",
    "    print(f\"Age of {student} is {student_details[student]['age']}\")\n",
    "    print(f\"Address of {student} is {student_details[student]['address']}\")"
   ]
  },
  {
   "cell_type": "markdown",
   "id": "ad3afafa",
   "metadata": {},
   "source": [
    "### 88. Nested Dictionary Length: Write a Python program to calculate and print the total number of key-value pairs in a nested dictionary."
   ]
  },
  {
   "cell_type": "code",
   "execution_count": 101,
   "id": "cecb266b",
   "metadata": {},
   "outputs": [
    {
     "name": "stdout",
     "output_type": "stream",
     "text": [
      "Total number of key-value pairs in the nested dictionary: 9\n"
     ]
    }
   ],
   "source": [
    "student_details = {\n",
    "    \"student1\": {\n",
    "        \"name\": \"Nannu\",\n",
    "        \"age\": 60,\n",
    "        \"address\": \"sdfsdfsdfsf\"\n",
    "    },\n",
    "    \"student2\": {\n",
    "        \"name\": \"Shujon Goda\",\n",
    "        \"age\": 70,\n",
    "        \"address\": \"ldfjgjdhjf\"\n",
    "    },\n",
    "    \"student3\": {\n",
    "        \"name\": \"Papon\",\n",
    "        \"age\": 80,\n",
    "        \"address\": \"xc,jgerfhjs\"\n",
    "    }\n",
    "}\n",
    "\n",
    "def count_nested_dict_items(nested_dict):\n",
    "    count = 0\n",
    "    for key, value in nested_dict.items():\n",
    "        if isinstance(value, dict):\n",
    "            count += count_nested_dict_items(value)\n",
    "        else:\n",
    "            count += 1\n",
    "    return count\n",
    "\n",
    "total_items = count_nested_dict_items(student_details)\n",
    "print(\"Total number of key-value pairs in the nested dictionary:\", total_items)"
   ]
  },
  {
   "cell_type": "markdown",
   "id": "cc4341f4",
   "metadata": {},
   "source": [
    "### 89. Nested Dictionary Update: Given a nested dictionary of employee details, write a Python program to update an employee’s salary based on their employee ID."
   ]
  },
  {
   "cell_type": "code",
   "execution_count": 102,
   "id": "7f144879",
   "metadata": {},
   "outputs": [
    {
     "name": "stdout",
     "output_type": "stream",
     "text": [
      "Enter employee ID to update salary: 101\n",
      "Enter new salary for the employee: -500\n",
      "Salary for employee with ID 101 updated to -500.0\n"
     ]
    },
    {
     "data": {
      "text/plain": [
       "{101: {'name': 'Papon', 'salary': -500.0},\n",
       " 102: {'name': 'Nannu', 'salary': 60000},\n",
       " 103: {'name': 'Shujon', 'salary': 55000}}"
      ]
     },
     "execution_count": 102,
     "metadata": {},
     "output_type": "execute_result"
    }
   ],
   "source": [
    "employee_details = {\n",
    "    101: {\n",
    "        \"name\": \"Papon\",\n",
    "        \"salary\": 50000\n",
    "    },\n",
    "    102: {\n",
    "        \"name\": \"Nannu\",\n",
    "        \"salary\": 60000\n",
    "    },\n",
    "    103: {\n",
    "        \"name\": \"Shujon\",\n",
    "        \"salary\": 55000\n",
    "    }\n",
    "}\n",
    "\n",
    "employee_id = int(input(\"Enter employee ID to update salary: \"))\n",
    "\n",
    "if employee_id in employee_details:\n",
    "    new_salary = float(input(\"Enter new salary for the employee: \"))\n",
    "    employee_details[employee_id][\"salary\"] = new_salary\n",
    "    print(f\"Salary for employee with ID {employee_id} updated to {new_salary}\")\n",
    "else:\n",
    "    print(f\"Employee with ID {employee_id} not found.\")\n",
    "    \n",
    "employee_details"
   ]
  },
  {
   "cell_type": "markdown",
   "id": "9ddf06e6",
   "metadata": {},
   "source": [
    "### 90. Nested Dictionary Sorting: Given a nested dictionary containing product details (product name, price, and quantity), write a Python program to sort the products based on their prices in ascending order."
   ]
  },
  {
   "cell_type": "code",
   "execution_count": 103,
   "id": "90db0594",
   "metadata": {},
   "outputs": [
    {
     "name": "stdout",
     "output_type": "stream",
     "text": [
      "Products sorted by price in ascending order:\n",
      "Product Name: Banana\n",
      "Price: 0.5\n",
      "Quantity: 15\n",
      "\n",
      "Product Name: Apple\n",
      "Price: 1.0\n",
      "Quantity: 10\n",
      "\n",
      "Product Name: Cherry\n",
      "Price: 1.5\n",
      "Quantity: 8\n",
      "\n"
     ]
    }
   ],
   "source": [
    "product_details = {\n",
    "    \"product1\": {\n",
    "        \"name\": \"Apple\",\n",
    "        \"price\": 1.0,\n",
    "        \"quantity\": 10\n",
    "    },\n",
    "    \"product2\": {\n",
    "        \"name\": \"Banana\",\n",
    "        \"price\": 0.5,\n",
    "        \"quantity\": 15\n",
    "    },\n",
    "    \"product3\": {\n",
    "        \"name\": \"Cherry\",\n",
    "        \"price\": 1.5,\n",
    "        \"quantity\": 8\n",
    "    }\n",
    "}\n",
    "\n",
    "sorted_products = sorted(product_details.items(), key=lambda x: x[1][\"price\"])\n",
    "\n",
    "print(\"Products sorted by price in ascending order:\")\n",
    "for product_key, product_info in sorted_products:\n",
    "    print(f\"Product Name: {product_info['name']}\")\n",
    "    print(f\"Price: {product_info['price']}\")\n",
    "    print(f\"Quantity: {product_info['quantity']}\")\n",
    "    print()"
   ]
  },
  {
   "cell_type": "markdown",
   "id": "db0f1c15",
   "metadata": {},
   "source": [
    "### 91. Nested Dictionary Key Search: Write a Python program that takes a key as input and searches for it in a nested dictionary. If found, print the corresponding value, otherwise, print “Key Not Found.”"
   ]
  },
  {
   "cell_type": "code",
   "execution_count": 104,
   "id": "9941f8e8",
   "metadata": {},
   "outputs": [
    {
     "name": "stdout",
     "output_type": "stream",
     "text": [
      "Enter a key to search for: inner_key3\n",
      "The value for key 'inner_key3' is: value3\n"
     ]
    }
   ],
   "source": [
    "nested_dict = {\n",
    "    \"outer_key1\": {\n",
    "        \"inner_key1\": \"value1\",\n",
    "        \"inner_key2\": \"value2\"\n",
    "    },\n",
    "    \"outer_key2\": {\n",
    "        \"inner_key3\": \"value3\",\n",
    "        \"inner_key4\": \"value4\"\n",
    "    }\n",
    "}\n",
    "\n",
    "search_key = input(\"Enter a key to search for: \")\n",
    "\n",
    "found_value = None\n",
    "\n",
    "for outer_key, inner_dict in nested_dict.items():\n",
    "    if search_key in inner_dict:\n",
    "        found_value = inner_dict[search_key]\n",
    "        break\n",
    "\n",
    "if found_value is not None:\n",
    "    print(f\"The value for key '{search_key}' is: {found_value}\")\n",
    "else:\n",
    "    print(f\"Key '{search_key}' not found.\")"
   ]
  },
  {
   "cell_type": "markdown",
   "id": "1561289d",
   "metadata": {},
   "source": [
    "## Break & Continue: \n",
    "### 92. Prime Number Checker: Write a Python program that takes a number as input and determines if it is a prime number or not. Use a `for` loop to check for factors. If a factor is found, `break` out of the loop."
   ]
  },
  {
   "cell_type": "code",
   "execution_count": 105,
   "id": "bf50b14e",
   "metadata": {},
   "outputs": [
    {
     "name": "stdout",
     "output_type": "stream",
     "text": [
      "Enter a number: 61\n",
      "61 is a prime number.\n"
     ]
    }
   ],
   "source": [
    "num = int(input(\"Enter a number: \"))\n",
    "\n",
    "if num < 2:\n",
    "    is_prime = False\n",
    "else:\n",
    "    is_prime = True\n",
    "\n",
    "    for i in range(2, int(num**0.5) + 1):\n",
    "        if num % i == 0:\n",
    "            is_prime = False\n",
    "            break\n",
    "\n",
    "if is_prime:\n",
    "    print(f\"{num} is a prime number.\")\n",
    "else:\n",
    "    print(f\"{num} is not a prime number.\")"
   ]
  },
  {
   "cell_type": "markdown",
   "id": "c78d90bd",
   "metadata": {},
   "source": [
    "### 93. Even Number Printer: Write a Python program to print all even numbers from 1 to 20. Use a `for` loop and `continue` to skip odd numbers."
   ]
  },
  {
   "cell_type": "code",
   "execution_count": 106,
   "id": "297385aa",
   "metadata": {},
   "outputs": [
    {
     "name": "stdout",
     "output_type": "stream",
     "text": [
      "2\n",
      "4\n",
      "6\n",
      "8\n",
      "10\n",
      "12\n",
      "14\n",
      "16\n",
      "18\n",
      "20\n"
     ]
    }
   ],
   "source": [
    "for num in range(1, 21):\n",
    "    if num % 2 != 0:\n",
    "        continue \n",
    "    print(num) "
   ]
  },
  {
   "cell_type": "markdown",
   "id": "dbb69854",
   "metadata": {},
   "source": [
    "### 94. Password Validator: Write a Python program that takes a password as input and checks if it meets the following criteria: at least 8 characters long, contains both uppercase and lowercase letters, and has at least one digit. If the password is valid, print “Password accepted.” If not, use `continue` to prompt the user to enter a valid password."
   ]
  },
  {
   "cell_type": "code",
   "execution_count": 107,
   "id": "8a6273f1",
   "metadata": {},
   "outputs": [
    {
     "name": "stdout",
     "output_type": "stream",
     "text": [
      "Enter a password: aluPOtol123\n",
      "Password accepted\n"
     ]
    }
   ],
   "source": [
    "while True:\n",
    "    password = input(\"Enter a password: \")\n",
    "\n",
    "    if len(password) < 8:\n",
    "        print(\"Password must be at least 8 characters long. Try again.\")\n",
    "        continue\n",
    "    if not any(char.isupper() for char in password):\n",
    "        print(\"Password must contain at least one uppercase letter. Try again.\")\n",
    "        continue\n",
    "    if not any(char.islower() for char in password):\n",
    "        print(\"Password must contain at least one lowercase letter. Try again.\")\n",
    "        continue\n",
    "    if not any(char.isdigit() for char in password):\n",
    "        print(\"Password must contain at least one digit. Try again.\")\n",
    "        continue\n",
    "\n",
    "    print(\"Password accepted\")\n",
    "    break"
   ]
  },
  {
   "cell_type": "markdown",
   "id": "b5727c78",
   "metadata": {},
   "source": [
    "### 95. Divisible by 3 or 5: Write a Python program to print all numbers from 1 to 50 that are divisible by either 3 or 5. Use a `for` loop and `continue` to skip numbers that are not divisible by either 3 or 5."
   ]
  },
  {
   "cell_type": "code",
   "execution_count": 108,
   "id": "a9177091",
   "metadata": {},
   "outputs": [
    {
     "name": "stdout",
     "output_type": "stream",
     "text": [
      "3\n",
      "5\n",
      "6\n",
      "9\n",
      "10\n",
      "12\n",
      "15\n",
      "18\n",
      "20\n",
      "21\n",
      "24\n",
      "25\n",
      "27\n",
      "30\n",
      "33\n",
      "35\n",
      "36\n",
      "39\n",
      "40\n",
      "42\n",
      "45\n",
      "48\n",
      "50\n"
     ]
    }
   ],
   "source": [
    "for num in range(1, 51):\n",
    "    if num % 3 != 0 and num % 5 != 0:\n",
    "        continue  \n",
    "    print(num)"
   ]
  },
  {
   "cell_type": "markdown",
   "id": "9d63b76a",
   "metadata": {},
   "source": [
    "### 96. Positive Number Sum: Write a Python program that takes positive numbers as input until a negative number is entered. Then, calculate and print the sum of all positive numbers entered. Use a `while` loop and `break` to exit the loop when a negative number is encountered."
   ]
  },
  {
   "cell_type": "code",
   "execution_count": 109,
   "id": "d4e61d5e",
   "metadata": {},
   "outputs": [
    {
     "name": "stdout",
     "output_type": "stream",
     "text": [
      "Enter a positive number (or a negative number to exit): 1\n",
      "Enter a positive number (or a negative number to exit): 5\n",
      "Enter a positive number (or a negative number to exit): 16\n",
      "Enter a positive number (or a negative number to exit): -1\n",
      "Sum of positive numbers: 22.0\n"
     ]
    }
   ],
   "source": [
    "total = 0\n",
    "\n",
    "while True:\n",
    "    num = float(input(\"Enter a positive number (or a negative number to exit): \"))\n",
    "\n",
    "    if num < 0:\n",
    "        break \n",
    "    if num >= 0:\n",
    "        total += num \n",
    "print(\"Sum of positive numbers:\", total)"
   ]
  },
  {
   "cell_type": "markdown",
   "id": "5b92e9de",
   "metadata": {},
   "source": [
    "### 97. Word Palindrome Checker: Write a Python program that takes a word as input and checks if it is a palindrome (reads the same forwards and backward). Use `continue` to skip checking the word if its length is less than 3 characters."
   ]
  },
  {
   "cell_type": "code",
   "execution_count": 110,
   "id": "a2384c9d",
   "metadata": {},
   "outputs": [
    {
     "name": "stdout",
     "output_type": "stream",
     "text": [
      "Enter a word: madam\n",
      "madam is a palindrome.\n"
     ]
    }
   ],
   "source": [
    "word = input(\"Enter a word: \")\n",
    "\n",
    "if len(word) < 3:\n",
    "    print(\"Word is too short to be a palindrome.\")\n",
    "else:\n",
    "    is_palindrome = True  \n",
    "\n",
    "    # Use a for loop to compare characters from the start and end\n",
    "    for i in range(len(word) // 2):\n",
    "        if word[i] != word[-(i + 1)]:\n",
    "            is_palindrome = False\n",
    "            break\n",
    "\n",
    "    if is_palindrome:\n",
    "        print(f\"{word} is a palindrome.\")\n",
    "    else:\n",
    "        print(f\"{word} is not a palindrome.\")"
   ]
  },
  {
   "cell_type": "markdown",
   "id": "6750f4e4",
   "metadata": {},
   "source": [
    "### 98. Odd Number Finder: Write a Python program to find the first odd number from a list of integers. Use a `for` loop and `break` to stop the loop when the first odd number is found."
   ]
  },
  {
   "cell_type": "code",
   "execution_count": 112,
   "id": "4247626d",
   "metadata": {},
   "outputs": [
    {
     "name": "stdout",
     "output_type": "stream",
     "text": [
      "Enter a list of integers separated by spaces: 10 20 30 4 2 9 1 21 23 22\n",
      "The first odd number is: 9\n"
     ]
    }
   ],
   "source": [
    "num_list = input(\"Enter a list of integers separated by spaces: \").split()\n",
    "\n",
    "num_list = [int(num) for num in num_list]\n",
    "\n",
    "first_odd = None\n",
    "\n",
    "for num in num_list:\n",
    "    if num % 2 != 0:\n",
    "        first_odd = num\n",
    "        break\n",
    "\n",
    "if first_odd is not None:\n",
    "    print(f\"The first odd number is: {first_odd}\")\n",
    "else:\n",
    "    print(\"No odd numbers found in the list.\")"
   ]
  },
  {
   "cell_type": "markdown",
   "id": "c9b8b2ff",
   "metadata": {},
   "source": [
    "### 99. Number Guessing Game: Write a Python program that generates a random number between 1 and 100 and lets the user guess the number. Use a `while` loop, `break` when the correct number is guessed, and `continue` to keep prompting the user until they guess correctly."
   ]
  },
  {
   "cell_type": "code",
   "execution_count": 113,
   "id": "a1f88c91",
   "metadata": {},
   "outputs": [
    {
     "name": "stdout",
     "output_type": "stream",
     "text": [
      "Guess the number (between 1 and 100): 5\n",
      "Try again. Your guess is too low.\n",
      "Guess the number (between 1 and 100): 50\n",
      "Try again. Your guess is too low.\n",
      "Guess the number (between 1 and 100): 70\n",
      "Try again. Your guess is too low.\n",
      "Guess the number (between 1 and 100): 90\n",
      "Try again. Your guess is too high.\n",
      "Guess the number (between 1 and 100): 80\n",
      "Try again. Your guess is too low.\n",
      "Guess the number (between 1 and 100): 85\n",
      "Try again. Your guess is too low.\n",
      "Guess the number (between 1 and 100): 86\n",
      "Try again. Your guess is too low.\n",
      "Guess the number (between 1 and 100): 89\n",
      "Congratulations! You guessed the correct number, which is 89.\n"
     ]
    }
   ],
   "source": [
    "import random\n",
    "\n",
    "target_number = random.randint(1, 100)\n",
    "\n",
    "while True:\n",
    "    guess = int(input(\"Guess the number (between 1 and 100): \"))\n",
    "\n",
    "    if guess == target_number:\n",
    "        print(f\"Congratulations! You guessed the correct number, which is {target_number}.\")\n",
    "        break \n",
    "\n",
    "    if guess < target_number:\n",
    "        print(\"Try again. Your guess is too low.\")\n",
    "\n",
    "    if guess > target_number:\n",
    "        print(\"Try again. Your guess is too high.\")"
   ]
  },
  {
   "cell_type": "markdown",
   "id": "2a559aac",
   "metadata": {},
   "source": [
    "### 100. Vowel Counter: Write a Python program that takes a string as input and counts the number of vowels (a, e, i, o, u) in it. Use a `for` loop and `continue` to skip counting non-vowel characters."
   ]
  },
  {
   "cell_type": "code",
   "execution_count": 114,
   "id": "7937c646",
   "metadata": {},
   "outputs": [
    {
     "name": "stdout",
     "output_type": "stream",
     "text": [
      "Enter a string: aeioudumbman\n",
      "The number of vowels in the string is: 7\n"
     ]
    }
   ],
   "source": [
    "input_string = input(\"Enter a string: \")\n",
    "\n",
    "vowel_count = 0\n",
    "\n",
    "input_string = input_string.lower()\n",
    "\n",
    "for char in input_string:\n",
    "    if char not in \"aeiou\":\n",
    "        continue\n",
    "    vowel_count += 1\n",
    "\n",
    "print(f\"The number of vowels in the string is: {vowel_count}\")"
   ]
  },
  {
   "cell_type": "markdown",
   "id": "259a3515",
   "metadata": {},
   "source": [
    "### 101. Unique Characters: Write a Python program that takes a string as input and checks if it contains all unique characters (no character repeats). Use a `for` loop and `break` when a character repeats."
   ]
  },
  {
   "cell_type": "code",
   "execution_count": 115,
   "id": "f6dfa943",
   "metadata": {},
   "outputs": [
    {
     "name": "stdout",
     "output_type": "stream",
     "text": [
      "Enter a string: abcdeia\n",
      "The string contains repeating characters.\n"
     ]
    }
   ],
   "source": [
    "input_string = input(\"Enter a string: \")\n",
    "\n",
    "is_unique = True\n",
    "\n",
    "for i in range(len(input_string)):\n",
    "    for j in range(i + 1, len(input_string)):\n",
    "        if input_string[i] == input_string[j]:\n",
    "            is_unique = False\n",
    "            break \n",
    "    if not is_unique:\n",
    "        break \n",
    "\n",
    "if is_unique:\n",
    "    print(\"The string contains all unique characters.\")\n",
    "else:\n",
    "    print(\"The string contains repeating characters.\")"
   ]
  },
  {
   "cell_type": "markdown",
   "id": "5899d6b2",
   "metadata": {},
   "source": [
    "## Functions Problems:\n",
    "### 102. Factorial Calculator: Write a Python function called `factorial` that takes an integer as input and returns its factorial. Test the function with different values."
   ]
  },
  {
   "cell_type": "code",
   "execution_count": 116,
   "id": "3e1496ff",
   "metadata": {},
   "outputs": [
    {
     "name": "stdout",
     "output_type": "stream",
     "text": [
      "120\n",
      "3628800\n"
     ]
    }
   ],
   "source": [
    "def factorial(n):\n",
    "    if n < 0:\n",
    "        return \"Factorial is not defined for negative numbers\"\n",
    "    if n == 0 or n == 1:\n",
    "        return 1\n",
    "    result = 1\n",
    "    for i in range(2, n + 1):\n",
    "        result *= i\n",
    "    return result\n",
    "\n",
    "print(factorial(5))\n",
    "print(factorial(10))"
   ]
  },
  {
   "cell_type": "markdown",
   "id": "a3ebbe5a",
   "metadata": {},
   "source": [
    "### 103. Palindrome Checker: Write a Python function called `is_palindrome` that takes a string as input and returns `True` if it is a palindrome and `False` otherwise. Test the function with different words."
   ]
  },
  {
   "cell_type": "code",
   "execution_count": 117,
   "id": "cfed8b84",
   "metadata": {},
   "outputs": [
    {
     "name": "stdout",
     "output_type": "stream",
     "text": [
      "True\n",
      "False\n"
     ]
    }
   ],
   "source": [
    "def is_palindrome(s):\n",
    "    s = s.lower()  \n",
    "    s = s.replace(\" \", \"\") \n",
    "    return s == s[::-1]\n",
    "\n",
    "print(is_palindrome(\"madam\"))  \n",
    "print(is_palindrome(\"hello\"))"
   ]
  },
  {
   "cell_type": "markdown",
   "id": "740a7737",
   "metadata": {},
   "source": [
    "### 104. Even or Odd Checker: Write a Python function called `even_or_odd` that takes an integer as input and returns “Even” if the number is even and “Odd” if the number is odd. Test the function with different numbers."
   ]
  },
  {
   "cell_type": "code",
   "execution_count": 118,
   "id": "e8cc81cb",
   "metadata": {},
   "outputs": [
    {
     "name": "stdout",
     "output_type": "stream",
     "text": [
      "Even\n",
      "Odd\n"
     ]
    }
   ],
   "source": [
    "def even_or_odd(number):\n",
    "    if number % 2 == 0:\n",
    "        return \"Even\"\n",
    "    else:\n",
    "        return \"Odd\"\n",
    "\n",
    "print(even_or_odd(42))\n",
    "print(even_or_odd(71))"
   ]
  },
  {
   "cell_type": "markdown",
   "id": "7f967937",
   "metadata": {},
   "source": [
    "### 105. List Sum Calculator: Write a Python function called `list_sum` that takes a list of integers as input and returns the sum of all elements in the list. Test the function with different lists."
   ]
  },
  {
   "cell_type": "code",
   "execution_count": 119,
   "id": "94fcb376",
   "metadata": {},
   "outputs": [
    {
     "name": "stdout",
     "output_type": "stream",
     "text": [
      "15\n",
      "33\n"
     ]
    }
   ],
   "source": [
    "def list_sum(numbers):\n",
    "    total = 0\n",
    "    for number in numbers:\n",
    "        total += number\n",
    "    return total\n",
    "\n",
    "print(list_sum([1, 2, 3, 4, 5]))\n",
    "print(list_sum([10, -5, 8, 9, 22, -11]))"
   ]
  },
  {
   "cell_type": "markdown",
   "id": "bf092418",
   "metadata": {},
   "source": [
    "### 106. Greatest Common Divisor (GCD) Calculator: Write a Python function called `gcd` that takes two integers as input and returns their greatest common divisor. Test the function with different pairs of numbers."
   ]
  },
  {
   "cell_type": "code",
   "execution_count": 120,
   "id": "62f110f1",
   "metadata": {},
   "outputs": [
    {
     "name": "stdout",
     "output_type": "stream",
     "text": [
      "6\n",
      "12\n",
      "1\n"
     ]
    }
   ],
   "source": [
    "def gcd(a, b):\n",
    "    while b:\n",
    "        a, b = b, a % b\n",
    "    return abs(a)\n",
    "\n",
    "print(gcd(12, 18))  \n",
    "print(gcd(24, 36))\n",
    "print(gcd(7, 13))"
   ]
  },
  {
   "cell_type": "markdown",
   "id": "2982be35",
   "metadata": {},
   "source": [
    "### 107. Leap Year Checker: Write a Python function called `is_leap_year` that takes a year as input and returns `True` if it is a leap year and `False` otherwise. Test the function with different years."
   ]
  },
  {
   "cell_type": "code",
   "execution_count": 8,
   "id": "9e866578",
   "metadata": {},
   "outputs": [
    {
     "name": "stdout",
     "output_type": "stream",
     "text": [
      "True\n",
      "False\n",
      "True\n"
     ]
    }
   ],
   "source": [
    "def is_leap_year(year):\n",
    "    if (year % 4 == 0 and year % 100 != 0) or (year % 400 == 0):\n",
    "        return True\n",
    "    else:\n",
    "        return False\n",
    "\n",
    "print(is_leap_year(2020))  \n",
    "print(is_leap_year(2021))\n",
    "print(is_leap_year(2000))"
   ]
  },
  {
   "cell_type": "markdown",
   "id": "fa78284f",
   "metadata": {},
   "source": [
    "## Nested Functions Problems:\n",
    "### 108. Math Operations: Write a Python function called `math_operations` that takes three numbers and a string representing an operation (‘add’, ‘subtract’, ‘multiply’, or ‘divide’). The function should return the result of the specified operation on the three numbers. Implement the math operations as nested functions. "
   ]
  },
  {
   "cell_type": "code",
   "execution_count": 9,
   "id": "01b1276e",
   "metadata": {},
   "outputs": [
    {
     "name": "stdout",
     "output_type": "stream",
     "text": [
      "10\n",
      "5\n",
      "24\n",
      "2.0\n"
     ]
    }
   ],
   "source": [
    "def math_operations(a, b, c, operation):\n",
    "    def add(x, y):\n",
    "        return x + y\n",
    "\n",
    "    def subtract(x, y):\n",
    "        return x - y\n",
    "\n",
    "    def multiply(x, y):\n",
    "        return x * y\n",
    "\n",
    "    def divide(x, y):\n",
    "        if y == 0:\n",
    "            return \"Cannot divide by zero\"\n",
    "        return x / y\n",
    "\n",
    "    if operation == 'add':\n",
    "        return add(add(a, b), c)\n",
    "    elif operation == 'subtract':\n",
    "        return subtract(subtract(a, b), c)\n",
    "    elif operation == 'multiply':\n",
    "        return multiply(multiply(a, b), c)\n",
    "    elif operation == 'divide':\n",
    "        return divide(divide(a, b), c)\n",
    "    else:\n",
    "        return \"Invalid operation\"\n",
    "\n",
    "print(math_operations(5, 3, 2, 'add'))       \n",
    "print(math_operations(10, 2, 3, 'subtract')) \n",
    "print(math_operations(2, 3, 4, 'multiply'))  \n",
    "print(math_operations(12, 3, 2, 'divide'))   "
   ]
  },
  {
   "cell_type": "markdown",
   "id": "ce0c1fd8",
   "metadata": {},
   "source": [
    "### 109. Greeting Generator: Write a Python function called `greeting_generator` that takes a name as input and returns a greeting message using nested functions. The greeting message should be customizable (e.g., “Hello, {name}! How are you today?”)."
   ]
  },
  {
   "cell_type": "code",
   "execution_count": 10,
   "id": "cfb634b2",
   "metadata": {},
   "outputs": [
    {
     "name": "stdout",
     "output_type": "stream",
     "text": [
      "Hello, Papon! How are you today?\n",
      "Hello, Nannu! How are you today?\n"
     ]
    }
   ],
   "source": [
    "def greeting_generator():\n",
    "    def generate_greeting(name):\n",
    "        return f\"Hello, {name}! How are you today?\"\n",
    "\n",
    "    return generate_greeting\n",
    "\n",
    "greet_john = greeting_generator()\n",
    "\n",
    "print(greet_john(\"Papon\"))\n",
    "\n",
    "greet_emily = greeting_generator()\n",
    "\n",
    "print(greet_emily(\"Nannu\"))"
   ]
  },
  {
   "cell_type": "markdown",
   "id": "a8d52479",
   "metadata": {},
   "source": [
    "### 110. Temperature Converter: Write a Python function called `temperature_converter` that takes a temperature value and a string representing the scale (‘C’ for Celsius or ‘F’ for Fahrenheit) as input. The function should convert the temperature from one scale to the other using nested functions and return the converted value."
   ]
  },
  {
   "cell_type": "code",
   "execution_count": 11,
   "id": "7a04ae1f",
   "metadata": {},
   "outputs": [
    {
     "name": "stdout",
     "output_type": "stream",
     "text": [
      "25°C is equal to -3.89°F\n",
      "77°F is equal to 170.60°C\n",
      "Invalid scale. Use 'C' for Celsius or 'F' for Fahrenheit.\n"
     ]
    }
   ],
   "source": [
    "def temperature_converter():\n",
    "    def celsius_to_fahrenheit(celsius):\n",
    "        return (celsius * 9/5) + 32\n",
    "\n",
    "    def fahrenheit_to_celsius(fahrenheit):\n",
    "        return (fahrenheit - 32) * 5/9\n",
    "\n",
    "    def convert_temperature(value, scale):\n",
    "        if scale == 'C':\n",
    "            return fahrenheit_to_celsius(value)\n",
    "        elif scale == 'F':\n",
    "            return celsius_to_fahrenheit(value)\n",
    "        else:\n",
    "            return \"Invalid scale. Use 'C' for Celsius or 'F' for Fahrenheit.\"\n",
    "\n",
    "    return convert_temperature\n",
    "\n",
    "convert_temp = temperature_converter()\n",
    "\n",
    "celsius_value = 25\n",
    "fahrenheit_result = convert_temp(celsius_value, 'C')\n",
    "print(f\"{celsius_value}°C is equal to {fahrenheit_result:.2f}°F\")\n",
    "\n",
    "fahrenheit_value = 77\n",
    "celsius_result = convert_temp(fahrenheit_value, 'F')\n",
    "print(f\"{fahrenheit_value}°F is equal to {celsius_result:.2f}°C\")\n",
    "\n",
    "invalid_scale_result = convert_temp(100, 'K')\n",
    "print(invalid_scale_result) "
   ]
  },
  {
   "cell_type": "markdown",
   "id": "caf43a93",
   "metadata": {},
   "source": [
    "## Recursion:"
   ]
  },
  {
   "cell_type": "markdown",
   "id": "4f868d22",
   "metadata": {},
   "source": [
    "### 111. Factorial Calculation: Write a recursive Python function called `factorial` that takes a non-negative integer as input and returns its factorial."
   ]
  },
  {
   "cell_type": "code",
   "execution_count": 12,
   "id": "a3b6aafd",
   "metadata": {},
   "outputs": [
    {
     "name": "stdout",
     "output_type": "stream",
     "text": [
      "5040\n",
      "3628800\n",
      "1\n"
     ]
    }
   ],
   "source": [
    "def factorial(n):\n",
    "    if n < 0:\n",
    "        return \"Factorial is not defined for negative numbers\"\n",
    "    elif n == 0 or n == 1:\n",
    "        return 1\n",
    "    else:\n",
    "        return n * factorial(n - 1)\n",
    "\n",
    "print(factorial(7))\n",
    "print(factorial(10))\n",
    "print(factorial(0))"
   ]
  },
  {
   "cell_type": "markdown",
   "id": "3fb571c0",
   "metadata": {},
   "source": [
    "### 112. Fibonacci Series: Write a recursive Python function called `Fibonacci` that takes an integer N as input and returns the Nth number in the Fibonacci series. The Fibonacci series is defined as follows: F(0) = 0, F(1) = 1, and F(n) = F(n-1) + F(n-2) for n > 1."
   ]
  },
  {
   "cell_type": "code",
   "execution_count": 14,
   "id": "d6e3a4ab",
   "metadata": {},
   "outputs": [
    {
     "name": "stdout",
     "output_type": "stream",
     "text": [
      "0\n",
      "1\n",
      "5\n",
      "55\n"
     ]
    }
   ],
   "source": [
    "def Fibonacci(n):\n",
    "    if n < 0:\n",
    "        return \"Invalid input, N must be non-negative\"\n",
    "    elif n == 0:\n",
    "        return 0\n",
    "    elif n == 1:\n",
    "        return 1\n",
    "    else:\n",
    "        return Fibonacci(n - 1) + Fibonacci(n - 2)\n",
    "\n",
    "print(Fibonacci(0))   \n",
    "print(Fibonacci(1))\n",
    "print(Fibonacci(5))  \n",
    "print(Fibonacci(10))"
   ]
  },
  {
   "cell_type": "markdown",
   "id": "88846e2e",
   "metadata": {},
   "source": [
    "### 113. The sum of Digits: Write a recursive Python function called `sum_of_digits` that takes an integer as input and returns the sum of its digits."
   ]
  },
  {
   "cell_type": "code",
   "execution_count": 15,
   "id": "d740604f",
   "metadata": {},
   "outputs": [
    {
     "name": "stdout",
     "output_type": "stream",
     "text": [
      "7\n",
      "25\n"
     ]
    }
   ],
   "source": [
    "def sum_of_digits(n):\n",
    "    if n < 0:\n",
    "        return \"Invalid input, please provide a non-negative integer\"\n",
    "    elif n < 10:\n",
    "        return n\n",
    "    else:\n",
    "        return n % 10 + sum_of_digits(n // 10)\n",
    "\n",
    "print(sum_of_digits(115))\n",
    "print(sum_of_digits(82348))"
   ]
  },
  {
   "cell_type": "markdown",
   "id": "fa21f125",
   "metadata": {},
   "source": [
    "### 114. Binary Search: Write a recursive Python function called `binary_search` that takes a sorted list and a target value as input and returns the index of the target value in the list using binary search. If the target value is not in the list, return -1."
   ]
  },
  {
   "cell_type": "code",
   "execution_count": 17,
   "id": "5aea85dd",
   "metadata": {},
   "outputs": [
    {
     "name": "stdout",
     "output_type": "stream",
     "text": [
      "2\n",
      "9\n"
     ]
    }
   ],
   "source": [
    "def binary_search(arr, target, left=0, right=None):\n",
    "    if right is None:\n",
    "        right = len(arr) - 1\n",
    "\n",
    "    if left <= right:\n",
    "        mid = (left + right) // 2\n",
    "\n",
    "        if arr[mid] == target:\n",
    "            return mid\n",
    "        elif arr[mid] < target:\n",
    "            return binary_search(arr, target, mid + 1, right)\n",
    "        else:\n",
    "            return binary_search(arr, target, left, mid - 1)\n",
    "    else:\n",
    "        return -1\n",
    "\n",
    "sorted_list = [1, 3, 5, 7, 9, 11, 13, 15, 17, 19]\n",
    "\n",
    "print(binary_search(sorted_list, 5))\n",
    "print(binary_search(sorted_list, 19))"
   ]
  },
  {
   "cell_type": "markdown",
   "id": "e345f897",
   "metadata": {},
   "source": [
    "### 115. Power Calculation: Write a recursive Python function called `power` that takes two positive integers, base and exponent, as input and returns the value of base raised to the exponent."
   ]
  },
  {
   "cell_type": "code",
   "execution_count": 18,
   "id": "2d8f0236",
   "metadata": {},
   "outputs": [
    {
     "name": "stdout",
     "output_type": "stream",
     "text": [
      "32\n",
      "1\n"
     ]
    }
   ],
   "source": [
    "def power(base, exponent):\n",
    "    if exponent == 0:\n",
    "        return 1\n",
    "    elif exponent == 1:\n",
    "        return base\n",
    "    elif exponent < 0:\n",
    "        return \"Exponent must be a non-negative integer\"\n",
    "    else:\n",
    "        return base * power(base, exponent - 1)\n",
    "\n",
    "print(power(2, 5)) \n",
    "print(power(5, 0))"
   ]
  },
  {
   "cell_type": "code",
   "execution_count": null,
   "id": "c49cd778",
   "metadata": {},
   "outputs": [],
   "source": []
  }
 ],
 "metadata": {
  "kernelspec": {
   "display_name": "Python 3 (ipykernel)",
   "language": "python",
   "name": "python3"
  },
  "language_info": {
   "codemirror_mode": {
    "name": "ipython",
    "version": 3
   },
   "file_extension": ".py",
   "mimetype": "text/x-python",
   "name": "python",
   "nbconvert_exporter": "python",
   "pygments_lexer": "ipython3",
   "version": "3.11.4"
  }
 },
 "nbformat": 4,
 "nbformat_minor": 5
}
