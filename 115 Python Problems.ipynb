{
 "cells": [
  {
   "cell_type": "markdown",
   "id": "6146f258",
   "metadata": {},
   "source": [
    "## <b style=\"color:#5F6A6A \">Basic Problems:</b>\n",
    "\n",
    "### 1. Variable Swap: Write a Python program to swap the values of two variables without using a temporary variable."
   ]
  },
  {
   "cell_type": "code",
   "execution_count": 1,
   "id": "6a41d9a3",
   "metadata": {},
   "outputs": [
    {
     "name": "stdout",
     "output_type": "stream",
     "text": [
      "Enter the first variable (a): 10\n",
      "Enter the second variable (b): 50\n",
      "Before swaping a: 10 and b: 50\n",
      "After swaping a: 50, b: 10\n"
     ]
    }
   ],
   "source": [
    "a = int(input(\"Enter the first variable (a): \"))\n",
    "b = int(input(\"Enter the second variable (b): \"))\n",
    "\n",
    "print(f\"Before swaping a: {a} and b: {b}\")\n",
    "a = a + b\n",
    "b = a - b\n",
    "a = a - b\n",
    "\n",
    "print(f\"After swaping a: {a}, b: {b}\")"
   ]
  },
  {
   "cell_type": "markdown",
   "id": "77850844",
   "metadata": {},
   "source": [
    "### 2. Even or Odd: Write a Python program that takes an integer as input and prints whether it is even or odd."
   ]
  },
  {
   "cell_type": "code",
   "execution_count": 4,
   "id": "dfc5b784",
   "metadata": {},
   "outputs": [
    {
     "name": "stdout",
     "output_type": "stream",
     "text": [
      "Enter an integer as input : 101\n",
      "Value: 101 is Odd.\n"
     ]
    }
   ],
   "source": [
    "var = int(input(\"Enter an integer as input : \"))\n",
    "\n",
    "if var % 2 == 0:\n",
    "    print(f\"Value: {var} is Even.\")\n",
    "else:\n",
    "    print(f\"Value: {var} is Odd.\")"
   ]
  },
  {
   "cell_type": "markdown",
   "id": "4b95b0cd",
   "metadata": {},
   "source": [
    "### 3. String Reverse: Write a Python function to reverse a given string and return the reversed string."
   ]
  },
  {
   "cell_type": "code",
   "execution_count": 10,
   "id": "8f42e910",
   "metadata": {},
   "outputs": [
    {
     "name": "stdout",
     "output_type": "stream",
     "text": [
      "ding dong\n"
     ]
    },
    {
     "data": {
      "text/plain": [
       "'gnod gnid'"
      ]
     },
     "execution_count": 10,
     "metadata": {},
     "output_type": "execute_result"
    }
   ],
   "source": [
    "def reverse_str():\n",
    "    string = input()\n",
    "    reversed_str = list(reversed(string))\n",
    "    return \"\".join(reversed_str)\n",
    "reverse_str()"
   ]
  },
  {
   "cell_type": "markdown",
   "id": "ff6b3ca5",
   "metadata": {},
   "source": [
    "### 4. Type Conversion: Given a list of integers, write a Python program to convert each element of the list to a string."
   ]
  },
  {
   "cell_type": "code",
   "execution_count": 11,
   "id": "87c59ed2",
   "metadata": {},
   "outputs": [
    {
     "data": {
      "text/plain": [
       "['1', '2', '3', '4', '5']"
      ]
     },
     "execution_count": 11,
     "metadata": {},
     "output_type": "execute_result"
    }
   ],
   "source": [
    "listOfIntegers = [1,2,3,4,5]\n",
    "[str(i) for i in listOfIntegers]"
   ]
  },
  {
   "cell_type": "markdown",
   "id": "b4d59329",
   "metadata": {},
   "source": [
    "### 5. Temperature Converter: Write a Python program that converts a temperature in Celsius to Fahrenheit. Take the Celsius temperature as input from the user."
   ]
  },
  {
   "cell_type": "code",
   "execution_count": 14,
   "id": "2ca9e470",
   "metadata": {},
   "outputs": [
    {
     "name": "stdout",
     "output_type": "stream",
     "text": [
      "Enter the temperature in 'Celcius': 50\n"
     ]
    },
    {
     "data": {
      "text/plain": [
       "'122.0 degree farenheit'"
      ]
     },
     "execution_count": 14,
     "metadata": {},
     "output_type": "execute_result"
    }
   ],
   "source": [
    "def celciusToFarenheit():\n",
    "    tempC = int(input(\"Enter the temperature in 'Celcius': \"))\n",
    "    \n",
    "    tempF = (tempC * 9/5) + 32\n",
    "    return f\"{tempF} degree farenheit\"\n",
    "\n",
    "celciusToFarenheit()"
   ]
  },
  {
   "cell_type": "markdown",
   "id": "bf069dea",
   "metadata": {},
   "source": [
    "### 6. Data Type Checker: Write a Python function that takes a variable as input and returns the data type of the variable as a string (e.g., “int”, “float”, “str”, “list”, etc.)."
   ]
  },
  {
   "cell_type": "code",
   "execution_count": 20,
   "id": "fe7f7615",
   "metadata": {},
   "outputs": [
    {
     "data": {
      "text/plain": [
       "'float'"
      ]
     },
     "execution_count": 20,
     "metadata": {},
     "output_type": "execute_result"
    }
   ],
   "source": [
    "x = 100\n",
    "y = 4.50\n",
    "z = \"this is a string\"\n",
    "w = [1,2,3]\n",
    "\n",
    "def get_data_type(variable):\n",
    "    data_type = str(type(variable)).split(\"'\")[1]\n",
    "    return data_type\n",
    "\n",
    "\n",
    "get_data_type(y)"
   ]
  },
  {
   "cell_type": "markdown",
   "id": "e7b3385d",
   "metadata": {},
   "source": [
    "### 7. String Palindrome: Write a Python function to check if a given string is a palindrome or not.\n",
    "\n",
    "- a word, phrase, or sequence that reads the same backwards as forwards, e.g. madam or nurses run."
   ]
  },
  {
   "cell_type": "code",
   "execution_count": 4,
   "id": "30599834",
   "metadata": {},
   "outputs": [
    {
     "name": "stdout",
     "output_type": "stream",
     "text": [
      "Enter a phrase to check if it's palindrome or not: nurses run\n"
     ]
    },
    {
     "data": {
      "text/plain": [
       "True"
      ]
     },
     "execution_count": 4,
     "metadata": {},
     "output_type": "execute_result"
    }
   ],
   "source": [
    "var = input(\"Enter a phrase to check if it's palindrome or not: \")\n",
    "\n",
    "def is_palindrome(var):\n",
    "    var = \"\".join(var.split())\n",
    "    return var == var[::-1]\n",
    "\n",
    "is_palindrome(var)"
   ]
  },
  {
   "cell_type": "markdown",
   "id": "f8da0564",
   "metadata": {},
   "source": [
    "### 8. String Reversal with Slicing: Write a Python function to reverse a given string using slicing."
   ]
  },
  {
   "cell_type": "code",
   "execution_count": 5,
   "id": "19743233",
   "metadata": {},
   "outputs": [
    {
     "name": "stdout",
     "output_type": "stream",
     "text": [
      "Enter your string: reversed\n"
     ]
    },
    {
     "data": {
      "text/plain": [
       "'desrever'"
      ]
     },
     "execution_count": 5,
     "metadata": {},
     "output_type": "execute_result"
    }
   ],
   "source": [
    "var = input(\"Enter your string: \")\n",
    "var[::-1]"
   ]
  },
  {
   "cell_type": "markdown",
   "id": "c8cd55ab",
   "metadata": {},
   "source": [
    "### 9. String Concatenation: Write a Python program that takes two strings as input and concatenates them into a single string without using the `+` operator."
   ]
  },
  {
   "cell_type": "code",
   "execution_count": 13,
   "id": "ba2713c1",
   "metadata": {},
   "outputs": [
    {
     "data": {
      "text/plain": [
       "'alupotol'"
      ]
     },
     "execution_count": 13,
     "metadata": {},
     "output_type": "execute_result"
    }
   ],
   "source": [
    "x = \"alu\"\n",
    "y = \"potol\"\n",
    "def concatenate_two_str(x,y):\n",
    "    return f\"{x}{y}\"\n",
    "    \n",
    "concatenate_two_str(x,y)"
   ]
  },
  {
   "cell_type": "markdown",
   "id": "66984295",
   "metadata": {},
   "source": [
    "### 10. Typecasting Challenge: Given three variables: `a = ‘100’`, `b = 25`, and `c = ‘10.5’`, write a Python program to perform the following operations and print the results:\n",
    "– Convert `a` to an integer and add it to `b`.\n",
    "– Convert `c` to a float and subtract it from the result of the first operation.\n",
    "– Convert the final result to a string and concatenate it with the string ” is the answer.”"
   ]
  },
  {
   "cell_type": "code",
   "execution_count": 14,
   "id": "fdb49196",
   "metadata": {},
   "outputs": [
    {
     "data": {
      "text/plain": [
       "114.5"
      ]
     },
     "execution_count": 14,
     "metadata": {},
     "output_type": "execute_result"
    }
   ],
   "source": [
    "a = \"100\"\n",
    "b = 25\n",
    "c = \"10.5\"\n",
    "\n",
    "(int(a) + b) - float(c)"
   ]
  },
  {
   "cell_type": "markdown",
   "id": "d2f02e56",
   "metadata": {},
   "source": [
    "## <b style=\"color:#5F6A6A \">Python Conditional Statements:</b>\n",
    "\n",
    "### 11. Positive, Negative, or Zero: Write a Python program that takes a number as input and prints whether it is positive, negative, or zero."
   ]
  },
  {
   "cell_type": "code",
   "execution_count": 20,
   "id": "ba627b7c",
   "metadata": {},
   "outputs": [
    {
     "name": "stdout",
     "output_type": "stream",
     "text": [
      "Enter a number: 0\n",
      "zero\n"
     ]
    }
   ],
   "source": [
    "def numberChecker():\n",
    "    x = float(input(\"Enter a number: \"))\n",
    "    if x == 0:\n",
    "        print(\"zero\")\n",
    "    elif x > 0:\n",
    "        print(\"positive\")\n",
    "    else:\n",
    "        print(\"negative\")\n",
    "numberChecker()"
   ]
  },
  {
   "cell_type": "markdown",
   "id": "244796c3",
   "metadata": {},
   "source": [
    "### 12. Largest of Three Numbers: Write a Python program that takes three numbers as input and prints the largest among them."
   ]
  },
  {
   "cell_type": "code",
   "execution_count": 21,
   "id": "f7f4e6af",
   "metadata": {},
   "outputs": [
    {
     "name": "stdout",
     "output_type": "stream",
     "text": [
      "Enter no 1: 10\n",
      "Enter no 2: 20\n",
      "Enter no 3: 50\n"
     ]
    },
    {
     "data": {
      "text/plain": [
       "50.0"
      ]
     },
     "execution_count": 21,
     "metadata": {},
     "output_type": "execute_result"
    }
   ],
   "source": [
    "list_of_numbers = []\n",
    "for i in range(3):\n",
    "    list_of_numbers.append(float(input(f\"Enter no {i+1}: \")))\n",
    "\n",
    "max(list_of_numbers)"
   ]
  },
  {
   "cell_type": "markdown",
   "id": "cc1fae9b",
   "metadata": {},
   "source": [
    "### 13. Leap Year Checker: Write a Python program that takes a year as input and determines if it is a leap year or not."
   ]
  },
  {
   "cell_type": "code",
   "execution_count": 35,
   "id": "0c7e9321",
   "metadata": {},
   "outputs": [
    {
     "name": "stdout",
     "output_type": "stream",
     "text": [
      "Enter the year: 2017\n",
      "2017 is not a leap year\n"
     ]
    }
   ],
   "source": [
    "year = int(input(\"Enter the year: \"))\n",
    "if (year % 4) == 0:\n",
    "    print(f\"{year} is a leap year\")\n",
    "else:\n",
    "    print(f\"{year} is not a leap year\")"
   ]
  },
  {
   "cell_type": "markdown",
   "id": "609ee555",
   "metadata": {},
   "source": [
    "### 14. Grades Classification: Write a Python program that takes a student’s percentage as input and prints their corresponding grade according to the following criteria:\n",
    "– 90% or above: A+  \n",
    "– 80-89%: A  \n",
    "– 70-79%: B  \n",
    "– 60-69%: C  \n",
    "– Below 60%: Fail  "
   ]
  },
  {
   "cell_type": "code",
   "execution_count": 39,
   "id": "7b16e798",
   "metadata": {},
   "outputs": [
    {
     "name": "stdout",
     "output_type": "stream",
     "text": [
      "Enter your percentage: 79\n",
      "B\n"
     ]
    }
   ],
   "source": [
    "percentage = float(input(\"Enter your percentage: \"))\n",
    "\n",
    "if (percentage >= 90) and (percentage <= 100):\n",
    "    print(\"A+\")\n",
    "elif (percentage >= 80) and (percentage <= 89):\n",
    "    print(\"A\")\n",
    "elif (percentage >= 70) and (percentage <= 79):\n",
    "    print(\"B\")\n",
    "elif (percentage >= 60) and (percentage <= 69):\n",
    "    print(\"C\")\n",
    "elif (percentage < 60):\n",
    "    print(\"Fail\")"
   ]
  },
  {
   "cell_type": "markdown",
   "id": "58b6342a",
   "metadata": {},
   "source": [
    "### 15. Vowel or Consonant: Write a Python program that takes a single character as input and determines whether it is a vowel or a consonant."
   ]
  },
  {
   "cell_type": "code",
   "execution_count": 42,
   "id": "ae20b165",
   "metadata": {},
   "outputs": [
    {
     "name": "stdout",
     "output_type": "stream",
     "text": [
      "Enter a single character that is from `English` alphabet: c\n",
      "c is a consonent.\n"
     ]
    }
   ],
   "source": [
    "char = input(\"Enter a single character that is from `English` alphabet: \")\n",
    "if len(char) != 1:\n",
    "    print(\"Please enter exactly one character.\")\n",
    "else:\n",
    "    char = char.lower()\n",
    "    if char in \"aeiou\":\n",
    "        print(f\"{char} is a vowel.\")\n",
    "    elif char.isalpha():\n",
    "        print(f\"{char} is a consonent.\")\n",
    "    else:\n",
    "        print(\"Not a valid alphabet.\")"
   ]
  },
  {
   "cell_type": "markdown",
   "id": "f3708e58",
   "metadata": {},
   "source": [
    "### 16. Time Classification: Write a Python program that takes the time in hours (24-hour format) as input and prints “Good Morning”, “Good Afternoon”, “Good Evening”, or “Good Night” based on the time."
   ]
  },
  {
   "cell_type": "code",
   "execution_count": 45,
   "id": "0beac127",
   "metadata": {},
   "outputs": [
    {
     "name": "stdout",
     "output_type": "stream",
     "text": [
      "Enter the time (in hours, 0-23): 5\n",
      "Good Morning\n"
     ]
    }
   ],
   "source": [
    "time = int(input(\"Enter the time (in hours, 0-23): \"))\n",
    "\n",
    "if 0 <= time <5:\n",
    "    print(\"Good Night\")\n",
    "elif 5 <= time < 12:\n",
    "    print(\"Good Morning\")\n",
    "elif 12 <= time < 17:\n",
    "    print(\"Good Afternoon\")\n",
    "elif 17 <= time < 21:\n",
    "    print(\"Good Evening\")\n",
    "else:\n",
    "    print(\"Good Night\")"
   ]
  },
  {
   "cell_type": "markdown",
   "id": "6c1d7636",
   "metadata": {},
   "source": [
    "### 17. Triangle Type Checker: Write a Python program that takes three sides of a triangle as input and determines whether it forms an equilateral, isosceles, or scalene triangle."
   ]
  },
  {
   "cell_type": "code",
   "execution_count": 47,
   "id": "2cca36cb",
   "metadata": {},
   "outputs": [
    {
     "name": "stdout",
     "output_type": "stream",
     "text": [
      "Enter the length of the first side: 20\n",
      "Enter the length of the second side: 20\n",
      "Enter the length of the third side: 20\n",
      "It forms an equilateral triangle.\n"
     ]
    }
   ],
   "source": [
    "side1 = float(input(\"Enter the length of the first side: \"))\n",
    "side2 = float(input(\"Enter the length of the second side: \"))\n",
    "side3 = float(input(\"Enter the length of the third side: \"))\n",
    "\n",
    "if (side1 + side2 > side3) and (side1 + side3 > side2) and (side2 + side3 > side1):\n",
    "    # Check for equilateral triangle\n",
    "    if side1 == side2 == side3:\n",
    "        print(\"It forms an equilateral triangle.\")\n",
    "    # Check for isosceles triangle\n",
    "    elif side1 == side2 or side1 == side3 or side2 == side3:\n",
    "        print(\"It forms an isosceles triangle.\")\n",
    "    # If not equilateral or isosceles, it's a scalene triangle\n",
    "    else:\n",
    "        print(\"It forms a scalene triangle.\")\n",
    "else:\n",
    "    print(\"These sides cannot form a triangle.\")"
   ]
  },
  {
   "cell_type": "markdown",
   "id": "3e8ff54d",
   "metadata": {},
   "source": [
    "### 18. Quadratic Equation Solver: Write a Python program that takes the coefficients (a, b, c) of a quadratic equation as input and calculates and prints the real roots (if they exist) or a message indicating the complex roots."
   ]
  },
  {
   "cell_type": "code",
   "execution_count": 50,
   "id": "a2ba38ae",
   "metadata": {},
   "outputs": [
    {
     "name": "stdout",
     "output_type": "stream",
     "text": [
      "Enter coefficient a: 3\n",
      "Enter coefficient b: 5\n",
      "Enter coefficent c: 9\n",
      "The roots are complex:\n",
      "Root 1: -0.8333333333333334 + 1.51840559652405i\n",
      "Root 2: -0.8333333333333334 - 1.51840559652405i\n"
     ]
    }
   ],
   "source": [
    "import math\n",
    "a = float(input(\"Enter coefficient a: \"))\n",
    "b = float(input(\"Enter coefficient b: \"))\n",
    "c = float(input(\"Enter coefficent c: \"))\n",
    "\n",
    "discriminant = b**2 - 4*a*c\n",
    "\n",
    "if discriminant > 0:\n",
    "    root1 = (-b + math.sqrt(discriminant)) / (2*a)\n",
    "    root2 = (-b - math.sqrt(discriminant)) / (2*a)\n",
    "    print(\"The roots are real and distinct:\")\n",
    "    print(f\"Root 1: {root1}\")\n",
    "    print(f\"Root 2: {root2}\")\n",
    "\n",
    "elif discriminant == 0:\n",
    "    # One real root (repeated)\n",
    "    root1 = -b / (2*a)\n",
    "    print(\"The root is real and repeated:\")\n",
    "    print(f\"Root: {root1}\")\n",
    "    \n",
    "else:\n",
    "    # Complex roots\n",
    "    real_part = -b / (2*a)\n",
    "    imaginary_part = math.sqrt(abs(discriminant)) / (2*a)\n",
    "    print(\"The roots are complex:\")\n",
    "    print(f\"Root 1: {real_part} + {imaginary_part}i\")\n",
    "    print(f\"Root 2: {real_part} - {imaginary_part}i\")"
   ]
  },
  {
   "cell_type": "markdown",
   "id": "f01cd022",
   "metadata": {},
   "source": [
    "### 19. Number Ranges: Write a Python program that takes an integer as input and prints whether the number falls within the ranges: 0-50, 51-100, 101-150, or above 150."
   ]
  },
  {
   "cell_type": "code",
   "execution_count": 51,
   "id": "72827da7",
   "metadata": {},
   "outputs": [
    {
     "name": "stdout",
     "output_type": "stream",
     "text": [
      "Enter an integer: 100\n",
      "The number falls within the range 51-100.\n"
     ]
    }
   ],
   "source": [
    "number = int(input(\"Enter an integer: \"))\n",
    "\n",
    "if 0 <= number <= 50:\n",
    "    print(\"The number falls within the range 0-50.\")\n",
    "elif 51 <= number <= 100:\n",
    "    print(\"The number falls within the range 51-100.\")\n",
    "elif 101 <= number <= 150:\n",
    "    print(\"The number falls within the range 101-150.\")\n",
    "else:\n",
    "    print(\"The number is above 150.\")"
   ]
  },
  {
   "cell_type": "markdown",
   "id": "b525f306",
   "metadata": {},
   "source": [
    "## For & While Loops:\n",
    "\n",
    "### 20. Sum of N Numbers: Write a Python program using a for loop to calculate the sum of the first N natural numbers, where N is taken as input from the user."
   ]
  },
  {
   "cell_type": "code",
   "execution_count": 52,
   "id": "792ce6f5",
   "metadata": {},
   "outputs": [
    {
     "name": "stdout",
     "output_type": "stream",
     "text": [
      "Enter a positive integer : 10\n",
      "The sum of the first 10 natural numbers is: 55\n"
     ]
    }
   ],
   "source": [
    "N = int(input(\"Enter a positive integer : \"))\n",
    "\n",
    "sum_of_natural_numbers = 0\n",
    "\n",
    "for i in range(1, N + 1):\n",
    "    sum_of_natural_numbers += i\n",
    "\n",
    "# Print the result\n",
    "print(f\"The sum of the first {N} natural numbers is: {sum_of_natural_numbers}\")"
   ]
  },
  {
   "cell_type": "markdown",
   "id": "00cff826",
   "metadata": {},
   "source": [
    "### 21. Factorial Calculator: Write a Python program using a while loop to calculate the factorial of a given number N."
   ]
  },
  {
   "cell_type": "code",
   "execution_count": 53,
   "id": "f2e29ae8",
   "metadata": {},
   "outputs": [
    {
     "name": "stdout",
     "output_type": "stream",
     "text": [
      "Enter a non-negative integer (N): 3\n",
      "The factorial of 3 is: 6\n"
     ]
    }
   ],
   "source": [
    "N = int(input(\"Enter a non-negative integer (N): \"))\n",
    "\n",
    "if N < 0:\n",
    "    print(\"Factorial is not defined for negative numbers.\")\n",
    "else:\n",
    "    factorial = 1\n",
    "    i = 1\n",
    "\n",
    "    while i <= N:\n",
    "        factorial *= i\n",
    "        i += 1\n",
    "        \n",
    "    print(f\"The factorial of {N} is: {factorial}\")"
   ]
  },
  {
   "cell_type": "markdown",
   "id": "03156830",
   "metadata": {},
   "source": [
    "### 22. Table of a Number: Write a Python program using a for loop to print the multiplication table of a given number N."
   ]
  },
  {
   "cell_type": "code",
   "execution_count": 56,
   "id": "08d35931",
   "metadata": {},
   "outputs": [
    {
     "name": "stdout",
     "output_type": "stream",
     "text": [
      "Enter a number for which you want to print the multiplication table: 18\n",
      "Multiplication table for 18:\n",
      "18 x 1 = 18\n",
      "18 x 2 = 36\n",
      "18 x 3 = 54\n",
      "18 x 4 = 72\n",
      "18 x 5 = 90\n",
      "18 x 6 = 108\n",
      "18 x 7 = 126\n",
      "18 x 8 = 144\n",
      "18 x 9 = 162\n",
      "18 x 10 = 180\n"
     ]
    }
   ],
   "source": [
    "N = int(input(\"Enter a number for which you want to print the multiplication table: \"))\n",
    "\n",
    "if N < 0:\n",
    "    print(\"Multiplication table is not defined for negative numbers.\")\n",
    "else:\n",
    "    print(f\"Multiplication table for {N}:\")\n",
    "    for i in range(1, 11):\n",
    "        result = N * i\n",
    "        print(f\"{N} x {i} = {result}\")"
   ]
  },
  {
   "cell_type": "markdown",
   "id": "9fa5646c",
   "metadata": {},
   "source": [
    "### 23. Count Digits in a Number: Write a Python program using a while loop to count the number of digits in a given integer N."
   ]
  },
  {
   "cell_type": "code",
   "execution_count": 59,
   "id": "bbc16e76",
   "metadata": {},
   "outputs": [
    {
     "name": "stdout",
     "output_type": "stream",
     "text": [
      "Enter an integer: 134\n",
      "The number of digits in the integer is: 3\n"
     ]
    }
   ],
   "source": [
    "N = int(input(\"Enter an integer: \"))\n",
    "\n",
    "count = 0\n",
    "\n",
    "if N < 0:\n",
    "    N = abs(N)\n",
    "    count += 1  \n",
    "    \n",
    "if N == 0:\n",
    "    count = 1\n",
    "\n",
    "while N > 0:\n",
    "    N //= 10\n",
    "    count += 1\n",
    "\n",
    "# Print the result\n",
    "print(f\"The number of digits in the integer is: {count}\")"
   ]
  },
  {
   "cell_type": "markdown",
   "id": "d4488c81",
   "metadata": {},
   "source": [
    "### 24. Fibonacci Sequence: Write a Python program using a for loop to generate the Fibonacci sequence up to a given limit N."
   ]
  },
  {
   "cell_type": "code",
   "execution_count": 58,
   "id": "292020a3",
   "metadata": {},
   "outputs": [
    {
     "name": "stdout",
     "output_type": "stream",
     "text": [
      "Enter number of elements : 15\n"
     ]
    },
    {
     "data": {
      "text/plain": [
       "[1, 1, 2, 3, 5, 8, 13, 21, 34, 55, 89, 144, 233, 377, 610]"
      ]
     },
     "execution_count": 58,
     "metadata": {},
     "output_type": "execute_result"
    }
   ],
   "source": [
    "fibonacci_ser = []\n",
    "number_of_fib_elements = int(input(\"Enter number of elements : \"))\n",
    "\n",
    "for iterator in range(number_of_fib_elements):\n",
    "    \n",
    "    # check lenth of fibonacci series\n",
    "    if len(fibonacci_ser) == 0:\n",
    "        fibonacci_ser.append(1)\n",
    "    \n",
    "    elif len(fibonacci_ser) == 1:\n",
    "        fibonacci_ser.append(1)\n",
    "    \n",
    "    elif len(fibonacci_ser) >= 2 and len(fibonacci_ser) < number_of_fib_elements:\n",
    "        last_val = fibonacci_ser[-1]\n",
    "        second_last = fibonacci_ser[-2]\n",
    "        \n",
    "        next_value = second_last + last_val\n",
    "        fibonacci_ser.append(next_value)\n",
    "        \n",
    "\n",
    "fibonacci_ser"
   ]
  },
  {
   "cell_type": "markdown",
   "id": "65e5945d",
   "metadata": {},
   "source": [
    "### 25. Sum of Even Numbers: Write a Python program using a while loop to calculate the sum of all even numbers between 1 and N, where N is taken as input from the user."
   ]
  },
  {
   "cell_type": "code",
   "execution_count": 61,
   "id": "95544bea",
   "metadata": {},
   "outputs": [
    {
     "name": "stdout",
     "output_type": "stream",
     "text": [
      "Enter a positive integer (N): 10\n",
      "The sum of even numbers between 1 and 10 is: 30\n"
     ]
    }
   ],
   "source": [
    "N = int(input(\"Enter a positive integer (N): \"))\n",
    "\n",
    "sum_of_even_numbers = 0\n",
    "\n",
    "if N <= 0:\n",
    "    print(\"Please enter a positive integer.\")\n",
    "else:\n",
    "    i = 2 \n",
    "    while i <= N:\n",
    "        sum_of_even_numbers += i\n",
    "        i += 2\n",
    "\n",
    "    print(f\"The sum of even numbers between 1 and {N} is: {sum_of_even_numbers}\")"
   ]
  },
  {
   "cell_type": "markdown",
   "id": "df158613",
   "metadata": {},
   "source": [
    "### 26. Print Patterns: Write a Python program using nested for loops to print various patterns, such as a right-angled triangle, an inverted right-angled triangle, and so on."
   ]
  },
  {
   "cell_type": "code",
   "execution_count": 62,
   "id": "a9db4013",
   "metadata": {},
   "outputs": [
    {
     "name": "stdout",
     "output_type": "stream",
     "text": [
      "Enter the number of rows: 5\n",
      "* \n",
      "* * \n",
      "* * * \n",
      "* * * * \n",
      "* * * * * \n"
     ]
    }
   ],
   "source": [
    "rows = int(input(\"Enter the number of rows: \"))\n",
    "\n",
    "for i in range(1, rows + 1):\n",
    "    for j in range(1, i + 1):\n",
    "        print(\"*\", end=\" \")\n",
    "    print()"
   ]
  },
  {
   "cell_type": "code",
   "execution_count": 63,
   "id": "23489671",
   "metadata": {},
   "outputs": [
    {
     "name": "stdout",
     "output_type": "stream",
     "text": [
      "Enter the number of rows: 10\n",
      "* * * * * * * * * * \n",
      "* * * * * * * * * \n",
      "* * * * * * * * \n",
      "* * * * * * * \n",
      "* * * * * * \n",
      "* * * * * \n",
      "* * * * \n",
      "* * * \n",
      "* * \n",
      "* \n"
     ]
    }
   ],
   "source": [
    "rows = int(input(\"Enter the number of rows: \"))\n",
    "\n",
    "for i in range(rows, 0, -1):\n",
    "    for j in range(1, i + 1):\n",
    "        print(\"*\", end=\" \")\n",
    "    print()"
   ]
  },
  {
   "cell_type": "markdown",
   "id": "b7fce19e",
   "metadata": {},
   "source": [
    "### 27. Prime Number Checker: Write a Python program using a while loop to check if a given number N is prime or not."
   ]
  },
  {
   "cell_type": "code",
   "execution_count": 68,
   "id": "d4b9effb",
   "metadata": {},
   "outputs": [
    {
     "name": "stdout",
     "output_type": "stream",
     "text": [
      "Enter a positive integer (N): 53\n",
      "53 is a prime number.\n"
     ]
    }
   ],
   "source": [
    "N = int(input(\"Enter a positive integer (N): \"))\n",
    "\n",
    "if N < 2:\n",
    "    is_prime = False\n",
    "else:\n",
    "    is_prime = True\n",
    "    divisor = 2\n",
    "\n",
    "    while divisor * divisor <= N:\n",
    "        if N % divisor == 0:\n",
    "            is_prime = False\n",
    "            break\n",
    "        divisor += 1\n",
    "        \n",
    "if is_prime:\n",
    "    print(f\"{N} is a prime number.\")\n",
    "else:\n",
    "    print(f\"{N} is not a prime number.\")"
   ]
  },
  {
   "cell_type": "markdown",
   "id": "79baaf8a",
   "metadata": {},
   "source": [
    "### 28. List Manipulation: Given a list of integers, write a Python program using a for loop to find the sum, average, maximum, and minimum values in the list."
   ]
  },
  {
   "cell_type": "code",
   "execution_count": 72,
   "id": "83223a09",
   "metadata": {},
   "outputs": [
    {
     "name": "stdout",
     "output_type": "stream",
     "text": [
      "Enter a list of integers separated by spaces: 10 -10 50 30 -50\n",
      "Sum of the numbers: 30\n",
      "Average of the numbers: 6.0\n",
      "Maximum value: 50\n",
      "Minimum value: -50\n"
     ]
    }
   ],
   "source": [
    "num_list = input(\"Enter a list of integers separated by spaces: \").split()\n",
    "num_list = [int(x) for x in num_list]\n",
    "\n",
    "# Initializing variables for sum, maximum, and minimum\n",
    "sum_of_numbers = 0\n",
    "max_value = num_list[0]\n",
    "min_value = num_list[0]\n",
    "\n",
    "# Using a for loop to calculate the sum, maximum, and minimum\n",
    "for num in num_list:\n",
    "    sum_of_numbers += num\n",
    "    if num > max_value:\n",
    "        max_value = num\n",
    "    if num < min_value:\n",
    "        min_value = num\n",
    "\n",
    "# Calculate the average\n",
    "average = sum_of_numbers / len(num_list)\n",
    "\n",
    "print(f\"Sum of the numbers: {sum_of_numbers}\")\n",
    "print(f\"Average of the numbers: {average}\")\n",
    "print(f\"Maximum value: {max_value}\")\n",
    "print(f\"Minimum value: {min_value}\")"
   ]
  },
  {
   "cell_type": "markdown",
   "id": "f75c2370",
   "metadata": {},
   "source": [
    "### 29. Reverse String: Write a Python program using a while loop to reverse a given string."
   ]
  },
  {
   "cell_type": "code",
   "execution_count": 73,
   "id": "75b81004",
   "metadata": {},
   "outputs": [
    {
     "name": "stdout",
     "output_type": "stream",
     "text": [
      "Enter a string: abcdefg\n",
      "Reversed string: gfedcba\n"
     ]
    }
   ],
   "source": [
    "original_string = input(\"Enter a string: \")\n",
    "\n",
    "reversed_string = \"\"\n",
    "\n",
    "index = len(original_string) - 1\n",
    "\n",
    "while index >= 0:\n",
    "    reversed_string += original_string[index]\n",
    "    index -= 1\n",
    "\n",
    "print(\"Reversed string:\", reversed_string)"
   ]
  },
  {
   "cell_type": "markdown",
   "id": "0bc24442",
   "metadata": {},
   "source": [
    "## Nested Loops:\n",
    "### 30. Multiplication Table: Write a Python program using nested loops to print the multiplication table from 1 to 10."
   ]
  },
  {
   "cell_type": "code",
   "execution_count": 76,
   "id": "c7b1ccf0",
   "metadata": {
    "scrolled": false
   },
   "outputs": [
    {
     "name": "stdout",
     "output_type": "stream",
     "text": [
      "Multiplication table for 1:\n",
      "1 x 1 = 1\n",
      "1 x 2 = 2\n",
      "1 x 3 = 3\n",
      "1 x 4 = 4\n",
      "1 x 5 = 5\n",
      "1 x 6 = 6\n",
      "1 x 7 = 7\n",
      "1 x 8 = 8\n",
      "1 x 9 = 9\n",
      "1 x 10 = 10\n",
      "\n",
      "Multiplication table for 2:\n",
      "2 x 1 = 2\n",
      "2 x 2 = 4\n",
      "2 x 3 = 6\n",
      "2 x 4 = 8\n",
      "2 x 5 = 10\n",
      "2 x 6 = 12\n",
      "2 x 7 = 14\n",
      "2 x 8 = 16\n",
      "2 x 9 = 18\n",
      "2 x 10 = 20\n",
      "\n",
      "Multiplication table for 3:\n",
      "3 x 1 = 3\n",
      "3 x 2 = 6\n",
      "3 x 3 = 9\n",
      "3 x 4 = 12\n",
      "3 x 5 = 15\n",
      "3 x 6 = 18\n",
      "3 x 7 = 21\n",
      "3 x 8 = 24\n",
      "3 x 9 = 27\n",
      "3 x 10 = 30\n",
      "\n",
      "Multiplication table for 4:\n",
      "4 x 1 = 4\n",
      "4 x 2 = 8\n",
      "4 x 3 = 12\n",
      "4 x 4 = 16\n",
      "4 x 5 = 20\n",
      "4 x 6 = 24\n",
      "4 x 7 = 28\n",
      "4 x 8 = 32\n",
      "4 x 9 = 36\n",
      "4 x 10 = 40\n",
      "\n",
      "Multiplication table for 5:\n",
      "5 x 1 = 5\n",
      "5 x 2 = 10\n",
      "5 x 3 = 15\n",
      "5 x 4 = 20\n",
      "5 x 5 = 25\n",
      "5 x 6 = 30\n",
      "5 x 7 = 35\n",
      "5 x 8 = 40\n",
      "5 x 9 = 45\n",
      "5 x 10 = 50\n",
      "\n",
      "Multiplication table for 6:\n",
      "6 x 1 = 6\n",
      "6 x 2 = 12\n",
      "6 x 3 = 18\n",
      "6 x 4 = 24\n",
      "6 x 5 = 30\n",
      "6 x 6 = 36\n",
      "6 x 7 = 42\n",
      "6 x 8 = 48\n",
      "6 x 9 = 54\n",
      "6 x 10 = 60\n",
      "\n",
      "Multiplication table for 7:\n",
      "7 x 1 = 7\n",
      "7 x 2 = 14\n",
      "7 x 3 = 21\n",
      "7 x 4 = 28\n",
      "7 x 5 = 35\n",
      "7 x 6 = 42\n",
      "7 x 7 = 49\n",
      "7 x 8 = 56\n",
      "7 x 9 = 63\n",
      "7 x 10 = 70\n",
      "\n",
      "Multiplication table for 8:\n",
      "8 x 1 = 8\n",
      "8 x 2 = 16\n",
      "8 x 3 = 24\n",
      "8 x 4 = 32\n",
      "8 x 5 = 40\n",
      "8 x 6 = 48\n",
      "8 x 7 = 56\n",
      "8 x 8 = 64\n",
      "8 x 9 = 72\n",
      "8 x 10 = 80\n",
      "\n",
      "Multiplication table for 9:\n",
      "9 x 1 = 9\n",
      "9 x 2 = 18\n",
      "9 x 3 = 27\n",
      "9 x 4 = 36\n",
      "9 x 5 = 45\n",
      "9 x 6 = 54\n",
      "9 x 7 = 63\n",
      "9 x 8 = 72\n",
      "9 x 9 = 81\n",
      "9 x 10 = 90\n",
      "\n",
      "Multiplication table for 10:\n",
      "10 x 1 = 10\n",
      "10 x 2 = 20\n",
      "10 x 3 = 30\n",
      "10 x 4 = 40\n",
      "10 x 5 = 50\n",
      "10 x 6 = 60\n",
      "10 x 7 = 70\n",
      "10 x 8 = 80\n",
      "10 x 9 = 90\n",
      "10 x 10 = 100\n",
      "\n"
     ]
    }
   ],
   "source": [
    "for i in range(1, 11):\n",
    "    print(f\"Multiplication table for {i}:\")\n",
    "\n",
    "    for j in range(1, 11):\n",
    "        result = i * j\n",
    "        print(f\"{i} x {j} = {result}\")\n",
    "\n",
    "    print()  # Add a blank line to separate tables"
   ]
  },
  {
   "cell_type": "markdown",
   "id": "270e1484",
   "metadata": {},
   "source": [
    "### 31. Print Patterns: Write a Python program using nested loops to print the following pattern:"
   ]
  },
  {
   "cell_type": "code",
   "execution_count": 77,
   "id": "ac48ee13",
   "metadata": {},
   "outputs": [
    {
     "name": "stdout",
     "output_type": "stream",
     "text": [
      "Enter the number of rows for pattern: 5\n",
      "*\n",
      "**\n",
      "***\n",
      "****\n",
      "*****\n"
     ]
    }
   ],
   "source": [
    "rows = int(input(\"Enter the number of rows for pattern: \"))\n",
    "\n",
    "for row in range(1, rows+1):\n",
    "    print(row*\"*\")"
   ]
  },
  {
   "cell_type": "markdown",
   "id": "7d95fb5d",
   "metadata": {},
   "source": [
    "### 32. Matrix Multiplication: Write a Python program using nested loops to multiply two matrices."
   ]
  },
  {
   "cell_type": "code",
   "execution_count": null,
   "id": "48d626ea",
   "metadata": {},
   "outputs": [
    {
     "name": "stdout",
     "output_type": "stream",
     "text": [
      "Enter the number of rows for matrix A: 2\n",
      "Enter the number of columns for matrix A and the number of rows for matrix B: 2\n",
      "Enter the number of columns for matrix B: 2\n",
      "Enter values for matrix A:\n",
      "Enter the value for A[1][1]: 2\n",
      "Enter the value for A[1][2]: 3\n",
      "Enter the value for A[2][1]: 4\n",
      "Enter the value for A[2][2]: 5\n",
      "Enter values for matrix B:\n"
     ]
    }
   ],
   "source": [
    "# Input the dimensions of the matrices\n",
    "m = int(input(\"Enter the number of rows for matrix A: \"))\n",
    "n = int(input(\"Enter the number of columns for matrix A and the number of rows for matrix B: \"))\n",
    "p = int(input(\"Enter the number of columns for matrix B: \"))\n",
    "\n",
    "# Initialize matrices A and B with zeros\n",
    "matrix_A = []\n",
    "matrix_B = []\n",
    "\n",
    "# Input values for matrix A\n",
    "print(\"Enter values for matrix A:\")\n",
    "for i in range(m):\n",
    "    row = []\n",
    "    for j in range(n):\n",
    "        value = float(input(f\"Enter the value for A[{i+1}][{j+1}]: \"))\n",
    "        row.append(value)\n",
    "    matrix_A.append(row)\n",
    "\n",
    "# Input values for matrix B\n",
    "print(\"Enter values for matrix B:\")\n",
    "for i in range(n):\n",
    "    row = []\n",
    "    for j in range(p):\n",
    "        value = float(input(f\"Enter the value for B[{i+1}][{j+1}]: \"))\n",
    "        row.append(value)\n",
    "    matrix_B.append(row)\n",
    "\n",
    "# Initialize the result matrix C with zeros\n",
    "matrix_C = [[0 for _ in range(p)] for _ in range(m)]\n",
    "\n",
    "# Multiply matrices A and B\n",
    "for i in range(m):\n",
    "    for j in range(p):\n",
    "        for k in range(n):\n",
    "            matrix_C[i][j] += matrix_A[i][k] * matrix_B[k][j]\n",
    "\n",
    "# Print the result matrix C\n",
    "print(\"\\nMatrix A:\")\n",
    "for row in matrix_A:\n",
    "    print(row)\n",
    "\n",
    "print(\"\\nMatrix B:\")\n",
    "for row in matrix_B:\n",
    "    print(row)\n",
    "\n",
    "print(\"\\nMatrix C (A x B):\")\n",
    "for row in matrix_C:\n",
    "    print(row)"
   ]
  },
  {
   "cell_type": "code",
   "execution_count": null,
   "id": "d076c3a7",
   "metadata": {},
   "outputs": [],
   "source": []
  }
 ],
 "metadata": {
  "kernelspec": {
   "display_name": "Python 3 (ipykernel)",
   "language": "python",
   "name": "python3"
  },
  "language_info": {
   "codemirror_mode": {
    "name": "ipython",
    "version": 3
   },
   "file_extension": ".py",
   "mimetype": "text/x-python",
   "name": "python",
   "nbconvert_exporter": "python",
   "pygments_lexer": "ipython3",
   "version": "3.11.4"
  }
 },
 "nbformat": 4,
 "nbformat_minor": 5
}
